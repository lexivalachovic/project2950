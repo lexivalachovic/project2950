{
 "cells": [
  {
   "cell_type": "markdown",
   "metadata": {},
   "source": [
    "Research Questions:\n",
    "How valuable was Derek Jeter to the NY Yankees?\n",
    "How much did Derek Jeter contribute to the wins?"
   ]
  },
  {
   "cell_type": "markdown",
   "metadata": {},
   "source": [
    "Data Description\n",
    "\n",
    "RSLT - Result: Win or Loss, tracks whether the baseball game played was a win or a loss for the team\n",
    "\n",
    "H - hits, tracks how many hits Derek Jeter had in a given game. A hit, also called a base hit, is credited to a batter when the batter safely reaches or passes first base after hitting the ball into fair territory, without the benefit of an error or a fielder's choice\n",
    "\n",
    "HR - home runs, tracks how many home runs Derek Jeter had in a given game. A home run is scored when the ball is hit in such a way that the batter is able to circle the bases and reach home safely in one play without any errors being committed by the defensive team in the process\n",
    "\n",
    "SB - stolen base, tracks how many bases Derek Jeter had in a given game. A stolen base occurs when a baserunner advances by taking a base to which he isn't entitled. This generally occurs when a pitcher is throwing a pitch, but it can also occur while the pitcher still has the ball or is attempting a pickoff, or as the catcher is throwing the ball back to the pitcher.\n",
    "\n",
    "BB - base on balls (walk) tracks how many walks Derek Jeter had in a given game. A base on balls, also known as a walk, occurs in baseball when a batter receives four pitches that the umpire calls balls, and is in turn awarded first base without the possibility of being called out\n",
    "\n",
    "WPA - win probability added, tracks Derek Jeter’s win probability added in a given game. Win probability added is a sport statistic which attempts to measure a player's contribution to a win by figuring the factor by which each specific play made by that player has altered the outcome of a game.\n",
    "\n",
    "What are the observations (rows) and the attributes (columns)?\n",
    "-- Each row represents a single game for the 20 seasons he played baseball. The columns each represent a different record of data, or a calculated statistic as explained above.\n",
    "\n",
    "Why was this dataset created?\n",
    "-- This data set was created for the purpose of tracking New York Yankees player, Derek Jeter. He was an outstanding player and these statistics were compiled together after each game, each season to allow MLB fans to look back on the result and statistics of the game, and to look at the individual players success.\n",
    "\n",
    "What processes might have influenced what data was observed and recorded and what was not?\n",
    "-- Any data that is considered a significant play is recorded. Whenever a player gets a hit, a homerun, times up to bat, etc. The dataset that we are utilizing is a batting log, so only plays that happen while up to bat or on base are recorded.\n",
    "\n",
    "What preprocessing was done, and how did the data come to be in the form that you are using?\n",
    "-- The only preprocessed variable in our usage of the dataset is the WPA, win probability added. This is calculated using the data collected throughout the game. We included this in our dataset to compare how much the variables we choose contributed to the actual win probability added.\n",
    "\n",
    "If people are involved, were they aware of the data collection and if so, what purpose did they expect the data to be used for?\n",
    "-- Yes, collecting sports statistics happens at every major league sporting event and even lower levels. The statistics and data are used for many different purposes. The data that is collected and analyzed is used to help increase fan experience and attendance from year to year. Sports analytics are crucial to many teams by helping them become their best through interpretation and analysis of statistics gained in games.\n",
    "\n",
    "Who funded the creation of the dataset?\n",
    "-- "
   ]
  },
  {
   "cell_type": "markdown",
   "metadata": {},
   "source": [
    "Data Collection and Cleaning\n",
    "\n",
    "To collect our data, we scraped online databases of baseball statistics in order to pull all of Derek Jeter’s in game statistics on a game by game basis for every game of his career ranging from 1995 to 2014. This data contained all of his batting statistics including variables such as OPS, BA, CS, GDP, SH, SF, HBP, SO, IBB, RE24, cWPA, and other such acronyms relating to baseball measurements. However, not all of these variables are applicable or comparable in regards to the type of inferences we are trying to make. Thus, in our data cleaning process, we first evaluated which of the variables would be appropriate and comparable for our studies. We came up with a final list of variables including home runs, hits, game result, stolen bases, base on balls, and win probability added. These variables are unique in that they are recorded on a game by game basis and do not accumulate, unlike some of the other variables that were included in the stat sheet. Then, with these specific statistics chosen, we cleaned the data by simply excluding the statistics that we did not want, and then combining the statistics that we did want into a single dataframe which is easily processable and neat. Through this process, we cut our dataset from 38 columns over 19 dataframes to a more readable six columns all in one dataframe. \n"
   ]
  },
  {
   "cell_type": "markdown",
   "metadata": {},
   "source": [
    "Data Limitations\n",
    "Baseball statistics are inherently limited in the scope of what they measure. Thus, our dataset can only provide limited conclusions as well. This dataset could include many other statistics if it were to be complete and provide the best, most accurate conclusions, but due to the difficulty of processing so many variables and the time constraints of this project, we chose only the most important ones. There is the possibility that there is human error in recording the information, and it is possible that the older statistics from 1995 are not as precise as the ones gathered more recently, given new technology in sports statistic reporting and recording. \n"
   ]
  },
  {
   "cell_type": "code",
   "execution_count": 22,
   "metadata": {},
   "outputs": [],
   "source": [
    "import numpy as np\n",
    "import matplotlib.pyplot as plt\n",
    "import pandas as pd\n",
    "import seaborn as sns\n",
    "from scipy import stats\n",
    "from   sklearn.linear_model import LinearRegression, LogisticRegression\n",
    "from   sklearn.model_selection import train_test_split\n",
    "import statsmodels.formula.api as smf"
   ]
  },
  {
   "cell_type": "code",
   "execution_count": 23,
   "metadata": {},
   "outputs": [],
   "source": [
    "jeter = pd.read_csv(\"JeterStats.csv\")"
   ]
  },
  {
   "cell_type": "code",
   "execution_count": 24,
   "metadata": {},
   "outputs": [
    {
     "name": "stdout",
     "output_type": "stream",
     "text": [
      "-0.1196\n",
      "There is a slight negative correlation between the number of walks Derek Jeter had and the number of hits that he had\n"
     ]
    }
   ],
   "source": [
    "walks = np.array(jeter.loc[:,\"BB\"])\n",
    "hits = np.array(jeter.loc[:,\"H\"])\n",
    "correlation_bb_hits = np.corrcoef(walks,hits)\n",
    "print(round(correlation_bb_hits[0][1],4))\n",
    "print(\"There is a slight negative correlation between the number of walks Derek Jeter had and the number of hits that he had\")"
   ]
  },
  {
   "cell_type": "code",
   "execution_count": 25,
   "metadata": {},
   "outputs": [
    {
     "name": "stdout",
     "output_type": "stream",
     "text": [
      "0.1658\n",
      "There is a slight positive correlation between the number of stolen bases Derek Jeter had and the number of hits he had\n"
     ]
    }
   ],
   "source": [
    "sb = np.array(jeter.loc[:,\"SB\"])\n",
    "hits = np.array(jeter.loc[:,\"H\"])\n",
    "correlation_sb_hits = np.corrcoef(sb,hits)\n",
    "print(round(correlation_sb_hits[0][1],4))\n",
    "print(\"There is a slight positive correlation between the number of stolen bases Derek Jeter had and the number of hits he had\")"
   ]
  },
  {
   "cell_type": "code",
   "execution_count": 26,
   "metadata": {},
   "outputs": [
    {
     "name": "stdout",
     "output_type": "stream",
     "text": [
      "0.1658\n",
      "There is a slight positive correlation between the number of stolen bases Derek Jeter had and the number of hits he had\n"
     ]
    }
   ],
   "source": [
    "sb = np.array(jeter.loc[:,\"SB\"])\n",
    "hits = np.array(jeter.loc[:,\"H\"])\n",
    "correlation_sb_hits = np.corrcoef(sb,hits)\n",
    "print(round(correlation_sb_hits[0][1],4))\n",
    "print(\"There is a slight positive correlation between the number of stolen bases Derek Jeter had and the number of hits he had\")"
   ]
  },
  {
   "cell_type": "code",
   "execution_count": 34,
   "metadata": {},
   "outputs": [
    {
     "data": {
      "text/plain": [
       "array([0.15274927])"
      ]
     },
     "execution_count": 34,
     "metadata": {},
     "output_type": "execute_result"
    }
   ],
   "source": [
    "real_slope = 0.1658\n",
    "real_x = np.array(jeter.loc[:,'SB'])\n",
    "noise = np.random.normal(0,0.5, size=len(jeter.loc[:,\"SB\"]))\n",
    "real_y = real_x * real_slope  +  noise\n",
    "df = pd.DataFrame({\"SB\": real_x, \"H\": real_y})\n",
    "model = LinearRegression().fit(df[[\"SB\"]], df[\"H\"])\n",
    "model.coef_"
   ]
  },
  {
   "cell_type": "markdown",
   "metadata": {},
   "source": [
    "The observed slope is slightly less than the real slope because of the added noise and unpredictability of said noise"
   ]
  },
  {
   "cell_type": "code",
   "execution_count": 35,
   "metadata": {},
   "outputs": [
    {
     "data": {
      "image/png": "[encoded data removed]",
      "text/plain": [
       "<Figure size 432x288 with 1 Axes>"
      ]
     },
     "metadata": {
      "needs_background": "light"
     },
     "output_type": "display_data"
    }
   ],
   "source": [
    "sns.regplot(x='SB', y='H', data=df);"
   ]
  },
  {
   "cell_type": "code",
   "execution_count": 12,
   "metadata": {},
   "outputs": [
    {
     "data": {
      "text/plain": [
       "Text(0, 0.5, 'Homeruns')"
      ]
     },
     "execution_count": 12,
     "metadata": {},
     "output_type": "execute_result"
    },
    {
     "data": {
      "image/png": "[encoded data removed]",
      "text/plain": [
       "<Figure size 432x288 with 1 Axes>"
      ]
     },
     "metadata": {
      "needs_background": "light"
     },
     "output_type": "display_data"
    }
   ],
   "source": [
    "plt.scatter(jeter.H, jeter.HR, alpha=0.3)\n",
    "plt.xlabel('Hits')\n",
    "plt.ylabel('Homeruns')"
   ]
  },
  {
   "cell_type": "code",
   "execution_count": 157,
   "metadata": {},
   "outputs": [
    {
     "name": "stdout",
     "output_type": "stream",
     "text": [
      "Mean WPA: 0.011262\n"
     ]
    }
   ],
   "source": [
    "contribute = jeter.WPA.mean()\n",
    "print('Mean WPA: {:.6f}'.format(contribute))"
   ]
  },
  {
   "cell_type": "code",
   "execution_count": 158,
   "metadata": {},
   "outputs": [
    {
     "data": {
      "text/plain": [
       "Text(0, 0.5, 'Walks')"
      ]
     },
     "execution_count": 158,
     "metadata": {},
     "output_type": "execute_result"
    },
    {
     "data": {
      "image/png": "[encoded data removed]",
      "text/plain": [
       "<Figure size 432x288 with 1 Axes>"
      ]
     },
     "metadata": {
      "needs_background": "light"
     },
     "output_type": "display_data"
    }
   ],
   "source": [
    "plt.scatter(jeter.H, jeter.BB, alpha=0.5)\n",
    "plt.xlabel('Hits')\n",
    "plt.ylabel('Walks')"
   ]
  },
  {
   "cell_type": "code",
   "execution_count": 159,
   "metadata": {},
   "outputs": [],
   "source": [
    "jeter['win'] = jeter.Rslt.apply(lambda x: 1 if 'W' in x else 0)"
   ]
  },
  {
   "cell_type": "code",
   "execution_count": 160,
   "metadata": {},
   "outputs": [
    {
     "data": {
      "text/html": [
       "<div>\n",
       "<style scoped>\n",
       "    .dataframe tbody tr th:only-of-type {\n",
       "        vertical-align: middle;\n",
       "    }\n",
       "\n",
       "    .dataframe tbody tr th {\n",
       "        vertical-align: top;\n",
       "    }\n",
       "\n",
       "    .dataframe thead th {\n",
       "        text-align: right;\n",
       "    }\n",
       "</style>\n",
       "<table border=\"1\" class=\"dataframe\">\n",
       "  <thead>\n",
       "    <tr style=\"text-align: right;\">\n",
       "      <th></th>\n",
       "      <th>Rslt</th>\n",
       "      <th>H</th>\n",
       "      <th>HR</th>\n",
       "      <th>SB</th>\n",
       "      <th>BB</th>\n",
       "      <th>WPA</th>\n",
       "      <th>win</th>\n",
       "    </tr>\n",
       "  </thead>\n",
       "  <tbody>\n",
       "    <tr>\n",
       "      <th>0</th>\n",
       "      <td>L,2-6</td>\n",
       "      <td>1</td>\n",
       "      <td>0</td>\n",
       "      <td>0</td>\n",
       "      <td>0</td>\n",
       "      <td>0.026</td>\n",
       "      <td>0</td>\n",
       "    </tr>\n",
       "    <tr>\n",
       "      <th>1</th>\n",
       "      <td>L,1-3</td>\n",
       "      <td>0</td>\n",
       "      <td>0</td>\n",
       "      <td>0</td>\n",
       "      <td>1</td>\n",
       "      <td>-0.051</td>\n",
       "      <td>0</td>\n",
       "    </tr>\n",
       "    <tr>\n",
       "      <th>2</th>\n",
       "      <td>W,4-2</td>\n",
       "      <td>1</td>\n",
       "      <td>0</td>\n",
       "      <td>0</td>\n",
       "      <td>1</td>\n",
       "      <td>0.089</td>\n",
       "      <td>1</td>\n",
       "    </tr>\n",
       "    <tr>\n",
       "      <th>3</th>\n",
       "      <td>L,0-4</td>\n",
       "      <td>0</td>\n",
       "      <td>0</td>\n",
       "      <td>0</td>\n",
       "      <td>2</td>\n",
       "      <td>0.180</td>\n",
       "      <td>0</td>\n",
       "    </tr>\n",
       "    <tr>\n",
       "      <th>4</th>\n",
       "      <td>W,6-4</td>\n",
       "      <td>2</td>\n",
       "      <td>0</td>\n",
       "      <td>0</td>\n",
       "      <td>0</td>\n",
       "      <td>0.007</td>\n",
       "      <td>1</td>\n",
       "    </tr>\n",
       "  </tbody>\n",
       "</table>\n",
       "</div>"
      ],
      "text/plain": [
       "    Rslt  H  HR  SB  BB    WPA  win\n",
       "0  L,2-6  1   0   0   0  0.026    0\n",
       "1  L,1-3  0   0   0   1 -0.051    0\n",
       "2  W,4-2  1   0   0   1  0.089    1\n",
       "3  L,0-4  0   0   0   2  0.180    0\n",
       "4  W,6-4  2   0   0   0  0.007    1"
      ]
     },
     "execution_count": 160,
     "metadata": {},
     "output_type": "execute_result"
    }
   ],
   "source": [
    "jeter.head()"
   ]
  },
  {
   "cell_type": "code",
   "execution_count": 161,
   "metadata": {},
   "outputs": [],
   "source": [
    "jeter_win_subset = jeter[jeter['win']==1]\n",
    "jeter_loss_subset = jeter[jeter['win']==0]"
   ]
  },
  {
   "cell_type": "code",
   "execution_count": 168,
   "metadata": {},
   "outputs": [
    {
     "name": "stdout",
     "output_type": "stream",
     "text": [
      "Jeter's Average # of hits in a WIN: 1.4097\n",
      "Jeter's Average # of hits in a LOSS: 1.0456\n",
      "Jeter's Average # of hits: 1.2614\n"
     ]
    }
   ],
   "source": [
    "h1 = jeter_win_subset[\"H\"].mean()\n",
    "h2 = jeter_loss_subset[\"H\"].mean()\n",
    "h3 = jeter[\"H\"].mean()\n",
    "print(\"Jeter's Average # of hits in a WIN: {:.4f}\".format(h1))\n",
    "print(\"Jeter's Average # of hits in a LOSS: {:.4f}\".format(h2))\n",
    "print(\"Jeter's Average # of hits in any game: {:.4f}\".format(h3))"
   ]
  },
  {
   "cell_type": "code",
   "execution_count": 174,
   "metadata": {
    "scrolled": true
   },
   "outputs": [
    {
     "name": "stdout",
     "output_type": "stream",
     "text": [
      "Jeter's STD of hits in a WIN: 0.9841\n",
      "Jeter's STD of hits in a LOSS: 0.9035\n",
      "Jeter's STD of hits in any game: 0.9686\n"
     ]
    }
   ],
   "source": [
    "hsd1 = jeter_win_subset[\"H\"].std()\n",
    "hsd2 = jeter_loss_subset[\"H\"].std()\n",
    "hsd3 = jeter[\"H\"].std()\n",
    "print(\"Jeter's STD of hits in a WIN: {:.4f}\".format(hsd1))\n",
    "print(\"Jeter's STD of hits in a LOSS: {:.4f}\".format(hsd2))\n",
    "print(\"Jeter's STD of hits in any game: {:.4f}\".format(hsd3))"
   ]
  },
  {
   "cell_type": "code",
   "execution_count": 170,
   "metadata": {},
   "outputs": [
    {
     "name": "stdout",
     "output_type": "stream",
     "text": [
      "Jeter's Average # of home runs in a WIN: 0.1161\n",
      "Jeter's Average # of home runs in a LOSS: 0.0634\n",
      "Jeter's Average # of home runs in any game: 0.0946\n"
     ]
    }
   ],
   "source": [
    "hr1 = jeter_win_subset[\"HR\"].mean()\n",
    "hr2 = jeter_loss_subset[\"HR\"].mean()\n",
    "hr3 = jeter[\"HR\"].mean()\n",
    "print(\"Jeter's Average # of home runs in a WIN: {:.4f}\".format(hr1))\n",
    "print(\"Jeter's Average # of home runs in a LOSS: {:.4f}\".format(hr2))\n",
    "print(\"Jeter's Average # of home runs in any game: {:.4f}\".format(hr3))"
   ]
  },
  {
   "cell_type": "code",
   "execution_count": 176,
   "metadata": {},
   "outputs": [
    {
     "name": "stdout",
     "output_type": "stream",
     "text": [
      "Jeter's STD of home runs in a WIN: 0.3391\n",
      "Jeter's STD of home runs in a LOSS: 0.2439\n",
      "Jeter's STD of home runs in any game: 0.3050\n"
     ]
    }
   ],
   "source": [
    "hrsd1 = jeter_win_subset[\"HR\"].std()\n",
    "hrsd2 = jeter_loss_subset[\"HR\"].std()\n",
    "hrsd3 = jeter[\"HR\"].std()\n",
    "print(\"Jeter's STD of home runs in a WIN: {:.4f}\".format(hrsd1))\n",
    "print(\"Jeter's STD of home runs in a LOSS: {:.4f}\".format(hrsd2))\n",
    "print(\"Jeter's STD of home runs in any game: {:.4f}\".format(hrsd3))"
   ]
  },
  {
   "cell_type": "code",
   "execution_count": 171,
   "metadata": {},
   "outputs": [
    {
     "name": "stdout",
     "output_type": "stream",
     "text": [
      "Jeter's Average # of stolen bases in a WIN: 0.1493\n",
      "Jeter's Average # of stolen bases in a LOSS: 0.1028\n",
      "Jeter's Average # of stolen bases in any game: 0.1303\n"
     ]
    }
   ],
   "source": [
    "sb1 = jeter_win_subset[\"SB\"].mean()\n",
    "sb2 = jeter_loss_subset[\"SB\"].mean()\n",
    "sb3 = jeter[\"SB\"].mean()\n",
    "print(\"Jeter's Average # of stolen bases in a WIN: {:.4f}\".format(sb1))\n",
    "print(\"Jeter's Average # of stolen bases in a LOSS: {:.4f}\".format(sb2))\n",
    "print(\"Jeter's Average # of stolen bases in any game: {:.4f}\".format(sb3))"
   ]
  },
  {
   "cell_type": "code",
   "execution_count": 177,
   "metadata": {},
   "outputs": [
    {
     "name": "stdout",
     "output_type": "stream",
     "text": [
      "Jeter's STD of stolen bases in a WIN: 0.3894\n",
      "Jeter's STD of stolen bases in a LOSS: 0.3210\n",
      "Jeter's STD of stolen bases in any game: 0.3638\n"
     ]
    }
   ],
   "source": [
    "sbsd1 = jeter_win_subset[\"SB\"].std()\n",
    "sbsd2 = jeter_loss_subset[\"SB\"].std()\n",
    "sbsd3 = jeter[\"SB\"].std()\n",
    "print(\"Jeter's STD of stolen bases in a WIN: {:.4f}\".format(sbsd1))\n",
    "print(\"Jeter's STD of stolen bases in a LOSS: {:.4f}\".format(sbsd2))\n",
    "print(\"Jeter's STD of stolen bases in any game: {:.4f}\".format(sbsd3))"
   ]
  },
  {
   "cell_type": "code",
   "execution_count": 172,
   "metadata": {},
   "outputs": [
    {
     "name": "stdout",
     "output_type": "stream",
     "text": [
      "Jeter's Average # of walks in a WIN: 0.4238\n",
      "Jeter's Average # of walks in a LOSS: 0.3503\n",
      "Jeter's Average # of walks in any game: 0.3939\n"
     ]
    }
   ],
   "source": [
    "bb1 = jeter_win_subset[\"BB\"].mean()\n",
    "bb2 = jeter_loss_subset[\"BB\"].mean()\n",
    "bb3 = jeter[\"BB\"].mean()\n",
    "print(\"Jeter's Average # of walks in a WIN: {:.4f}\".format(bb1))\n",
    "print(\"Jeter's Average # of walks in a LOSS: {:.4f}\".format(bb2))\n",
    "print(\"Jeter's Average # of walks in any game: {:.4f}\".format(bb3))"
   ]
  },
  {
   "cell_type": "code",
   "execution_count": 179,
   "metadata": {},
   "outputs": [
    {
     "name": "stdout",
     "output_type": "stream",
     "text": [
      "Jeter's STD of hits in a WIN: 0.6472\n",
      "Jeter's STD of hits in a LOSS: 0.5804\n",
      "Jeter's STD of hits in any game: 0.6218\n"
     ]
    }
   ],
   "source": [
    "bbsd1 = jeter_win_subset[\"BB\"].std()\n",
    "bbsd2 = jeter_loss_subset[\"BB\"].std()\n",
    "bbsd3 = jeter[\"BB\"].std()\n",
    "print(\"Jeter's STD of hits in a WIN: {:.4f}\".format(bbsd1))\n",
    "print(\"Jeter's STD of hits in a LOSS: {:.4f}\".format(bbsd2))\n",
    "print(\"Jeter's STD of hits in any game: {:.4f}\".format(bbsd3))"
   ]
  },
  {
   "cell_type": "code",
   "execution_count": 173,
   "metadata": {},
   "outputs": [
    {
     "name": "stdout",
     "output_type": "stream",
     "text": [
      "Jeter's Average win probability added in a WIN: 0.0336\n",
      "Jeter's Average win probability added in a LOSS: -0.0212\n",
      "Jeter's Average win probability added in any game: 0.0113\n"
     ]
    }
   ],
   "source": [
    "wpa1 = jeter_win_subset[\"WPA\"].mean()\n",
    "wpa2 = jeter_loss_subset[\"WPA\"].mean()\n",
    "wpa3 = jeter[\"WPA\"].mean()\n",
    "print(\"Jeter's Average win probability added in a WIN: {:.4f}\".format(wpa1))\n",
    "print(\"Jeter's Average win probability added in a LOSS: {:.4f}\".format(wpa2))\n",
    "print(\"Jeter's Average win probability added in any game: {:.4f}\".format(wpa3))"
   ]
  },
  {
   "cell_type": "code",
   "execution_count": 180,
   "metadata": {},
   "outputs": [
    {
     "name": "stdout",
     "output_type": "stream",
     "text": [
      "Jeter's STD of win probability added in a WIN: 0.1088\n",
      "Jeter's STD of win probability added in a LOSS: 0.0988\n",
      "Jeter's STD of win probability added in any game: 0.1083\n"
     ]
    }
   ],
   "source": [
    "wpasd1 = jeter_win_subset[\"WPA\"].std()\n",
    "wpasd2 = jeter_loss_subset[\"WPA\"].std()\n",
    "wpasd3 = jeter[\"WPA\"].std()\n",
    "print(\"Jeter's STD of win probability added in a WIN: {:.4f}\".format(wpasd1))\n",
    "print(\"Jeter's STD of win probability added in a LOSS: {:.4f}\".format(wpasd2))\n",
    "print(\"Jeter's STD of win probability added in any game: {:.4f}\".format(wpasd3))"
   ]
  },
  {
   "cell_type": "markdown",
   "metadata": {},
   "source": [
    "Questions for reviewers:\n",
    "How can we compare the stats to the wins and losses?\n",
    "Should we include stats where he hurt the team?"
   ]
  }
 ],
 "metadata": {
  "kernelspec": {
   "display_name": "Python 3",
   "language": "python",
   "name": "python3"
  },
  "language_info": {
   "codemirror_mode": {
    "name": "ipython",
    "version": 3
   },
   "file_extension": ".py",
   "mimetype": "text/x-python",
   "name": "python",
   "nbconvert_exporter": "python",
   "pygments_lexer": "ipython3",
   "version": "3.7.6"
  }
 },
 "nbformat": 4,
 "nbformat_minor": 4
}
