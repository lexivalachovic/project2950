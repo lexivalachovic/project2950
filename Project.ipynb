{
 "cells": [
  {
   "cell_type": "markdown",
   "metadata": {},
   "source": [
    "# Derek Jeter: Jack of all Trades?\n",
    "##### Wally Chang, Lexi Valachovic, Matt Maitland"
   ]
  },
  {
   "cell_type": "markdown",
   "metadata": {},
   "source": [
    "### Derek Sanderson Jeter is an American former professional baseball shortstop, businessman, and baseball executive. As a player, Jeter spent his entire 20-year MLB career with the New York Yankees. Nicknamed \"The Captain\", Derek Jeter is soon to be inducted into the MLB Hall of Fame. There's no denying he was an amazing player, arguably the best player to ever play the shortstop position, a defensive position. But in baseball, there's two sides to the game. We will analyze Derek Jeter's batting (offensive) performance over his career to see if he can succeed as a batter as well as a shortstop. The shortstop positions himself between the third baseman and the second-base bag. Shortstops are an integral component of turning double plays. On balls hit to the left side of the infield, a shortstop must cleanly field the ball and accurately throw it to the second baseman covering the second-base bag. To find out if Jeter can do it all, we first selected  group of offensive baseball stats from Derek Jeter's career to first look at him individually. Then we pulled in other Yankees players to see if his offensive skills matched his teammates. As we furthered our investigation we found that he contributed more to the game as a fielder than a batter. He is not a power hitter and is unlikely to get a homerun when he is up to bat. He fell short in homeruns when compared to other players, but overall still contributed more to a win in the selected season through his fielding performance."
   ]
  },
  {
   "cell_type": "markdown",
   "metadata": {},
   "source": [
    "# Abstract"
   ]
  },
  {
   "cell_type": "markdown",
   "metadata": {},
   "source": [
    "In this exploration, we applied various statistical evaluation techniques to a select group of offensive baseball stats from Derek Jeter's career in order to, first: analyze which one of his stats contributed most to Yankees game wins, and to, second: determine whether Jeter's career and stats stack up against other great baseball players in his era (specifically Alex Rodriguez, Nomar Garciaparra, and Bernie Williams). \n",
    "\n",
    "This exploration is organized as follows\n",
    "1. Research Questions and Data Description \n",
    "***\n",
    "2. Preregistration of Analyses\n",
    "***\n",
    "3. Jeter Calculations and Statistical Tests: An examination of Jeter's stats, which one contributed most to Yankees wins?\n",
    "***\n",
    "4. Jeter's Yearly Stats: Determining Jeter's best stat year, so that player-player comparisons can be made later on based on said year. \n",
    "***\n",
    "5. Comparing Jeter to Rodriguez: Comparing the careers of Jeter and Rodriguez to see who was greater over the long run\n",
    "***\n",
    "6. Comparing Jeter to Williams and Garciaparra: Specifically focusing on Jeter's best batting season (1999), comparing Jeter's batting statistics to other great batters in that year, Bernie Williams and Nomar Garciaparra"
   ]
  },
  {
   "cell_type": "markdown",
   "metadata": {},
   "source": [
    "# Research Questions"
   ]
  },
  {
   "cell_type": "markdown",
   "metadata": {},
   "source": [
    "How valuable was Derek Jeter to the NY Yankees when up to bat?\n",
    "\n",
    "How much did Derek Jeter contribute to the wins based on the batting variables we chose to include?\n",
    "\n",
    "Looking at other players, was Derek Jeter significantly better at getting a win? Did he contribute more?"
   ]
  },
  {
   "cell_type": "markdown",
   "metadata": {},
   "source": [
    "# Data Description\n"
   ]
  },
  {
   "cell_type": "markdown",
   "metadata": {},
   "source": [
    "Year - the season the data is from.\n",
    "\n",
    "RSLT - Result: Win or Loss, tracks whether the baseball game played was a win or a loss for the team\n",
    "\n",
    "H - hits, tracks how many hits Derek Jeter had in a given game. A hit, also called a base hit, is credited to a batter when the batter safely reaches or passes first base after hitting the ball into fair territory, without the benefit of an error or a fielder's choice\n",
    "\n",
    "PA - Plate appearances, a plate appearance refers to a batter's turn at the plate. Each completed turn batting is one plate appearance.\n",
    "\n",
    "HR - home runs, tracks how many home runs Derek Jeter had in a given game. A home run is scored when the ball is hit in such a way that the batter is able to circle the bases and reach home safely in one play without any errors being committed by the defensive team in the process. An average MLB player hits around 20 homeruns a season.\n",
    "\n",
    "SB - stolen base, tracks how many bases Derek Jeter had in a given game. A stolen base occurs when a baserunner advances by taking a base to which he isn't entitled. This generally occurs when a pitcher is throwing a pitch, but it can also occur while the pitcher still has the ball or is attempting a pickoff, or as the catcher is throwing the ball back to the pitcher.\n",
    "\n",
    "BB - base on balls (walk) tracks how many walks Derek Jeter had in a given game. A base on balls, also known as a walk, occurs in baseball when a batter receives four pitches that the umpire calls balls, and is in turn awarded first base without the possibility of being called out\n",
    "\n",
    "WPA - win probability added, tracks Derek Jeter’s win probability added in a given game. Win probability added is a sport statistic which attempts to measure a player's contribution to a win by figuring the factor by which each specific play made by that player has altered the outcome of a game.\n",
    "\n",
    "What are the observations (rows) and the attributes (columns)?\n",
    "\n",
    "-- Each row represents a single game for the 20 seasons he played baseball. The columns each represent a different record of data, or a calculated statistic as explained above.\n",
    "\n",
    "Why was this dataset created?\n",
    "\n",
    "-- This data set was created for the purpose of tracking New York Yankees player, Derek Jeter. He was an outstanding player and these statistics were compiled together after each game, each season to allow MLB fans to look back on the result and statistics of the game, and to look at the individual players success.\n",
    "\n",
    "What processes might have influenced what data was observed and recorded and what was not?\n",
    "\n",
    "-- Any data that is considered a significant play is recorded. Whenever a player gets a hit, a homerun, times up to bat, etc. The dataset that we are utilizing is a batting log, so only plays that happen while up to bat or on base are recorded.\n",
    "\n",
    "What preprocessing was done, and how did the data come to be in the form that you are using?\n",
    "\n",
    "-- The only preprocessed variable in our usage of the dataset is the WPA, win probability added. This is calculated using the data collected throughout the game. We included this in our dataset to compare how much the variables we choose contributed to the actual win probability added.\n",
    "\n",
    "If people are involved, were they aware of the data collection and if so, what purpose did they expect the data to be used for?\n",
    "\n",
    "-- Yes, collecting sports statistics happens at every major league sporting event and even lower levels. The statistics and data are used for many different purposes. The data that is collected and analyzed is used to help increase fan experience and attendance from year to year. Sports analytics are crucial to many teams by helping them become their best through interpretation and analysis of statistics gained in games."
   ]
  },
  {
   "cell_type": "markdown",
   "metadata": {},
   "source": [
    "# Preregistration of analyses\n",
    "\n",
    "1. We hope to examine which of Derek Jeter's statistics, whether that be walks, stolen bases, hits, home runs, or a combination of stats had the greatest impact on the win rate of the Yankees, how significant of an impact that was, and how our calculations per statistic compare to the overall win probability added (WPA) calculation of Jeter in a given game. We can perform this examination by the means of logistic regression model fitting/testing, as well as linear regression testing. \n",
    "\n",
    "\n",
    "\n",
    "2. We want to determine if Derek Jeter's reputation as a hall of famer is overrated or not. We pulled 3 other batters of similar standing from 2010, Jeter's best batting season, to see if Jeter is up to snuff as a batter. We know he is an all star in his short stop position (a defensive position), so we wanted to focus on the batting (offensive) side to see if he was effective on both the offensive and defensive aspects of the game."
   ]
  },
  {
   "cell_type": "code",
   "execution_count": 1,
   "metadata": {
    "scrolled": true
   },
   "outputs": [],
   "source": [
    "import os\n",
    "import glob\n",
    "import numpy as np\n",
    "import matplotlib.pyplot as plt\n",
    "import pandas as pd\n",
    "import seaborn as sns\n",
    "from scipy import stats\n",
    "from   sklearn.linear_model import LinearRegression, LogisticRegression\n",
    "from   sklearn.model_selection import train_test_split\n",
    "from sklearn.metrics import confusion_matrix\n",
    "from sklearn.metrics import classification_report\n",
    "from sklearn import linear_model\n",
    "from scipy.special import expit\n",
    "import statsmodels.formula.api as smf\n",
    "import warnings\n",
    "from pandas.core.common import SettingWithCopyWarning\n",
    "warnings.simplefilter(action='ignore', category = SettingWithCopyWarning)"
   ]
  },
  {
   "cell_type": "markdown",
   "metadata": {},
   "source": [
    "# Data Limitations"
   ]
  },
  {
   "cell_type": "markdown",
   "metadata": {},
   "source": [
    "Baseball statistics are inherently limited in the scope of what they measure as they are strictly quantitive observations. Baseball statistics cannot measure intangibles, they can only record what happens, and on their own, they are limited in value when it comes to high-level quality comparisons between players. Though, by cross-comparing stats, and analyzing them in groups or to other stats, we can generate more valuable data that can be used in quality comparisons. Additionally, with the limited variables we are using, our conclusions may not be 100% accurate since baseball is a complex game involving a team, rather than a singular player which we are analyzing. Looking at Jeter individually will allow us to see his contributions but we know that by no means is he the only player contributing to a win. For example, he may have had an awful game but the Yankees may still have won. \n",
    "***\n",
    "This dataset could include many other statistics if it were to be complete and provide the best, most accurate conclusions, but due to the difficulty of processing so many variables and the time constraints of this project, we chose only the most important ones. There is the possibility that there is human error in recording the information, and it is possible that the older statistics from 1995 are not as precise as the ones gathered more recently, given new technology in sports statistic reporting and recording.\n",
    "***\n",
    "Limitations in this sense would be difficult to measure and identify in the results we obtained in our data analysis. Any impact on our numbers would likely be spread across a variety of variables involved in the computations of our numbers (linear regression slope, correlation scores etc), and would thus also have a multivariate impact that would be nearly impossible to discern from which variable the limitation came from."
   ]
  },
  {
   "cell_type": "markdown",
   "metadata": {},
   "source": [
    "# Importing Player CSV Files"
   ]
  },
  {
   "cell_type": "code",
   "execution_count": 2,
   "metadata": {},
   "outputs": [],
   "source": [
    "jeter = pd.read_csv('JeterStats.csv')\n",
    "rodriguez = pd.read_csv('arod_concatenated.csv')\n",
    "williams = pd.read_csv('williams_1999.csv')\n",
    "garciaparra = pd.read_csv('garciaparra_1999.csv')"
   ]
  },
  {
   "cell_type": "markdown",
   "metadata": {},
   "source": [
    "# Jeter Calculations and Statistical Tests"
   ]
  },
  {
   "cell_type": "code",
   "execution_count": 3,
   "metadata": {
    "scrolled": false
   },
   "outputs": [
    {
     "name": "stdout",
     "output_type": "stream",
     "text": [
      "Mean WPA: 0.011262\n"
     ]
    }
   ],
   "source": [
    "contribute = jeter.WPA.mean()\n",
    "print('Mean WPA: {:.6f}'.format(contribute))"
   ]
  },
  {
   "cell_type": "markdown",
   "metadata": {},
   "source": [
    "Win probability added is a sport statistic which attempts to measure a player's contribution to a win by figuring the factor by which each specific play made by that player has altered the outcome of a game. So we know Jeter made a contribution to the wins over the 20 seasons he played. Looking at the mean WPA of 0.011262, the positive value shows that on average he contributed to a win. This value is extremely low and close to zero, but it also is taking all 20 years and 2,747 games into account. So for that length of time having any positive value is impressive. This number has some limitations as a win or loss is not soley based on Jeter's performance. But as we continue to analyze his statistics we can further prove he made a positive contribution to the New York Yankees over his 20 seasons."
   ]
  },
  {
   "cell_type": "markdown",
   "metadata": {},
   "source": [
    "### Impact of Stolen Bases on Wins"
   ]
  },
  {
   "cell_type": "code",
   "execution_count": 5,
   "metadata": {
    "scrolled": true
   },
   "outputs": [
    {
     "name": "stdout",
     "output_type": "stream",
     "text": [
      "Correlation between stolen bases and wins:  0.0628\n"
     ]
    }
   ],
   "source": [
    "sb = np.array(jeter.loc[:,\"SB\"])\n",
    "wins = np.array(jeter.loc[:,\"win\"])\n",
    "correlation_sb_wins = np.corrcoef(sb,wins)\n",
    "print('Correlation between stolen bases and wins: ', round(correlation_sb_wins[0][1],4))"
   ]
  },
  {
   "cell_type": "markdown",
   "metadata": {},
   "source": [
    "There is a slight positive correlation between the number of stolen bases Derek Jeter had and the number of wins he had. Meaning if he stole a base, there is a slight positive probability that the Yankees won that game. This is evidence point towards Jeter positively contributing on the batting side."
   ]
  },
  {
   "cell_type": "code",
   "execution_count": 6,
   "metadata": {
    "scrolled": false
   },
   "outputs": [
    {
     "data": {
      "text/plain": [
       "Text(0.5, 1.0, 'Scatterplot Comparing Stolen Bases and Wins for Derek Jeter')"
      ]
     },
     "execution_count": 6,
     "metadata": {},
     "output_type": "execute_result"
    },
    {
     "data": {
      "image/png": "[encoded data removed]",
      "text/plain": [
       "<Figure size 432x288 with 1 Axes>"
      ]
     },
     "metadata": {
      "needs_background": "light"
     },
     "output_type": "display_data"
    }
   ],
   "source": [
    "sns.regplot(data = jeter, x = 'SB', y = 'win')\n",
    "plt.show\n",
    "plt.title('Scatterplot Comparing Stolen Bases and Wins for Derek Jeter')"
   ]
  },
  {
   "cell_type": "markdown",
   "metadata": {},
   "source": [
    "##### Logistic Regression for Stolen Bases versus Wins"
   ]
  },
  {
   "cell_type": "code",
   "execution_count": 70,
   "metadata": {},
   "outputs": [
    {
     "name": "stdout",
     "output_type": "stream",
     "text": [
      "Estimated Slope of Logistic Regression:  0.22164\n"
     ]
    }
   ],
   "source": [
    "x = jeter[['SB']].to_numpy()\n",
    "y = jeter[['win']].to_numpy().ravel()\n",
    "x_train, x_test, y_train, y_test =  train_test_split(x, y,test_size = 0.25, random_state = 3)\n",
    "log_reg = LogisticRegression()\n",
    "log_reg.fit(x_train,y_train)\n",
    "print(\"Estimated Slope of Logistic Regression: \", round(log_reg.coef_[0,0],6))"
   ]
  },
  {
   "cell_type": "code",
   "execution_count": 71,
   "metadata": {},
   "outputs": [
    {
     "name": "stdout",
     "output_type": "stream",
     "text": [
      "[[  0 282]\n",
      " [  0 405]]\n",
      "              precision    recall  f1-score   support\n",
      "\n",
      "           0       0.00      0.00      0.00       282\n",
      "           1       0.59      1.00      0.74       405\n",
      "\n",
      "    accuracy                           0.59       687\n",
      "   macro avg       0.29      0.50      0.37       687\n",
      "weighted avg       0.35      0.59      0.44       687\n",
      "\n"
     ]
    }
   ],
   "source": [
    "y_pred = log_reg.predict(x_test)\n",
    "np. set_printoptions(threshold=np. inf)\n",
    "print(confusion_matrix(y_test,y_pred))\n",
    "print(classification_report(y_test,y_pred,zero_division=0))"
   ]
  },
  {
   "cell_type": "code",
   "execution_count": 84,
   "metadata": {},
   "outputs": [],
   "source": [
    "#Fits our data into a logistic model\n",
    "def logmodel(x,y,x_test):\n",
    "    clf = linear_model.LogisticRegression(C=1e5)\n",
    "    clf.fit(x,y)\n",
    "    plt.figure(1, figsize=[8,5])\n",
    "    plt.clf()\n",
    "    plt.scatter(x.ravel(),y, color = 'black', zorder = 20)\n",
    "    loss = expit(x_test*clf.coef_+clf.intercept_).ravel()\n",
    "    plt.plot(x_test,loss,color='red',linewidth=3)\n",
    "    ols = linear_model.LinearRegression()\n",
    "    ols.fit(x,y)\n",
    "    plt.plot(x_test, ols.coef_*x_test+ols.intercept_,linewidth=1)\n",
    "    plt.axhline(.5,color='.5')\n",
    "    plt.ylabel('y')\n",
    "    plt.xlabel('X')\n",
    "    plt.legend(('Logistic Regression Model', 'Linear Regression Model'),\n",
    "               loc=\"lower right\", fontsize='small')\n",
    "    plt.show()"
   ]
  },
  {
   "cell_type": "code",
   "execution_count": 82,
   "metadata": {},
   "outputs": [
    {
     "data": {
      "image/png": "[encoded data removed]",
      "text/plain": [
       "<Figure size 576x360 with 1 Axes>"
      ]
     },
     "metadata": {
      "needs_background": "light"
     },
     "output_type": "display_data"
    }
   ],
   "source": [
    "logmodel(x,y,x_test)"
   ]
  },
  {
   "cell_type": "markdown",
   "metadata": {},
   "source": [
    "##### Linear Regression for Stolen Bases versus Wins"
   ]
  },
  {
   "cell_type": "code",
   "execution_count": 73,
   "metadata": {},
   "outputs": [
    {
     "name": "stdout",
     "output_type": "stream",
     "text": [
      "The actual linear regression slope of the stolen bases variable is 0.08\n"
     ]
    }
   ],
   "source": [
    "lr = LinearRegression()\n",
    "model = lr.fit(jeter[['SB']], jeter['win'])\n",
    "slope = model.coef_[0]\n",
    "print(\"The actual linear regression slope of the stolen bases variable is {:.2f}\".format(slope))"
   ]
  },
  {
   "cell_type": "markdown",
   "metadata": {},
   "source": [
    "As shown above, it appears that there is a slight positive correlation between the number of stolen bases Derek Jeter had and the wins of the Yankees. Yet there are differences between the results of the linear regression and of the logistic regression. The logistic regression slope prediction is 0.22, which is much higher than the actual linear regression slope of 0.08. Looking at the confusion matrix, one can also see that the model predicted that every single game would be a loss regardless of whether or not there were stolen bases in the game. Thus, there is a zero percent precision score for games won. Yet, there is a 59% precision score for games lost. Overall, it can be understood that Jeter stealing bases is not an accurate or good predictor for game wins for the Yankees, though stolen bases may have a small positive impact."
   ]
  },
  {
   "cell_type": "markdown",
   "metadata": {},
   "source": [
    "## Impact of Walks on Wins"
   ]
  },
  {
   "cell_type": "code",
   "execution_count": 12,
   "metadata": {},
   "outputs": [
    {
     "data": {
      "text/plain": [
       "Text(0.5, 1.0, 'Scatterplot Comparing Walks and Wins for Derek Jeter')"
      ]
     },
     "execution_count": 12,
     "metadata": {},
     "output_type": "execute_result"
    },
    {
     "data": {
      "image/png": "[encoded data removed]",
      "text/plain": [
       "<Figure size 432x288 with 1 Axes>"
      ]
     },
     "metadata": {
      "needs_background": "light"
     },
     "output_type": "display_data"
    }
   ],
   "source": [
    "sns.regplot(data = jeter, x = 'BB', y = 'win')\n",
    "plt.show\n",
    "plt.title('Scatterplot Comparing Walks and Wins for Derek Jeter')"
   ]
  },
  {
   "cell_type": "markdown",
   "metadata": {},
   "source": [
    "#### Logistic Regression of Walks versus Wins"
   ]
  },
  {
   "cell_type": "code",
   "execution_count": 94,
   "metadata": {},
   "outputs": [
    {
     "name": "stdout",
     "output_type": "stream",
     "text": [
      "Estimated Slope of Logistic Regression:  0.183199\n"
     ]
    }
   ],
   "source": [
    "x3 = jeter[['BB']].to_numpy()\n",
    "y3 = jeter[['win']].to_numpy().ravel()\n",
    "x_train3, x_test3, y_train3, y_test3 =  train_test_split(x3, y3,test_size = 0.25, random_state = 3)\n",
    "log_reg3 = LogisticRegression()\n",
    "log_reg3.fit(x_train3,y_train3)\n",
    "print(\"Estimated Slope of Logistic Regression: \", round(log_reg3.coef_[0,0],6))"
   ]
  },
  {
   "cell_type": "code",
   "execution_count": 88,
   "metadata": {},
   "outputs": [
    {
     "name": "stdout",
     "output_type": "stream",
     "text": [
      "[[  0 282]\n",
      " [  0 405]]\n",
      "              precision    recall  f1-score   support\n",
      "\n",
      "           0       0.00      0.00      0.00       282\n",
      "           1       0.59      1.00      0.74       405\n",
      "\n",
      "    accuracy                           0.59       687\n",
      "   macro avg       0.29      0.50      0.37       687\n",
      "weighted avg       0.35      0.59      0.44       687\n",
      "\n"
     ]
    }
   ],
   "source": [
    "y_pred3 = log_reg3.predict(x_test3)\n",
    "np.set_printoptions(threshold=np. inf)\n",
    "print(confusion_matrix(y_test3,y_pred3))\n",
    "print(classification_report(y_test3,y_pred3,zero_division=0))"
   ]
  },
  {
   "cell_type": "code",
   "execution_count": 89,
   "metadata": {},
   "outputs": [
    {
     "data": {
      "image/png": "[encoded data removed]",
      "text/plain": [
       "<Figure size 576x360 with 1 Axes>"
      ]
     },
     "metadata": {
      "needs_background": "light"
     },
     "output_type": "display_data"
    }
   ],
   "source": [
    "logmodel(x3,y3,x_test3)"
   ]
  },
  {
   "cell_type": "markdown",
   "metadata": {},
   "source": [
    "##### Linear Regression for Walks versus Wins"
   ]
  },
  {
   "cell_type": "code",
   "execution_count": 100,
   "metadata": {},
   "outputs": [
    {
     "name": "stdout",
     "output_type": "stream",
     "text": [
      "The actual linear regression slope of the walks variable is 0.05\n"
     ]
    }
   ],
   "source": [
    "lr = LinearRegression()\n",
    "model3 = lr.fit(jeter[['BB']], jeter['win'])\n",
    "slope3 = model3.coef_[0]\n",
    "print(\"The actual linear regression slope of the walks variable is {:.2f}\".format(slope3))"
   ]
  },
  {
   "cell_type": "markdown",
   "metadata": {},
   "source": [
    "Again it appears that there is a slight positive correlation between the number of walks Derek Jeter had and the wins of the Yankees. But we run into the same situation we had with stolen bases. Looking at the confusion matrix, we see that the model predicted that every single game would be a loss regardless of whether or not there was a walk in the game. Thus, there is a zero percent precision score for games won. Yet, there is a 59% precision score for games lost. Similarly to stolen bases, it can be understood that walks are not a good predictor for game wins for the Yankees, though they may have a small positive impact. Next we will look at more influential variables, hits, homeruns, and plate appearances."
   ]
  },
  {
   "cell_type": "markdown",
   "metadata": {},
   "source": [
    "## Impact of Hits on Wins"
   ]
  },
  {
   "cell_type": "code",
   "execution_count": 74,
   "metadata": {
    "scrolled": true
   },
   "outputs": [
    {
     "data": {
      "text/plain": [
       "Text(0.5, 1.0, 'Scatterplot Comparing Hits and Wins for Derek Jeter')"
      ]
     },
     "execution_count": 74,
     "metadata": {},
     "output_type": "execute_result"
    },
    {
     "data": {
      "image/png": "[encoded data removed]",
      "text/plain": [
       "<Figure size 432x288 with 1 Axes>"
      ]
     },
     "metadata": {
      "needs_background": "light"
     },
     "output_type": "display_data"
    }
   ],
   "source": [
    "sns.regplot(data = jeter, x = 'H', y = 'win')\n",
    "plt.show\n",
    "plt.title('Scatterplot Comparing Hits and Wins for Derek Jeter')"
   ]
  },
  {
   "cell_type": "markdown",
   "metadata": {},
   "source": [
    "#### Logistic Regression of Hits versus Wins"
   ]
  },
  {
   "cell_type": "code",
   "execution_count": 75,
   "metadata": {},
   "outputs": [
    {
     "name": "stdout",
     "output_type": "stream",
     "text": [
      "Estimated Slope of Logistic Regression:  0.401454\n"
     ]
    }
   ],
   "source": [
    "x2 = jeter[['H']].to_numpy()\n",
    "y2 = jeter[['win']].to_numpy().ravel()\n",
    "x_train2, x_test2, y_train2, y_test2 =  train_test_split(x2, y2,test_size = 0.25, random_state = 3)\n",
    "log_reg2 = LogisticRegression()\n",
    "log_reg2.fit(x_train2,y_train2)\n",
    "print(\"Estimated Slope of Logistic Regression: \", round(log_reg2.coef_[0,0],6))"
   ]
  },
  {
   "cell_type": "code",
   "execution_count": 76,
   "metadata": {},
   "outputs": [
    {
     "name": "stdout",
     "output_type": "stream",
     "text": [
      "[[ 88 194]\n",
      " [ 67 338]]\n",
      "              precision    recall  f1-score   support\n",
      "\n",
      "           0       0.57      0.31      0.40       282\n",
      "           1       0.64      0.83      0.72       405\n",
      "\n",
      "    accuracy                           0.62       687\n",
      "   macro avg       0.60      0.57      0.56       687\n",
      "weighted avg       0.61      0.62      0.59       687\n",
      "\n"
     ]
    }
   ],
   "source": [
    "y_pred2 = log_reg2.predict(x_test2)\n",
    "np.set_printoptions(threshold=np. inf)\n",
    "print(confusion_matrix(y_test2,y_pred2))\n",
    "print(classification_report(y_test2,y_pred2,zero_division=0))"
   ]
  },
  {
   "cell_type": "code",
   "execution_count": 83,
   "metadata": {},
   "outputs": [
    {
     "data": {
      "image/png": "[encoded data removed]",
      "text/plain": [
       "<Figure size 576x360 with 1 Axes>"
      ]
     },
     "metadata": {
      "needs_background": "light"
     },
     "output_type": "display_data"
    }
   ],
   "source": [
    "logmodel(x2,y2,x_test2)"
   ]
  },
  {
   "cell_type": "markdown",
   "metadata": {},
   "source": [
    "#### Linear Regression of Hits versus Wins"
   ]
  },
  {
   "cell_type": "code",
   "execution_count": 79,
   "metadata": {},
   "outputs": [
    {
     "name": "stdout",
     "output_type": "stream",
     "text": [
      "The actual linear regression slope of the hits variable is 0.09\n"
     ]
    }
   ],
   "source": [
    "lr = LinearRegression()\n",
    "model2 = lr.fit(jeter[['H']], jeter['win'])\n",
    "slope2 = model2.coef_[0]\n",
    "print(\"The actual linear regression slope of the hits variable is {:.2f}\".format(slope2))"
   ]
  },
  {
   "cell_type": "markdown",
   "metadata": {},
   "source": [
    "It appears once again that there is a positive correlation between the number of hit Derek Jeter had and the wins of the Yankees. There are more apparent differences between the results of the linear regression and of the logistic regression when comparing hits to wins. The logistic regression slope prediction is 0.40, which is much higher than the actual linear regression slope of 0.09. Looking at the classification report, we can see that there was 57% percision for predicting wins and 64% percision score for losses. Although not 100% percise, we see from this that a hit for Jeter is more important for contributing to a win. Overall, it can be understood that Jeter getting a hit is a more accurate predictor for game wins for the Yankees."
   ]
  },
  {
   "cell_type": "markdown",
   "metadata": {},
   "source": [
    "## Impact of Homeruns on Wins"
   ]
  },
  {
   "cell_type": "code",
   "execution_count": 13,
   "metadata": {},
   "outputs": [
    {
     "data": {
      "text/plain": [
       "Text(0.5, 1.0, 'Scatterplot Comparing Home Runs and Wins for Derek Jeter')"
      ]
     },
     "execution_count": 13,
     "metadata": {},
     "output_type": "execute_result"
    },
    {
     "data": {
      "image/png": "[encoded data removed]",
      "text/plain": [
       "<Figure size 432x288 with 1 Axes>"
      ]
     },
     "metadata": {
      "needs_background": "light"
     },
     "output_type": "display_data"
    }
   ],
   "source": [
    "sns.regplot(data = jeter, x = 'HR', y = 'win')\n",
    "plt.show\n",
    "plt.title('Scatterplot Comparing Home Runs and Wins for Derek Jeter')"
   ]
  },
  {
   "cell_type": "markdown",
   "metadata": {},
   "source": [
    "#### Logistic Regression of Homeruns versus Wins"
   ]
  },
  {
   "cell_type": "code",
   "execution_count": 95,
   "metadata": {},
   "outputs": [
    {
     "name": "stdout",
     "output_type": "stream",
     "text": [
      "Estimated Slope of Logistic Regression:  0.685035\n"
     ]
    }
   ],
   "source": [
    "x4 = jeter[['HR']].to_numpy()\n",
    "y4 = jeter[['win']].to_numpy().ravel()\n",
    "x_train4, x_test4, y_train4, y_test4 =  train_test_split(x4, y4,test_size = 0.25, random_state = 3)\n",
    "log_reg4 = LogisticRegression()\n",
    "log_reg4.fit(x_train4,y_train4)\n",
    "print(\"Estimated Slope of Logistic Regression: \", round(log_reg4.coef_[0,0],6))"
   ]
  },
  {
   "cell_type": "code",
   "execution_count": 96,
   "metadata": {},
   "outputs": [
    {
     "name": "stdout",
     "output_type": "stream",
     "text": [
      "[[  0 282]\n",
      " [  0 405]]\n",
      "              precision    recall  f1-score   support\n",
      "\n",
      "           0       0.00      0.00      0.00       282\n",
      "           1       0.59      1.00      0.74       405\n",
      "\n",
      "    accuracy                           0.59       687\n",
      "   macro avg       0.29      0.50      0.37       687\n",
      "weighted avg       0.35      0.59      0.44       687\n",
      "\n"
     ]
    }
   ],
   "source": [
    "y_pred4 = log_reg4.predict(x_test4)\n",
    "np.set_printoptions(threshold=np. inf)\n",
    "print(confusion_matrix(y_test4,y_pred4))\n",
    "print(classification_report(y_test4,y_pred4,zero_division=0))"
   ]
  },
  {
   "cell_type": "code",
   "execution_count": 97,
   "metadata": {},
   "outputs": [
    {
     "data": {
      "image/png": "[encoded data removed]",
      "text/plain": [
       "<Figure size 576x360 with 1 Axes>"
      ]
     },
     "metadata": {
      "needs_background": "light"
     },
     "output_type": "display_data"
    }
   ],
   "source": [
    "logmodel(x4,y4,x_test4)"
   ]
  },
  {
   "cell_type": "markdown",
   "metadata": {},
   "source": [
    "#### Linear Regression of Homeruns versus Wins"
   ]
  },
  {
   "cell_type": "code",
   "execution_count": 99,
   "metadata": {},
   "outputs": [
    {
     "name": "stdout",
     "output_type": "stream",
     "text": [
      "The actual linear regression slope of the homerun variable is 0.14\n"
     ]
    }
   ],
   "source": [
    "lr = LinearRegression()\n",
    "model4 = lr.fit(jeter[['HR']], jeter['win'])\n",
    "slope4 = model4.coef_[0]\n",
    "print(\"The actual linear regression slope of the homerun variable is {:.2f}\".format(slope4))"
   ]
  },
  {
   "cell_type": "markdown",
   "metadata": {},
   "source": [
    "As you can see in the above graphs and printed linear regression slopes, the Hits, Home Runs, and Plate Appearences variables had the greatest relationship with the wins variable at 0.094, 0.137, and 0.117, respectively.\n",
    "\n",
    "Of these three variables, it is important to note that although Plate Appearences is technically an individual statistic for Jeter, it is really a representation of the team's offensive success in any given game. If everyone on the team gets on base, that means that no one is recording an out, which enables Jeter to record more plate appearences. For this reason, the Plate Appearences variable is not a major indicator of how Jeter independently contributed to Yankee wins.\n",
    "\n",
    "Next, some context is important in relation to the Home Runs variable. In creating a baseball lineup, each hitter typically has a specific role based on their offensive strengths. For example, the leadoff hitter's responsibility is to get on base any way possible, while your third or fourth hitters are typically your power hitters who are more likely to hit a home run, thus maximizing scoring potential. Throughout his career, Jeter was a leadoff hitter, so he was not expected to hit many homeruns. Thus, in games where he did record a home run, it provided a somewhat unexpected offensive boost, which logically corresponds to a higher likelihood of a win.\n",
    "\n",
    "Based off the above logic, it makes sense that Hits would also have a fairly high corelation with Wins because if Jeter does his job, then the Yankees are one step closer to winning each game that they play. As a result of this high corelation and the fact that his primary offensive responsibility was to get on base, this relationship is extremely important."
   ]
  },
  {
   "cell_type": "markdown",
   "metadata": {},
   "source": [
    "# ANALYSIS"
   ]
  },
  {
   "cell_type": "markdown",
   "metadata": {},
   "source": [
    "## Impact of Plate Appearance on Wins"
   ]
  },
  {
   "cell_type": "code",
   "execution_count": 14,
   "metadata": {},
   "outputs": [
    {
     "data": {
      "text/plain": [
       "Text(0.5, 1.0, 'Scatterplot Comparing Plate Appearences and Wins for Derek Jeter')"
      ]
     },
     "execution_count": 14,
     "metadata": {},
     "output_type": "execute_result"
    },
    {
     "data": {
      "image/png": "[encoded data removed]",
      "text/plain": [
       "<Figure size 432x288 with 1 Axes>"
      ]
     },
     "metadata": {
      "needs_background": "light"
     },
     "output_type": "display_data"
    }
   ],
   "source": [
    "sns.regplot(data = jeter, x = 'PA', y = 'win')\n",
    "plt.show\n",
    "plt.title('Scatterplot Comparing Plate Appearences and Wins for Derek Jeter')"
   ]
  },
  {
   "cell_type": "markdown",
   "metadata": {},
   "source": [
    "#### Logistic Regression of Plate Appearances versus Wins"
   ]
  },
  {
   "cell_type": "code",
   "execution_count": 101,
   "metadata": {},
   "outputs": [
    {
     "name": "stdout",
     "output_type": "stream",
     "text": [
      "Estimated Slope of Logistic Regression:  0.540715\n"
     ]
    }
   ],
   "source": [
    "x5 = jeter[['PA']].to_numpy()\n",
    "y5 = jeter[['win']].to_numpy().ravel()\n",
    "x_train5, x_test5, y_train5, y_test5 =  train_test_split(x5, y5,test_size = 0.25, random_state = 3)\n",
    "log_reg5 = LogisticRegression()\n",
    "log_reg5.fit(x_train5,y_train5)\n",
    "print(\"Estimated Slope of Logistic Regression: \", round(log_reg5.coef_[0,0],6))"
   ]
  },
  {
   "cell_type": "code",
   "execution_count": 102,
   "metadata": {},
   "outputs": [
    {
     "name": "stdout",
     "output_type": "stream",
     "text": [
      "[[ 21 261]\n",
      " [ 11 394]]\n",
      "              precision    recall  f1-score   support\n",
      "\n",
      "           0       0.66      0.07      0.13       282\n",
      "           1       0.60      0.97      0.74       405\n",
      "\n",
      "    accuracy                           0.60       687\n",
      "   macro avg       0.63      0.52      0.44       687\n",
      "weighted avg       0.62      0.60      0.49       687\n",
      "\n"
     ]
    }
   ],
   "source": [
    "y_pred5 = log_reg5.predict(x_test5)\n",
    "np.set_printoptions(threshold=np. inf)\n",
    "print(confusion_matrix(y_test5,y_pred5))\n",
    "print(classification_report(y_test5,y_pred5,zero_division=0))"
   ]
  },
  {
   "cell_type": "code",
   "execution_count": 103,
   "metadata": {},
   "outputs": [
    {
     "data": {
      "image/png": "[encoded data removed]",
      "text/plain": [
       "<Figure size 576x360 with 1 Axes>"
      ]
     },
     "metadata": {
      "needs_background": "light"
     },
     "output_type": "display_data"
    }
   ],
   "source": [
    "logmodel(x5,y5,x_test5)"
   ]
  },
  {
   "cell_type": "markdown",
   "metadata": {},
   "source": [
    "#### Linear Regression for Plate Appearances versus Wins"
   ]
  },
  {
   "cell_type": "code",
   "execution_count": 104,
   "metadata": {},
   "outputs": [
    {
     "name": "stdout",
     "output_type": "stream",
     "text": [
      "The actual linear regression slope of the plate appearances variable is 0.12\n"
     ]
    }
   ],
   "source": [
    "lr = LinearRegression()\n",
    "model5 = lr.fit(jeter[['PA']], jeter['win'])\n",
    "slope5 = model5.coef_[0]\n",
    "print(\"The actual linear regression slope of the plate appearances variable is {:.2f}\".format(slope5))"
   ]
  },
  {
   "cell_type": "markdown",
   "metadata": {},
   "source": [
    "# ANALYSIS"
   ]
  },
  {
   "cell_type": "markdown",
   "metadata": {},
   "source": [
    "## Maybe put a bar graph separate to linreg to show data in another way"
   ]
  },
  {
   "cell_type": "code",
   "execution_count": 15,
   "metadata": {
    "scrolled": true
   },
   "outputs": [
    {
     "name": "stdout",
     "output_type": "stream",
     "text": [
      "Derek Jeters ratio of hits per plate appearance is: 0.275\n",
      "This means that on average it takes Derek Jeter 3.63 plate appearances in order for him to register one hit\n",
      "Derek Jeter's ratio of homeruns to hits is: 0.075\n",
      "So this means only every 3.63 plate appearances he gets a hit, and only every 0.075 hits he gets a homerun.\n",
      "The percentage that Jeter gets a homerun when he is up to bat: 2.06%\n"
     ]
    }
   ],
   "source": [
    "jeter_total_PA = jeter.PA.sum()\n",
    "jeter_total_hits = jeter.H.sum()\n",
    "jeter_hit_to_PA_ratio = jeter_total_hits/jeter_total_PA\n",
    "print('Derek Jeters ratio of hits per plate appearance is: {:.3f}'.format(jeter_hit_to_PA_ratio))\n",
    "print('This means that on average it takes Derek Jeter 3.63 plate appearances in order for him to register one hit')\n",
    "jeter_total_HR = jeter.HR.sum()\n",
    "print(\"Derek Jeter's ratio of homeruns to hits is: {:.3f}\".format(jeter_total_HR/jeter_total_hits))\n",
    "print('So this means only every 3.63 plate appearances he gets a hit, and only every 0.075 hits he gets a homerun.')\n",
    "print('The percentage that Jeter gets a homerun when he is up to bat: {:,.2%}'.format(jeter_total_HR/jeter_total_PA))"
   ]
  },
  {
   "cell_type": "markdown",
   "metadata": {},
   "source": [
    "This is a very low percentage for homeruns, but as we know Jeter is not a power hitter so this makes sense. Now we will look at Jeter over each year of his career to get more details about his performance."
   ]
  },
  {
   "cell_type": "markdown",
   "metadata": {},
   "source": [
    "# Derek Jeter Yearly Stats"
   ]
  },
  {
   "cell_type": "code",
   "execution_count": 16,
   "metadata": {
    "scrolled": true
   },
   "outputs": [],
   "source": [
    "def totals_per_year(stat):\n",
    "    np.arange(jeter[\"Year\"].min(),jeter[\"Year\"].max())\n",
    "    num_year = jeter.groupby('Year').sum()\n",
    "    years_played = jeter[\"Year\"].unique()\n",
    "    plt.bar(x = years_played, height = num_year[stat])\n",
    "    plt.xlabel('Years')\n",
    "    plt.ylabel(stat)\n",
    "    plt.title(\"Jeter's \"+stat+ \" Totals per Year\")\n",
    "    plt.xticks(np.arange(min(years_played), max(years_played)+1, 2.0))\n",
    "    plt.show()"
   ]
  },
  {
   "cell_type": "code",
   "execution_count": 17,
   "metadata": {
    "scrolled": true
   },
   "outputs": [],
   "source": [
    "#This function returns the top three statistical years for a given category named by a parameter called stat1\n",
    "def top_three_stat_years(stat1):\n",
    "    num_year = jeter.groupby('Year').sum()\n",
    "    stat1_ranking = num_year[stat1].rank()\n",
    "    stat1_sorted = sorted(stat1_ranking, reverse = True)\n",
    "    print('The year Jeter had the most '+ stat1 +  ' was',str(num_year[stat1_ranking == stat1_sorted[0]].index.values[0]))\n",
    "    print('The year Jeter had the second most '+ stat1 +  ' was',str(num_year[stat1_ranking == stat1_sorted[1]].index.values[0]))\n",
    "    print('The year Jeter had the third most '+ stat1 +  ' was',str(num_year[stat1_ranking == stat1_sorted[2]].index.values[0]))"
   ]
  },
  {
   "cell_type": "code",
   "execution_count": 18,
   "metadata": {
    "scrolled": false
   },
   "outputs": [
    {
     "data": {
      "image/png": "[encoded data removed]",
      "text/plain": [
       "<Figure size 432x288 with 1 Axes>"
      ]
     },
     "metadata": {
      "needs_background": "light"
     },
     "output_type": "display_data"
    }
   ],
   "source": [
    "totals_per_year('H')"
   ]
  },
  {
   "cell_type": "code",
   "execution_count": 19,
   "metadata": {
    "scrolled": true
   },
   "outputs": [
    {
     "name": "stdout",
     "output_type": "stream",
     "text": [
      "The year Jeter had the most H was 1999\n",
      "The year Jeter had the second most H was 2012\n",
      "The year Jeter had the third most H was 2006\n"
     ]
    }
   ],
   "source": [
    "top_three_stat_years('H')"
   ]
  },
  {
   "cell_type": "code",
   "execution_count": 20,
   "metadata": {
    "scrolled": true
   },
   "outputs": [
    {
     "data": {
      "image/png": "[encoded data removed]",
      "text/plain": [
       "<Figure size 432x288 with 1 Axes>"
      ]
     },
     "metadata": {
      "needs_background": "light"
     },
     "output_type": "display_data"
    }
   ],
   "source": [
    "totals_per_year('BB')"
   ]
  },
  {
   "cell_type": "code",
   "execution_count": 21,
   "metadata": {
    "scrolled": true
   },
   "outputs": [
    {
     "name": "stdout",
     "output_type": "stream",
     "text": [
      "The year Jeter had the most BB was 1999\n",
      "The year Jeter had the second most BB was 2005\n",
      "The year Jeter had the third most BB was 1997\n"
     ]
    }
   ],
   "source": [
    "top_three_stat_years('BB')"
   ]
  },
  {
   "cell_type": "code",
   "execution_count": 22,
   "metadata": {
    "scrolled": true
   },
   "outputs": [
    {
     "data": {
      "image/png": "[encoded data removed]",
      "text/plain": [
       "<Figure size 432x288 with 1 Axes>"
      ]
     },
     "metadata": {
      "needs_background": "light"
     },
     "output_type": "display_data"
    }
   ],
   "source": [
    "totals_per_year('HR')"
   ]
  },
  {
   "cell_type": "code",
   "execution_count": 23,
   "metadata": {
    "scrolled": true
   },
   "outputs": [
    {
     "name": "stdout",
     "output_type": "stream",
     "text": [
      "The year Jeter had the most HR was 1999\n",
      "The year Jeter had the second most HR was 2004\n",
      "The year Jeter had the third most HR was 2001\n"
     ]
    }
   ],
   "source": [
    "top_three_stat_years('HR')"
   ]
  },
  {
   "cell_type": "code",
   "execution_count": 24,
   "metadata": {
    "scrolled": false
   },
   "outputs": [
    {
     "data": {
      "image/png": "[encoded data removed]",
      "text/plain": [
       "<Figure size 432x288 with 1 Axes>"
      ]
     },
     "metadata": {
      "needs_background": "light"
     },
     "output_type": "display_data"
    }
   ],
   "source": [
    "totals_per_year('SB')"
   ]
  },
  {
   "cell_type": "code",
   "execution_count": 25,
   "metadata": {
    "scrolled": true
   },
   "outputs": [
    {
     "name": "stdout",
     "output_type": "stream",
     "text": [
      "The year Jeter had the most SB was 2006\n",
      "The year Jeter had the second most SB was 2002\n",
      "The year Jeter had the third most SB was 1998\n"
     ]
    }
   ],
   "source": [
    "top_three_stat_years('SB')"
   ]
  },
  {
   "cell_type": "code",
   "execution_count": 26,
   "metadata": {
    "scrolled": true
   },
   "outputs": [
    {
     "data": {
      "image/png": "[encoded data removed]",
      "text/plain": [
       "<Figure size 432x288 with 1 Axes>"
      ]
     },
     "metadata": {
      "needs_background": "light"
     },
     "output_type": "display_data"
    }
   ],
   "source": [
    "totals_per_year('win')"
   ]
  },
  {
   "cell_type": "code",
   "execution_count": 27,
   "metadata": {
    "scrolled": true
   },
   "outputs": [
    {
     "name": "stdout",
     "output_type": "stream",
     "text": [
      "The year Jeter had the most win was 1998\n",
      "The year Jeter had the second most win was 2002\n",
      "The year Jeter had the third most win was 2009\n"
     ]
    }
   ],
   "source": [
    "top_three_stat_years('win')"
   ]
  },
  {
   "cell_type": "markdown",
   "metadata": {},
   "source": [
    "Derek Jeter's best year of performance was 1999, where he had his career high hits, walks, and homeruns. "
   ]
  },
  {
   "cell_type": "markdown",
   "metadata": {},
   "source": [
    "To further look at Jeter's contributions and importance to the NY Yankees, will will be using his 1999 season to compare to other players in the same season. This will allow us to compare his batting statistics with other players who batted similarly well in 1999 (according to ESPN's batting leaders 1999 https://www.espn.com/mlb/history/leaders/_/breakdown/season/year/1999) to see if he contributed more to a team win than other players who also batted well. \n",
    "\n",
    "The reset_index applied to jeter_1999 resets the index of the new dataframe to zero so that it may be compared to players Williams and Garciaparra later on. Indicies with identical starting points are required for direct comparison."
   ]
  },
  {
   "cell_type": "code",
   "execution_count": 28,
   "metadata": {
    "scrolled": false
   },
   "outputs": [
    {
     "data": {
      "text/html": [
       "<div>\n",
       "<style scoped>\n",
       "    .dataframe tbody tr th:only-of-type {\n",
       "        vertical-align: middle;\n",
       "    }\n",
       "\n",
       "    .dataframe tbody tr th {\n",
       "        vertical-align: top;\n",
       "    }\n",
       "\n",
       "    .dataframe thead th {\n",
       "        text-align: right;\n",
       "    }\n",
       "</style>\n",
       "<table border=\"1\" class=\"dataframe\">\n",
       "  <thead>\n",
       "    <tr style=\"text-align: right;\">\n",
       "      <th></th>\n",
       "      <th>Year</th>\n",
       "      <th>Rk</th>\n",
       "      <th>Rslt</th>\n",
       "      <th>PA</th>\n",
       "      <th>H</th>\n",
       "      <th>HR</th>\n",
       "      <th>SB</th>\n",
       "      <th>BB</th>\n",
       "      <th>WPA</th>\n",
       "      <th>win</th>\n",
       "      <th>0SB</th>\n",
       "      <th>1SB</th>\n",
       "      <th>2SB</th>\n",
       "      <th>3SB</th>\n",
       "      <th>4SB</th>\n",
       "    </tr>\n",
       "  </thead>\n",
       "  <tbody>\n",
       "    <tr>\n",
       "      <th>0</th>\n",
       "      <td>1999</td>\n",
       "      <td>1</td>\n",
       "      <td>L,3-5</td>\n",
       "      <td>4</td>\n",
       "      <td>3</td>\n",
       "      <td>1</td>\n",
       "      <td>0</td>\n",
       "      <td>0</td>\n",
       "      <td>0.239</td>\n",
       "      <td>0</td>\n",
       "      <td>1</td>\n",
       "      <td>0</td>\n",
       "      <td>0</td>\n",
       "      <td>0</td>\n",
       "      <td>0</td>\n",
       "    </tr>\n",
       "    <tr>\n",
       "      <th>1</th>\n",
       "      <td>1999</td>\n",
       "      <td>2</td>\n",
       "      <td>W,7-4</td>\n",
       "      <td>5</td>\n",
       "      <td>3</td>\n",
       "      <td>0</td>\n",
       "      <td>0</td>\n",
       "      <td>0</td>\n",
       "      <td>0.137</td>\n",
       "      <td>1</td>\n",
       "      <td>1</td>\n",
       "      <td>0</td>\n",
       "      <td>0</td>\n",
       "      <td>0</td>\n",
       "      <td>0</td>\n",
       "    </tr>\n",
       "    <tr>\n",
       "      <th>2</th>\n",
       "      <td>1999</td>\n",
       "      <td>3</td>\n",
       "      <td>W,4-0</td>\n",
       "      <td>5</td>\n",
       "      <td>1</td>\n",
       "      <td>0</td>\n",
       "      <td>0</td>\n",
       "      <td>0</td>\n",
       "      <td>-0.043</td>\n",
       "      <td>1</td>\n",
       "      <td>1</td>\n",
       "      <td>0</td>\n",
       "      <td>0</td>\n",
       "      <td>0</td>\n",
       "      <td>0</td>\n",
       "    </tr>\n",
       "    <tr>\n",
       "      <th>3</th>\n",
       "      <td>1999</td>\n",
       "      <td>4</td>\n",
       "      <td>W,12-3</td>\n",
       "      <td>4</td>\n",
       "      <td>0</td>\n",
       "      <td>0</td>\n",
       "      <td>0</td>\n",
       "      <td>2</td>\n",
       "      <td>0.001</td>\n",
       "      <td>1</td>\n",
       "      <td>1</td>\n",
       "      <td>0</td>\n",
       "      <td>0</td>\n",
       "      <td>0</td>\n",
       "      <td>0</td>\n",
       "    </tr>\n",
       "    <tr>\n",
       "      <th>4</th>\n",
       "      <td>1999</td>\n",
       "      <td>5</td>\n",
       "      <td>W,5-0</td>\n",
       "      <td>5</td>\n",
       "      <td>1</td>\n",
       "      <td>0</td>\n",
       "      <td>0</td>\n",
       "      <td>1</td>\n",
       "      <td>0.083</td>\n",
       "      <td>1</td>\n",
       "      <td>1</td>\n",
       "      <td>0</td>\n",
       "      <td>0</td>\n",
       "      <td>0</td>\n",
       "      <td>0</td>\n",
       "    </tr>\n",
       "  </tbody>\n",
       "</table>\n",
       "</div>"
      ],
      "text/plain": [
       "   Year  Rk    Rslt  PA  H  HR  SB  BB    WPA  win  0SB  1SB  2SB  3SB  4SB\n",
       "0  1999   1   L,3-5   4  3   1   0   0  0.239    0    1    0    0    0    0\n",
       "1  1999   2   W,7-4   5  3   0   0   0  0.137    1    1    0    0    0    0\n",
       "2  1999   3   W,4-0   5  1   0   0   0 -0.043    1    1    0    0    0    0\n",
       "3  1999   4  W,12-3   4  0   0   0   2  0.001    1    1    0    0    0    0\n",
       "4  1999   5   W,5-0   5  1   0   0   1  0.083    1    1    0    0    0    0"
      ]
     },
     "execution_count": 28,
     "metadata": {},
     "output_type": "execute_result"
    }
   ],
   "source": [
    "jeter_1999 = jeter.loc[jeter['Year'] == 1999]\n",
    "jeter_1999 = jeter_1999.reset_index(drop = True)\n",
    "jeter_1999.head()"
   ]
  },
  {
   "cell_type": "code",
   "execution_count": 29,
   "metadata": {
    "scrolled": false
   },
   "outputs": [
    {
     "data": {
      "image/png": "[encoded data removed]",
      "text/plain": [
       "<Figure size 432x288 with 1 Axes>"
      ]
     },
     "metadata": {
      "needs_background": "light"
     },
     "output_type": "display_data"
    }
   ],
   "source": [
    "plt.hist(jeter['H'], align = 'left',width=.9)\n",
    "plt.hist(jeter_1999['H'], align = \"left\",  width=.9)\n",
    "plt.show()"
   ]
  },
  {
   "cell_type": "markdown",
   "metadata": {},
   "source": [
    "We have modeled the distribution of Jeter's hits in his career compared to the distribution of his hits in 1999, one of his best hitting seasons. Although the distribution roughly follows the same shape, the discrepancy between one hit games and two hit games is proportionally smaller in the 1999 season, leading us to the conclusion that Jeter had more multi-hit games in this season compared to his career average."
   ]
  },
  {
   "cell_type": "code",
   "execution_count": 30,
   "metadata": {},
   "outputs": [
    {
     "name": "stdout",
     "output_type": "stream",
     "text": [
      "1.3860759493670887 0.7608239941949533\n"
     ]
    }
   ],
   "source": [
    "# does 1999 data conform to poisson distribution?\n",
    "print(jeter_1999['H'].mean(), jeter_1999['H'].var())"
   ]
  },
  {
   "cell_type": "markdown",
   "metadata": {},
   "source": [
    "In probability theory and statistics, the Poisson distribution, named after French mathematician Siméon Denis Poisson, is a discrete probability distribution that expresses the probability of a given number of events occurring in a fixed interval of time or space if these events occur with a known constant mean rate and independently of the time since the last event. A characteristic of a Poisson Distribution is when the mean and the variance are similar. Based on these findings, it is unlikely that a Poisson Distribution is plausible."
   ]
  },
  {
   "cell_type": "code",
   "execution_count": 31,
   "metadata": {},
   "outputs": [],
   "source": [
    "# is the observed variance plausibly compatible with poisson?\n",
    "season_vars = np.zeros(1000)\n",
    "for season in range(1000):\n",
    "   season_vars[season] = np.random.poisson(jeter_1999['H'].mean(), size=len(jeter_1999['H'])).var()"
   ]
  },
  {
   "cell_type": "code",
   "execution_count": 32,
   "metadata": {},
   "outputs": [
    {
     "data": {
      "image/png": "[encoded data removed]",
      "text/plain": [
       "<Figure size 432x288 with 1 Axes>"
      ]
     },
     "metadata": {
      "needs_background": "light"
     },
     "output_type": "display_data"
    }
   ],
   "source": [
    "plt.hist(season_vars, bins=30)\n",
    "plt.vlines(x=jeter_1999['H'].var(), ymin=0, ymax=90, color='darkred')\n",
    "plt.show()"
   ]
  },
  {
   "cell_type": "markdown",
   "metadata": {},
   "source": [
    "This histogram shows confirms our fears that our data does not fit a Poisson Distribution. This means Jeter's performance is not independent of each other. This means we could not predict his performance as it is not consistent."
   ]
  },
  {
   "cell_type": "markdown",
   "metadata": {},
   "source": [
    "# Comparing Jeter to Rodriguez"
   ]
  },
  {
   "cell_type": "markdown",
   "metadata": {},
   "source": [
    "##### Jeter's Impact on Wins When Stealing 1 Base"
   ]
  },
  {
   "cell_type": "code",
   "execution_count": 33,
   "metadata": {
    "scrolled": true
   },
   "outputs": [
    {
     "name": "stdout",
     "output_type": "stream",
     "text": [
      "The regression slope of the stolen bases variable is 0.08\n"
     ]
    }
   ],
   "source": [
    "lr = LinearRegression()\n",
    "model = lr.fit(jeter[['1SB']], jeter['win'])\n",
    "slope = model.coef_[0]\n",
    "print(\"The regression slope of the stolen bases variable is {:.2f}\".format(slope))"
   ]
  },
  {
   "cell_type": "markdown",
   "metadata": {},
   "source": [
    "##### Rodriguez's Impact on Wins When Stealing 1 Base"
   ]
  },
  {
   "cell_type": "code",
   "execution_count": 34,
   "metadata": {
    "scrolled": true
   },
   "outputs": [
    {
     "name": "stdout",
     "output_type": "stream",
     "text": [
      "The regression slope of the stolen bases variable is 0.09\n"
     ]
    }
   ],
   "source": [
    "lr = LinearRegression()\n",
    "model = lr.fit(rodriguez[['1SB']], rodriguez['win'])\n",
    "slope = model.coef_[0]\n",
    "print(\"The regression slope of the stolen bases variable is {:.2f}\".format(slope))"
   ]
  },
  {
   "cell_type": "markdown",
   "metadata": {},
   "source": [
    "##### Analysis\n",
    "According to these calculated numbers, when Derek Jeter had 1 steal in a game, he had a minimally lesser impact on the wins of his team than when Alex Rodriguez had 1 steal in a game. Examining the regression slopes relating wins to 1 stolen bases, Jeter's is 0.08 while Rodriguez's is 0.09. Although small, Rodriguez contributed to the team wins slightly more than Jeter."
   ]
  },
  {
   "cell_type": "markdown",
   "metadata": {},
   "source": [
    "##### Comparing the PA to Hit ratio of Rodriguez and Jeter"
   ]
  },
  {
   "cell_type": "code",
   "execution_count": 35,
   "metadata": {
    "scrolled": true
   },
   "outputs": [
    {
     "name": "stdout",
     "output_type": "stream",
     "text": [
      "Alex Rodriguez's career hit to plate appearance ratio is 0.255\n",
      "Derek Jeter's career hit to plate appearance ration is 0.275\n"
     ]
    }
   ],
   "source": [
    "rodriguez_total_PA = rodriguez.PA.sum()\n",
    "rodriguez_total_hits = rodriguez.H.sum()\n",
    "rodriguez_hit_to_PA_ratio = rodriguez_total_hits/rodriguez_total_PA\n",
    "print(\"Alex Rodriguez's career hit to plate appearance ratio is {:.3f}\".format(rodriguez_hit_to_PA_ratio))\n",
    "print(\"Derek Jeter's career hit to plate appearance ration is {:.3f}\".format(jeter_hit_to_PA_ratio))"
   ]
  },
  {
   "cell_type": "markdown",
   "metadata": {},
   "source": [
    "##### Analysis\n",
    "This means that Derek Jeter is on average a more efficient hitter, registering more hits per plate appearance than Alex Rodriguez. But what about in each of their best seasons? Which of these two greats was greater in their prime?"
   ]
  },
  {
   "cell_type": "code",
   "execution_count": 36,
   "metadata": {
    "scrolled": true
   },
   "outputs": [],
   "source": [
    "def top_three_stat_years_arod(stat1):\n",
    "    num_year = rodriguez.groupby('Year').sum()\n",
    "    stat1_ranking = num_year[stat1].rank()\n",
    "    stat1_sorted = sorted(stat1_ranking, reverse = True)\n",
    "    print('The year Rodriguez had the most '+ stat1 +  ' was',str(num_year[stat1_ranking == stat1_sorted[0]].index.values[0]))\n",
    "    print('The year Rodriguez had the second most '+ stat1 +  ' was',str(num_year[stat1_ranking == stat1_sorted[1]].index.values[0]))\n",
    "    print('The year Rodriguez had the third most '+ stat1 +  ' was',str(num_year[stat1_ranking == stat1_sorted[2]].index.values[0]))"
   ]
  },
  {
   "cell_type": "code",
   "execution_count": 37,
   "metadata": {
    "scrolled": true
   },
   "outputs": [
    {
     "name": "stdout",
     "output_type": "stream",
     "text": [
      "The year Rodriguez had the most H was 1996\n",
      "The year Rodriguez had the second most H was 1998\n",
      "The year Rodriguez had the third most H was 2001\n"
     ]
    }
   ],
   "source": [
    "top_three_stat_years_arod('H')"
   ]
  },
  {
   "cell_type": "code",
   "execution_count": 38,
   "metadata": {
    "scrolled": true
   },
   "outputs": [
    {
     "name": "stdout",
     "output_type": "stream",
     "text": [
      "The year Rodriguez had the most HR was 2002\n",
      "The year Rodriguez had the second most HR was 2007\n",
      "The year Rodriguez had the third most HR was 2001\n"
     ]
    }
   ],
   "source": [
    "top_three_stat_years_arod('HR')"
   ]
  },
  {
   "cell_type": "code",
   "execution_count": 39,
   "metadata": {
    "scrolled": true
   },
   "outputs": [
    {
     "name": "stdout",
     "output_type": "stream",
     "text": [
      "The year Rodriguez had the most win was 2004\n",
      "The year Rodriguez had the second most win was 2005\n",
      "The year Rodriguez had the third most win was 2006\n"
     ]
    }
   ],
   "source": [
    "top_three_stat_years_arod('win')"
   ]
  },
  {
   "cell_type": "markdown",
   "metadata": {},
   "source": [
    "Alex Rodriguez's best year for hitting was 1996, and Derek Jeter's best hitting year was 1999, so let's compare the hit to PA ratio of the two between these two years to see who was greater in their prime."
   ]
  },
  {
   "cell_type": "code",
   "execution_count": 40,
   "metadata": {
    "scrolled": true
   },
   "outputs": [
    {
     "name": "stdout",
     "output_type": "stream",
     "text": [
      "Alex Rodriguez's hit to PA ratio in his greatest year of hitting (1996) was: 0.32\n",
      "Derek Jeter's hit to PA ratio in his greatest year of hitting (1999) was: 0.30\n"
     ]
    }
   ],
   "source": [
    "rodriguez_1996 = rodriguez.loc[rodriguez.Year == 1996]\n",
    "#rodriguez calculations\n",
    "rodriguez_total_PA_1996 = rodriguez_1996.PA.sum()\n",
    "rodriguez_total_hits_1996 = rodriguez_1996.H.sum()\n",
    "rodriguez_hit_to_PA_ratio_1996 = rodriguez_total_hits_1996/rodriguez_total_PA_1996\n",
    "print(\"Alex Rodriguez's hit to PA ratio in his greatest year of hitting (1996) was: {:.2f}\".format(rodriguez_hit_to_PA_ratio_1996))\n",
    "#jeter calculations\n",
    "jeter_total_PA_1999 = jeter_1999.PA.sum()\n",
    "jeter_total_hits_1999 = jeter_1999.H.sum()\n",
    "jeter_hit_to_PA_ratio_1999 = jeter_total_hits_1999/jeter_total_PA_1999\n",
    "print(\"Derek Jeter's hit to PA ratio in his greatest year of hitting (1999) was: {:.2f}\".format(jeter_hit_to_PA_ratio_1999))"
   ]
  },
  {
   "cell_type": "markdown",
   "metadata": {},
   "source": [
    "##### Analysis\n",
    "What we can tell from this information is that in their primes, Alex Rodriguez was a more efficient hitter than Derek Jeter, registering a hit about every 3.13 times he was at bat, whereas Jeter registered a hit about every 3.33 times he was at bat, not too far off, but definitely less. Did this difference affect how much these players helped their team win? The limitations of our data limit the conclusion we can make but Rodriguez once again comes out on top of Jeter."
   ]
  },
  {
   "cell_type": "markdown",
   "metadata": {},
   "source": [
    "# Comparing Jeter to Williams and Garciaparra"
   ]
  },
  {
   "cell_type": "markdown",
   "metadata": {},
   "source": [
    "Now after selecting the same variables as we used with Jeter, we can use these statistics to compare the contribution that Jeter made to players Bernie Williams and Nomar Garciaparra, who batted similarly well in the 1999 season. (Jeter's best statistical season)"
   ]
  },
  {
   "cell_type": "code",
   "execution_count": 41,
   "metadata": {
    "scrolled": false
   },
   "outputs": [
    {
     "name": "stdout",
     "output_type": "stream",
     "text": [
      "Jeter total wins in 1999:  96\n",
      "Williams total wins in 1999:  96\n",
      "Garciaparra total wins in 1999:  80\n"
     ]
    }
   ],
   "source": [
    "print('Jeter total wins in 1999: ', jeter_1999.win.sum())\n",
    "print('Williams total wins in 1999: ', williams.win.sum())\n",
    "print('Garciaparra total wins in 1999: ', garciaparra.win.sum())"
   ]
  },
  {
   "cell_type": "code",
   "execution_count": 42,
   "metadata": {
    "scrolled": false
   },
   "outputs": [
    {
     "data": {
      "image/png": "[encoded data removed]",
      "text/plain": [
       "<Figure size 720x360 with 1 Axes>"
      ]
     },
     "metadata": {
      "needs_background": "light"
     },
     "output_type": "display_data"
    }
   ],
   "source": [
    "plt.figure(figsize=(10,5))\n",
    "plt.plot(garciaparra['Rk'], np.cumsum(garciaparra['win']), color = 'green', label='Garciaparra')\n",
    "plt.plot(jeter_1999['Rk'], np.cumsum(jeter_1999['win']), color = 'red', label='Jeter')\n",
    "plt.plot(williams['Rk'], np.cumsum(williams['win']), color = 'blue', alpha = 0.6, label='Williams')\n",
    "plt.ylabel('Cumulative Games Won')\n",
    "plt.xlabel('Games Played')\n",
    "plt.title('Games Won Comared to Games Played', fontsize=25)\n",
    "plt.legend()\n",
    "plt.show()"
   ]
  },
  {
   "cell_type": "markdown",
   "metadata": {},
   "source": [
    "From this initial analysis of total wins vs total games played for the 1999 season for all of these players, we can see that the green line, representing Garciaparra has the lowest slope meaning the lowest number of wins. But Jeter and Williams, the red line and blue line, are neck and neck throughout the season. At the end it is still unclear who has more wins from the graph although we found above Jeter and Williams both have 96, but now we will move on to further compare these players to clear up this discrepancy."
   ]
  },
  {
   "cell_type": "code",
   "execution_count": 43,
   "metadata": {
    "scrolled": true
   },
   "outputs": [
    {
     "name": "stdout",
     "output_type": "stream",
     "text": [
      "Jeter total hits in 1999:  219\n",
      "Williams total hits in 1999:  202\n",
      "Garciaparra total hits in 1999:  190\n"
     ]
    }
   ],
   "source": [
    "print('Jeter total hits in 1999: ', jeter_1999.H.sum())\n",
    "print('Williams total hits in 1999: ', williams.H.sum())\n",
    "print('Garciaparra total hits in 1999: ', garciaparra.H.sum())"
   ]
  },
  {
   "cell_type": "markdown",
   "metadata": {},
   "source": [
    "When looking at total hits, Jeter had the most hits in the 1999 season but also played in more games than the rest of the players. But a hit does not gain a point in the game of baseball. What does? Homeruns."
   ]
  },
  {
   "cell_type": "code",
   "execution_count": 44,
   "metadata": {
    "scrolled": true
   },
   "outputs": [
    {
     "name": "stdout",
     "output_type": "stream",
     "text": [
      "Jeter total homeruns in 1999:  24\n",
      "Williams total homeruns in 1999:  25\n",
      "Garciaparra total homeruns in 1999:  27\n"
     ]
    }
   ],
   "source": [
    "print('Jeter total homeruns in 1999: ', jeter_1999.HR.sum())\n",
    "print('Williams total homeruns in 1999: ', williams.HR.sum())\n",
    "print('Garciaparra total homeruns in 1999: ', garciaparra.HR.sum())"
   ]
  },
  {
   "cell_type": "code",
   "execution_count": 45,
   "metadata": {
    "scrolled": true
   },
   "outputs": [
    {
     "name": "stdout",
     "output_type": "stream",
     "text": [
      "Jeter homerun to hit ratio in 1999: 0.1096\n",
      "Williams homerun to hit ratio in 1999: 0.1238\n",
      "Garciaparra homerun to hit ratio in 1999: 0.1421\n"
     ]
    },
    {
     "data": {
      "image/png": "[encoded data removed]",
      "text/plain": [
       "<Figure size 432x288 with 1 Axes>"
      ]
     },
     "metadata": {
      "needs_background": "light"
     },
     "output_type": "display_data"
    }
   ],
   "source": [
    "print('Jeter homerun to hit ratio in 1999: {:.4f}'.format(jeter_1999.HR.sum()/jeter_1999.H.sum()))\n",
    "print('Williams homerun to hit ratio in 1999: {:.4f}'.format(williams.HR.sum()/williams.H.sum()))\n",
    "print('Garciaparra homerun to hit ratio in 1999: {:.4f}'.format(garciaparra.HR.sum()/garciaparra.H.sum()))\n",
    "\n",
    "data = [['Jeter', jeter_1999.HR.sum()/jeter_1999.H.sum()], ['Williams', williams.HR.sum()/williams.H.sum()], ['Garciaparra', garciaparra.HR.sum()/garciaparra.H.sum()]]\n",
    "ratios = pd.DataFrame(data, columns = ['Name', 'Ratio'])\n",
    "plt.bar(x=ratios['Name'], height=ratios['Ratio'])\n",
    "plt.ylabel('Homerun to Hit Ratio')\n",
    "plt.show()"
   ]
  },
  {
   "cell_type": "markdown",
   "metadata": {},
   "source": [
    "Using the total homeruns and hits from each player, we calculated the ratio of homeruns to hits. This number represents the probability that if a player records a hit, it is a home run. Jeter's is less than Williams's, whom has the next lowest. This still makes sense, as Jeter was never a power hitter. "
   ]
  },
  {
   "cell_type": "markdown",
   "metadata": {},
   "source": [
    "Derek Jeter although finishing on top with wins and hits falls short when it comes to homeruns. Only having 24 homeruns for his peak season may seem like Jeter was not as beneficaial of a player as he gets recognition for. However, it is important to note that Williams and Garciaparra were both middle of the lineup players who typically hit with more power, while Jeter was a leadoff man who's primary offensive goal was to get on base in order to get driven in by the players who were more likely to record an extra base hit, allowing Jeter to score from any base."
   ]
  },
  {
   "cell_type": "markdown",
   "metadata": {},
   "source": [
    "# Conclusion and Interpretations"
   ]
  },
  {
   "cell_type": "code",
   "execution_count": 49,
   "metadata": {
    "scrolled": false
   },
   "outputs": [
    {
     "name": "stdout",
     "output_type": "stream",
     "text": [
      "Jeter's total WPA over the 1999 season:  6.173\n",
      "Williams' total WPA over the 1999 season: 2.719\n",
      "Garciaparra's total WPA over the 1999 season:  2.35\n",
      "Rodriguez's total WPA over the 1996 season:  4.001\n"
     ]
    },
    {
     "data": {
      "image/png": "[encoded data removed]",
      "text/plain": [
       "<Figure size 1080x720 with 1 Axes>"
      ]
     },
     "metadata": {
      "needs_background": "light"
     },
     "output_type": "display_data"
    }
   ],
   "source": [
    "compare_WPA = pd.DataFrame(columns = ['Jeter', 'Williams', 'Garciaparra', 'Rodriguez'])\n",
    "\n",
    "rodriguez_1996 = rodriguez_1996.reset_index(drop = True)\n",
    "\n",
    "compare_WPA['Jeter'] = jeter_1999.WPA\n",
    "compare_WPA['Williams'] = williams.WPA\n",
    "compare_WPA['Garciaparra'] = garciaparra.WPA\n",
    "compare_WPA['Rodriguez'] = rodriguez_1996.WPA\n",
    "\n",
    "print(\"Jeter's total WPA over the 1999 season: \", compare_WPA['Jeter'].sum())\n",
    "print(\"Williams' total WPA over the 1999 season: {:.3f}\".format(compare_WPA['Williams'].sum()))\n",
    "print(\"Garciaparra's total WPA over the 1999 season: \", compare_WPA['Garciaparra'].sum())\n",
    "print(\"Rodriguez's total WPA over the 1996 season: \", compare_WPA['Rodriguez'].sum())\n",
    "\n",
    "compare_WPA['Jeter_4'] = compare_WPA['Jeter'].expanding(min_periods=4).mean()\n",
    "compare_WPA['Williams_4'] = compare_WPA['Williams'].expanding(min_periods=4).mean()\n",
    "compare_WPA['Garciaparra_4'] = compare_WPA['Garciaparra'].expanding(min_periods=4).mean()\n",
    "compare_WPA['Rod_4'] = compare_WPA['Rodriguez'].expanding(min_periods=4).mean()\n",
    "compare_WPA.head()\n",
    "\n",
    "plt.figure(figsize=[15,10])\n",
    "plt.grid(True)\n",
    "plt.plot(compare_WPA['Jeter_4'],label='Jeter WPA', color='blue')\n",
    "\n",
    "\n",
    "plt.grid(True)\n",
    "plt.plot(compare_WPA['Williams_4'],label='Williams WPA', color='magenta')\n",
    "\n",
    "plt.grid(True)\n",
    "plt.plot(compare_WPA['Garciaparra_4'],label='Garciaparra WPA', color='cyan')\n",
    "\n",
    "plt.grid(True)\n",
    "plt.plot(compare_WPA['Rod_4'],label='Rodriguez WPA', color='green')\n",
    "\n",
    "plt.axhline(y=0, color='red', linestyle='dashed')\n",
    "\n",
    "plt.title('Comparing WPA over the selected season for each player', fontsize=25)\n",
    "plt.legend(loc=2)\n",
    "plt.show()"
   ]
  },
  {
   "cell_type": "markdown",
   "metadata": {},
   "source": [
    "This plot includes the moving averages for Jeter, Garciaparra, and Williams for the 1999 season, and Rodriguez for the 1996 season. In statistics, a moving average is a calculation to analyze data points by creating a series of averages of different subsets of the full data set. The moving average is mostly used with time series data to capture the short-term fluctuations while focusing on longer trends. We used this to smoothen the data and make the trends more clear. WPA meaning win probability added will be negative for a loss and postive for a win. We added in a dashed line when the WPA equals zero to see if the player contributed positively or negatively for the majority of the season. Jeter seems to have the most positive contributions, next Rodriguez, then Williams, and finally Garciaparra. And looking at the total sum of the players WPA over the selected season, Jeter contributes significantly more with a sum of over 6, while Rodriguez is only around 4, and the other 2 players are below 3. \n",
    "\n",
    "\n",
    "Looking broadly at these four players this makes sense. Although we found that Jeter is not an all star hitter, overall through contributions besides homeruns and the recorded stats we used, he has contributed more towards the Yankees wins than Rodriguez, Williams and Garciaparra. He may have been less valuable when up to bat, but he made up for it through his fielding performance. Although he still contributed through his batting, just was not a leading hitter.\n"
   ]
  }
 ],
 "metadata": {
  "kernelspec": {
   "display_name": "Python 3",
   "language": "python",
   "name": "python3"
  },
  "language_info": {
   "codemirror_mode": {
    "name": "ipython",
    "version": 3
   },
   "file_extension": ".py",
   "mimetype": "text/x-python",
   "name": "python",
   "nbconvert_exporter": "python",
   "pygments_lexer": "ipython3",
   "version": "3.7.6"
  }
 },
 "nbformat": 4,
 "nbformat_minor": 4
}
