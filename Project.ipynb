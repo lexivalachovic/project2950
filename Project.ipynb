{
 "cells": [
  {
   "cell_type": "markdown",
   "metadata": {},
   "source": [
    "# Research Questions"
   ]
  },
  {
   "cell_type": "markdown",
   "metadata": {},
   "source": [
    "How valuable was Derek Jeter to the NY Yankees?\n",
    "\n",
    "How much did Derek Jeter contribute to the wins based on the variables we chose to include?\n",
    "\n",
    "Looking at other players, was Derek Jeter significantly better at getting a win?\n",
    "\n",
    "Did Derek Jeter improve throughout his seasons on the Yankees? Did he peak? Which season was his best? What are his most important contributing factors?"
   ]
  },
  {
   "cell_type": "markdown",
   "metadata": {},
   "source": [
    "# Data Description\n"
   ]
  },
  {
   "cell_type": "markdown",
   "metadata": {},
   "source": [
    "Year - the season the data is from.\n",
    "\n",
    "RSLT - Result: Win or Loss, tracks whether the baseball game played was a win or a loss for the team\n",
    "\n",
    "H - hits, tracks how many hits Derek Jeter had in a given game. A hit, also called a base hit, is credited to a batter when the batter safely reaches or passes first base after hitting the ball into fair territory, without the benefit of an error or a fielder's choice\n",
    "\n",
    "HR - home runs, tracks how many home runs Derek Jeter had in a given game. A home run is scored when the ball is hit in such a way that the batter is able to circle the bases and reach home safely in one play without any errors being committed by the defensive team in the process\n",
    "\n",
    "SB - stolen base, tracks how many bases Derek Jeter had in a given game. A stolen base occurs when a baserunner advances by taking a base to which he isn't entitled. This generally occurs when a pitcher is throwing a pitch, but it can also occur while the pitcher still has the ball or is attempting a pickoff, or as the catcher is throwing the ball back to the pitcher.\n",
    "\n",
    "BB - base on balls (walk) tracks how many walks Derek Jeter had in a given game. A base on balls, also known as a walk, occurs in baseball when a batter receives four pitches that the umpire calls balls, and is in turn awarded first base without the possibility of being called out\n",
    "\n",
    "WPA - win probability added, tracks Derek Jeter’s win probability added in a given game. Win probability added is a sport statistic which attempts to measure a player's contribution to a win by figuring the factor by which each specific play made by that player has altered the outcome of a game.\n",
    "\n",
    "What are the observations (rows) and the attributes (columns)?\n",
    "-- Each row represents a single game for the 20 seasons he played baseball. The columns each represent a different record of data, or a calculated statistic as explained above.\n",
    "\n",
    "Why was this dataset created?\n",
    "-- This data set was created for the purpose of tracking New York Yankees player, Derek Jeter. He was an outstanding player and these statistics were compiled together after each game, each season to allow MLB fans to look back on the result and statistics of the game, and to look at the individual players success.\n",
    "\n",
    "What processes might have influenced what data was observed and recorded and what was not?\n",
    "-- Any data that is considered a significant play is recorded. Whenever a player gets a hit, a homerun, times up to bat, etc. The dataset that we are utilizing is a batting log, so only plays that happen while up to bat or on base are recorded.\n",
    "\n",
    "What preprocessing was done, and how did the data come to be in the form that you are using?\n",
    "-- The only preprocessed variable in our usage of the dataset is the WPA, win probability added. This is calculated using the data collected throughout the game. We included this in our dataset to compare how much the variables we choose contributed to the actual win probability added.\n",
    "\n",
    "If people are involved, were they aware of the data collection and if so, what purpose did they expect the data to be used for?\n",
    "-- Yes, collecting sports statistics happens at every major league sporting event and even lower levels. The statistics and data are used for many different purposes. The data that is collected and analyzed is used to help increase fan experience and attendance from year to year. Sports analytics are crucial to many teams by helping them become their best through interpretation and analysis of statistics gained in games.\n",
    "\n",
    "Who funded the creation of the dataset?\n",
    "-- "
   ]
  },
  {
   "cell_type": "markdown",
   "metadata": {},
   "source": [
    "# Data Collection and Cleaning"
   ]
  },
  {
   "cell_type": "markdown",
   "metadata": {},
   "source": [
    "To collect our data, we scraped online databases of baseball statistics in order to pull all of Derek Jeter’s in game statistics on a game by game basis for every game of his career ranging from 1995 to 2014. This data contained all of his batting statistics including variables such as OPS, BA, CS, GDP, SH, SF, HBP, SO, IBB, RE24, cWPA, and other such acronyms relating to baseball measurements. However, not all of these variables are applicable or comparable in regards to the type of inferences we are trying to make. Thus, in our data cleaning process, we first evaluated which of the variables would be appropriate and comparable for our studies. We came up with a final list of variables including year, home runs, hits, game result, stolen bases, base on balls, and win probability added. These variables are unique in that they are recorded on a game by game basis and do not accumulate, unlike some of the other variables that were included in the stat sheet. Then, with these specific statistics chosen, we cleaned the data by simply excluding the statistics that we did not want, and then combining the statistics that we did want into a single dataframe which is easily processable and neat. Through this process, we cut our dataset from 38 columns over 19 dataframes to a more readable six columns all in one dataframe. \n"
   ]
  },
  {
   "cell_type": "markdown",
   "metadata": {},
   "source": [
    "# Data Limitations"
   ]
  },
  {
   "cell_type": "markdown",
   "metadata": {},
   "source": [
    "Baseball statistics are inherently limited in the scope of what they measure. Thus, our dataset can only provide limited conclusions as well. This dataset could include many other statistics if it were to be complete and provide the best, most accurate conclusions, but due to the difficulty of processing so many variables and the time constraints of this project, we chose only the most important ones. There is the possibility that there is human error in recording the information, and it is possible that the older statistics from 1995 are not as precise as the ones gathered more recently, given new technology in sports statistic reporting and recording. \n"
   ]
  },
  {
   "cell_type": "code",
   "execution_count": 28,
   "metadata": {},
   "outputs": [],
   "source": [
    "import numpy as np\n",
    "import matplotlib.pyplot as plt\n",
    "import pandas as pd\n",
    "import seaborn as sns\n",
    "from scipy import stats\n",
    "from   sklearn.linear_model import LinearRegression, LogisticRegression\n",
    "from   sklearn.model_selection import train_test_split\n",
    "import statsmodels.formula.api as smf\n"
   ]
  },
  {
   "cell_type": "code",
   "execution_count": 29,
   "metadata": {},
   "outputs": [
    {
     "data": {
      "text/html": [
       "<div>\n",
       "<style scoped>\n",
       "    .dataframe tbody tr th:only-of-type {\n",
       "        vertical-align: middle;\n",
       "    }\n",
       "\n",
       "    .dataframe tbody tr th {\n",
       "        vertical-align: top;\n",
       "    }\n",
       "\n",
       "    .dataframe thead th {\n",
       "        text-align: right;\n",
       "    }\n",
       "</style>\n",
       "<table border=\"1\" class=\"dataframe\">\n",
       "  <thead>\n",
       "    <tr style=\"text-align: right;\">\n",
       "      <th></th>\n",
       "      <th>Year</th>\n",
       "      <th>Rslt</th>\n",
       "      <th>H</th>\n",
       "      <th>HR</th>\n",
       "      <th>SB</th>\n",
       "      <th>BB</th>\n",
       "      <th>WPA</th>\n",
       "      <th>win</th>\n",
       "    </tr>\n",
       "  </thead>\n",
       "  <tbody>\n",
       "    <tr>\n",
       "      <th>0</th>\n",
       "      <td>2014</td>\n",
       "      <td>L,2-6</td>\n",
       "      <td>1</td>\n",
       "      <td>0</td>\n",
       "      <td>0</td>\n",
       "      <td>0</td>\n",
       "      <td>0.026</td>\n",
       "      <td>0</td>\n",
       "    </tr>\n",
       "    <tr>\n",
       "      <th>1</th>\n",
       "      <td>2014</td>\n",
       "      <td>L,1-3</td>\n",
       "      <td>0</td>\n",
       "      <td>0</td>\n",
       "      <td>0</td>\n",
       "      <td>1</td>\n",
       "      <td>-0.051</td>\n",
       "      <td>0</td>\n",
       "    </tr>\n",
       "    <tr>\n",
       "      <th>2</th>\n",
       "      <td>2014</td>\n",
       "      <td>W,4-2</td>\n",
       "      <td>1</td>\n",
       "      <td>0</td>\n",
       "      <td>0</td>\n",
       "      <td>1</td>\n",
       "      <td>0.089</td>\n",
       "      <td>1</td>\n",
       "    </tr>\n",
       "    <tr>\n",
       "      <th>3</th>\n",
       "      <td>2014</td>\n",
       "      <td>L,0-4</td>\n",
       "      <td>0</td>\n",
       "      <td>0</td>\n",
       "      <td>0</td>\n",
       "      <td>2</td>\n",
       "      <td>0.180</td>\n",
       "      <td>0</td>\n",
       "    </tr>\n",
       "    <tr>\n",
       "      <th>4</th>\n",
       "      <td>2014</td>\n",
       "      <td>W,6-4</td>\n",
       "      <td>2</td>\n",
       "      <td>0</td>\n",
       "      <td>0</td>\n",
       "      <td>0</td>\n",
       "      <td>0.007</td>\n",
       "      <td>1</td>\n",
       "    </tr>\n",
       "  </tbody>\n",
       "</table>\n",
       "</div>"
      ],
      "text/plain": [
       "   Year   Rslt  H  HR  SB  BB    WPA  win\n",
       "0  2014  L,2-6  1   0   0   0  0.026    0\n",
       "1  2014  L,1-3  0   0   0   1 -0.051    0\n",
       "2  2014  W,4-2  1   0   0   1  0.089    1\n",
       "3  2014  L,0-4  0   0   0   2  0.180    0\n",
       "4  2014  W,6-4  2   0   0   0  0.007    1"
      ]
     },
     "execution_count": 29,
     "metadata": {},
     "output_type": "execute_result"
    }
   ],
   "source": [
    "jeter = pd.read_csv(\"JeterStats.csv\")\n",
    "jeter['win'] = jeter.Rslt.apply(lambda x: 1 if 'W' in x else 0)\n",
    "jeter_win_subset = jeter[jeter['win']==1]\n",
    "jeter_loss_subset = jeter[jeter['win']==0]\n",
    "jeter.head()"
   ]
  },
  {
   "cell_type": "markdown",
   "metadata": {},
   "source": [
    "The above code adds a 'win' column to the Jeter dataframe, with the value 1 representing a win, and a 0 representing a loss"
   ]
  },
  {
   "cell_type": "code",
   "execution_count": 30,
   "metadata": {},
   "outputs": [
    {
     "name": "stdout",
     "output_type": "stream",
     "text": [
      "Correlation between walks and wins:  0.0581\n"
     ]
    }
   ],
   "source": [
    "walks = np.array(jeter.loc[:,\"BB\"])\n",
    "wins = np.array(jeter.loc[:,\"win\"])\n",
    "correlation_bb_wins = np.corrcoef(walks,wins)\n",
    "print(\"Correlation between walks and wins: \", round(correlation_bb_wins[0][1],4))"
   ]
  },
  {
   "cell_type": "markdown",
   "metadata": {},
   "source": [
    "There is a slight positive correlation between the number of walks Derek Jeter had and the number of wins the Yankees had. This makes sense, as getting to first base is a first step towards scoring, and ultimately towards winning a game."
   ]
  },
  {
   "cell_type": "code",
   "execution_count": 31,
   "metadata": {},
   "outputs": [
    {
     "name": "stdout",
     "output_type": "stream",
     "text": [
      "Correlation between stolen bases and wins:  0.0628\n"
     ]
    }
   ],
   "source": [
    "sb = np.array(jeter.loc[:,\"SB\"])\n",
    "wins = np.array(jeter.loc[:,\"win\"])\n",
    "correlation_sb_wins = np.corrcoef(sb,wins)\n",
    "print('Correlation between stolen bases and wins: ', round(correlation_sb_wins[0][1],4))"
   ]
  },
  {
   "cell_type": "markdown",
   "metadata": {},
   "source": [
    "There is a slight positive correlation between the number of stolen bases Derek Jeter had and the number of wins he had. Meaning if he stole a base, there is a slight positive probability that the Yankees won that game."
   ]
  },
  {
   "cell_type": "code",
   "execution_count": 41,
   "metadata": {},
   "outputs": [
    {
     "name": "stdout",
     "output_type": "stream",
     "text": [
      "Estimated Slope:  0.21016625897063304\n"
     ]
    }
   ],
   "source": [
    "real_slope = 0.1658\n",
    "real_x = np.array(jeter.loc[:,'SB'])\n",
    "noise = np.random.normal(0,0.5, size=len(jeter.loc[:,\"SB\"]))\n",
    "real_y = real_x * real_slope  +  noise\n",
    "df = pd.DataFrame({\"SB\": real_x, \"win\": real_y})\n",
    "model = LinearRegression().fit(df[[\"SB\"]], df[\"win\"])\n",
    "print(\"Estimated Slope: \", model.coef_[0])"
   ]
  },
  {
   "cell_type": "markdown",
   "metadata": {},
   "source": [
    "The observed slope is slightly greater than the real slope because of the added noise and unpredictability of said noise."
   ]
  },
  {
   "cell_type": "code",
   "execution_count": 42,
   "metadata": {},
   "outputs": [
    {
     "data": {
      "image/png": "[encoded data removed]",
      "text/plain": [
       "<Figure size 432x288 with 1 Axes>"
      ]
     },
     "metadata": {
      "needs_background": "light"
     },
     "output_type": "display_data"
    }
   ],
   "source": [
    "sns.regplot(x='SB', y='win', data=df);"
   ]
  },
  {
   "cell_type": "code",
   "execution_count": 35,
   "metadata": {},
   "outputs": [
    {
     "name": "stdout",
     "output_type": "stream",
     "text": [
      "Mean WPA: 0.011262\n"
     ]
    }
   ],
   "source": [
    "contribute = jeter.WPA.mean()\n",
    "print('Mean WPA: {:.6f}'.format(contribute))"
   ]
  },
  {
   "cell_type": "markdown",
   "metadata": {},
   "source": [
    "Looking at the mean WPA of 0.011262, this shows that overall Derek Jeter made a positive contribution over the 20 seasons he played."
   ]
  },
  {
   "cell_type": "code",
   "execution_count": 89,
   "metadata": {},
   "outputs": [
    {
     "data": {
      "text/plain": [
       "([<matplotlib.axis.XTick at 0x1a1b1fad90>,\n",
       "  <matplotlib.axis.XTick at 0x1a1a709d10>,\n",
       "  <matplotlib.axis.XTick at 0x1a1aa74390>,\n",
       "  <matplotlib.axis.XTick at 0x1a1b2159d0>,\n",
       "  <matplotlib.axis.XTick at 0x1a1b215e90>,\n",
       "  <matplotlib.axis.XTick at 0x1a1b220510>,\n",
       "  <matplotlib.axis.XTick at 0x1a1b220b90>,\n",
       "  <matplotlib.axis.XTick at 0x1a1b227290>,\n",
       "  <matplotlib.axis.XTick at 0x1a1b215990>,\n",
       "  <matplotlib.axis.XTick at 0x1a1b227690>],\n",
       " <a list of 10 Text xticklabel objects>)"
      ]
     },
     "execution_count": 89,
     "metadata": {},
     "output_type": "execute_result"
    },
    {
     "data": {
      "image/png": "[encoded data removed]",
      "text/plain": [
       "<Figure size 432x288 with 1 Axes>"
      ]
     },
     "metadata": {
      "needs_background": "light"
     },
     "output_type": "display_data"
    }
   ],
   "source": [
    "np.arange(jeter[\"Year\"].min(),jeter[\"Year\"].max())\n",
    "num_hits_year = jeter.groupby('Year').sum()\n",
    "years_played = jeter[\"Year\"].unique()\n",
    "plt.bar(x = years_played, height = num_hits_year['H'])\n",
    "plt.xlabel('Years')\n",
    "plt.ylabel('Hits')\n",
    "plt.title(\"Jeter's Yearly Total of Hits\")\n",
    "plt.xticks(np.arange(min(x), max(x)+1, 2.0))"
   ]
  },
  {
   "cell_type": "markdown",
   "metadata": {},
   "source": [
    "The above graph shows that Derek Jeter recorded the most hits in the seasons of 1997, 2000, 2003, and 2010."
   ]
  },
  {
   "cell_type": "code",
   "execution_count": 90,
   "metadata": {
    "scrolled": false
   },
   "outputs": [
    {
     "data": {
      "text/plain": [
       "([<matplotlib.axis.XTick at 0x1a1b1e2610>,\n",
       "  <matplotlib.axis.XTick at 0x1a1acc1350>,\n",
       "  <matplotlib.axis.XTick at 0x1a1acc1310>,\n",
       "  <matplotlib.axis.XTick at 0x1a1b35a390>,\n",
       "  <matplotlib.axis.XTick at 0x1a1b35a850>,\n",
       "  <matplotlib.axis.XTick at 0x1a1b35ae90>,\n",
       "  <matplotlib.axis.XTick at 0x1a1b361550>,\n",
       "  <matplotlib.axis.XTick at 0x1a1b361b90>,\n",
       "  <matplotlib.axis.XTick at 0x1a1b3614d0>,\n",
       "  <matplotlib.axis.XTick at 0x1a1b35a1d0>],\n",
       " <a list of 10 Text xticklabel objects>)"
      ]
     },
     "execution_count": 90,
     "metadata": {},
     "output_type": "execute_result"
    },
    {
     "data": {
      "image/png": "[encoded data removed]",
      "text/plain": [
       "<Figure size 432x288 with 1 Axes>"
      ]
     },
     "metadata": {
      "needs_background": "light"
     },
     "output_type": "display_data"
    }
   ],
   "source": [
    "np.arange(jeter[\"Year\"].min(),jeter[\"Year\"].max())\n",
    "num_hits_year = jeter.groupby('Year').sum()\n",
    "years_played = jeter[\"Year\"].unique()\n",
    "plt.bar(x = years_played, height = num_hits_year['BB'])\n",
    "plt.xlabel('Years')\n",
    "plt.ylabel('Walks')\n",
    "plt.title(\"Jeter's Yearly Total of Walks\")\n",
    "plt.xticks(np.arange(min(x), max(x)+1, 2.0))"
   ]
  },
  {
   "cell_type": "markdown",
   "metadata": {},
   "source": [
    "The above graph shows that Derek Jeter recorded his most walks in the season of 2010."
   ]
  },
  {
   "cell_type": "code",
   "execution_count": 91,
   "metadata": {},
   "outputs": [
    {
     "data": {
      "text/plain": [
       "([<matplotlib.axis.XTick at 0x1a1b0ceed0>,\n",
       "  <matplotlib.axis.XTick at 0x1a1b39c110>,\n",
       "  <matplotlib.axis.XTick at 0x1a1b37bed0>,\n",
       "  <matplotlib.axis.XTick at 0x1a1b46dcd0>,\n",
       "  <matplotlib.axis.XTick at 0x1a1b47a250>,\n",
       "  <matplotlib.axis.XTick at 0x1a1b47a810>,\n",
       "  <matplotlib.axis.XTick at 0x1a1b47ae90>,\n",
       "  <matplotlib.axis.XTick at 0x1a1b47f510>,\n",
       "  <matplotlib.axis.XTick at 0x1a1b46dc90>,\n",
       "  <matplotlib.axis.XTick at 0x1a1b47f750>],\n",
       " <a list of 10 Text xticklabel objects>)"
      ]
     },
     "execution_count": 91,
     "metadata": {},
     "output_type": "execute_result"
    },
    {
     "data": {
      "image/png": "[encoded data removed]",
      "text/plain": [
       "<Figure size 432x288 with 1 Axes>"
      ]
     },
     "metadata": {
      "needs_background": "light"
     },
     "output_type": "display_data"
    }
   ],
   "source": [
    "np.arange(jeter[\"Year\"].min(),jeter[\"Year\"].max())\n",
    "num_hits_year = jeter.groupby('Year').sum()\n",
    "years_played = jeter[\"Year\"].unique()\n",
    "plt.bar(x = years_played, height = num_hits_year['HR'])\n",
    "plt.xlabel('Years')\n",
    "plt.ylabel('Home Runs')\n",
    "plt.title(\"Jeter's Yearly Total of Home Runs\")\n",
    "plt.xticks(np.arange(min(x), max(x)+1, 2.0))"
   ]
  },
  {
   "cell_type": "markdown",
   "metadata": {},
   "source": [
    "The above graph shows that Derek Jeter recorded his most Home Runs in the seasons of 2004 and 2010."
   ]
  },
  {
   "cell_type": "code",
   "execution_count": 92,
   "metadata": {},
   "outputs": [
    {
     "data": {
      "text/plain": [
       "([<matplotlib.axis.XTick at 0x1a1b22c1d0>,\n",
       "  <matplotlib.axis.XTick at 0x1a1b4be0d0>,\n",
       "  <matplotlib.axis.XTick at 0x1a1b4bcdd0>,\n",
       "  <matplotlib.axis.XTick at 0x1a1b58cc50>,\n",
       "  <matplotlib.axis.XTick at 0x1a1b598190>,\n",
       "  <matplotlib.axis.XTick at 0x1a1b598790>,\n",
       "  <matplotlib.axis.XTick at 0x1a1b598e10>,\n",
       "  <matplotlib.axis.XTick at 0x1a1b59e490>,\n",
       "  <matplotlib.axis.XTick at 0x1a1b598d10>,\n",
       "  <matplotlib.axis.XTick at 0x1a1b59eb10>],\n",
       " <a list of 10 Text xticklabel objects>)"
      ]
     },
     "execution_count": 92,
     "metadata": {},
     "output_type": "execute_result"
    },
    {
     "data": {
      "image/png": "[encoded data removed]",
      "text/plain": [
       "<Figure size 432x288 with 1 Axes>"
      ]
     },
     "metadata": {
      "needs_background": "light"
     },
     "output_type": "display_data"
    }
   ],
   "source": [
    "np.arange(jeter[\"Year\"].min(),jeter[\"Year\"].max())\n",
    "num_hits_year = jeter.groupby('Year').sum()\n",
    "years_played = jeter[\"Year\"].unique()\n",
    "plt.bar(x = years_played, height = num_hits_year['SB'])\n",
    "plt.xlabel('Years')\n",
    "plt.ylabel('Stolen Bases')\n",
    "plt.title(\"Jeter's Yearly Total of Stolen Bases\")\n",
    "plt.xticks(np.arange(min(x), max(x)+1, 2.0))"
   ]
  },
  {
   "cell_type": "markdown",
   "metadata": {},
   "source": [
    "The above graph shows that Derek Jeter recorded the most Stolen Bases in the seasons of 2000, 2003, 2007, and 2011. "
   ]
  },
  {
   "cell_type": "code",
   "execution_count": 94,
   "metadata": {},
   "outputs": [
    {
     "data": {
      "text/plain": [
       "([<matplotlib.axis.XTick at 0x1a1b5a5090>,\n",
       "  <matplotlib.axis.XTick at 0x1a1b6fde50>,\n",
       "  <matplotlib.axis.XTick at 0x1a1b6fdb90>,\n",
       "  <matplotlib.axis.XTick at 0x1a1b7d7790>,\n",
       "  <matplotlib.axis.XTick at 0x1a1b7d7c50>,\n",
       "  <matplotlib.axis.XTick at 0x1a1b7de2d0>,\n",
       "  <matplotlib.axis.XTick at 0x1a1b7de950>,\n",
       "  <matplotlib.axis.XTick at 0x1a1b7de810>,\n",
       "  <matplotlib.axis.XTick at 0x1a1b7dee90>,\n",
       "  <matplotlib.axis.XTick at 0x1a1b7e4090>],\n",
       " <a list of 10 Text xticklabel objects>)"
      ]
     },
     "execution_count": 94,
     "metadata": {},
     "output_type": "execute_result"
    },
    {
     "data": {
      "image/png": "[encoded data removed]",
      "text/plain": [
       "<Figure size 432x288 with 1 Axes>"
      ]
     },
     "metadata": {
      "needs_background": "light"
     },
     "output_type": "display_data"
    }
   ],
   "source": [
    "np.arange(jeter[\"Year\"].min(),jeter[\"Year\"].max())\n",
    "num_hits_year = jeter.groupby('Year').sum()\n",
    "years_played = jeter[\"Year\"].unique()\n",
    "plt.bar(x = years_played, height = num_hits_year['win'])\n",
    "plt.xlabel('Years')\n",
    "plt.ylabel('Wins')\n",
    "plt.title(\"Yankees's Yearly Total of Wins in Games Jeter Played\")\n",
    "plt.xticks(np.arange(min(x), max(x)+1, 2.0))"
   ]
  },
  {
   "cell_type": "markdown",
   "metadata": {},
   "source": [
    "The above graph shows that the Yankees won the most games of games that Derek Jeter Played in the seasons of 1997, 2000, 2003, 2005, 2007, 2010, and 2011 "
   ]
  },
  {
   "cell_type": "markdown",
   "metadata": {},
   "source": [
    "Seasons where Jeter's stats peaked as well as Yankee Wins: 1997, 2000, 2003, 2007, 2010, 2011"
   ]
  },
  {
   "cell_type": "markdown",
   "metadata": {},
   "source": [
    "From the data analysis from above, Jeter had 6 above average seasons. To further look at Jeter's contributions and importance to the NY Yankees, will will be using his 2010 season to compare to other players in the same season. This will allow us to compare his batting statistics with other players to see if he contributed more to his team than others."
   ]
  },
  {
   "cell_type": "markdown",
   "metadata": {},
   "source": [
    "# Josh Hamilton\n",
    "\n",
    "Joshua Holt Hamilton is an American former professional baseball outfielder. He played in Major League Baseball for the Cincinnati Reds, Texas Rangers, and Los Angeles Angels of Anaheim. Hamilton is a five-time MLB All-Star and won the American League Most Valuable Player Award in 2010."
   ]
  },
  {
   "cell_type": "code",
   "execution_count": 34,
   "metadata": {},
   "outputs": [
    {
     "data": {
      "text/html": [
       "<div>\n",
       "<style scoped>\n",
       "    .dataframe tbody tr th:only-of-type {\n",
       "        vertical-align: middle;\n",
       "    }\n",
       "\n",
       "    .dataframe tbody tr th {\n",
       "        vertical-align: top;\n",
       "    }\n",
       "\n",
       "    .dataframe thead th {\n",
       "        text-align: right;\n",
       "    }\n",
       "</style>\n",
       "<table border=\"1\" class=\"dataframe\">\n",
       "  <thead>\n",
       "    <tr style=\"text-align: right;\">\n",
       "      <th></th>\n",
       "      <th>Rk</th>\n",
       "      <th>Gcar</th>\n",
       "      <th>Gtm</th>\n",
       "      <th>Date</th>\n",
       "      <th>Tm</th>\n",
       "      <th>Opp</th>\n",
       "      <th>Rslt</th>\n",
       "      <th>Inngs</th>\n",
       "      <th>PA</th>\n",
       "      <th>AB</th>\n",
       "      <th>...</th>\n",
       "      <th>OBP</th>\n",
       "      <th>SLG</th>\n",
       "      <th>OPS</th>\n",
       "      <th>BOP</th>\n",
       "      <th>aLI</th>\n",
       "      <th>WPA</th>\n",
       "      <th>acLI</th>\n",
       "      <th>cWPA</th>\n",
       "      <th>RE24</th>\n",
       "      <th>Pos</th>\n",
       "    </tr>\n",
       "  </thead>\n",
       "  <tbody>\n",
       "    <tr>\n",
       "      <th>0</th>\n",
       "      <td>1</td>\n",
       "      <td>336</td>\n",
       "      <td>1</td>\n",
       "      <td>5-Apr</td>\n",
       "      <td>TEX</td>\n",
       "      <td>TOR</td>\n",
       "      <td>W,5-4</td>\n",
       "      <td>CG</td>\n",
       "      <td>4</td>\n",
       "      <td>3</td>\n",
       "      <td>...</td>\n",
       "      <td>0.250</td>\n",
       "      <td>0.000</td>\n",
       "      <td>0.250</td>\n",
       "      <td>3</td>\n",
       "      <td>1.69</td>\n",
       "      <td>-0.176</td>\n",
       "      <td>1.65</td>\n",
       "      <td>-0.10%</td>\n",
       "      <td>-0.62</td>\n",
       "      <td>LF</td>\n",
       "    </tr>\n",
       "    <tr>\n",
       "      <th>1</th>\n",
       "      <td>2</td>\n",
       "      <td>337</td>\n",
       "      <td>2</td>\n",
       "      <td>7-Apr</td>\n",
       "      <td>TEX</td>\n",
       "      <td>TOR</td>\n",
       "      <td>L,4-7</td>\n",
       "      <td>CG</td>\n",
       "      <td>4</td>\n",
       "      <td>4</td>\n",
       "      <td>...</td>\n",
       "      <td>0.125</td>\n",
       "      <td>0.000</td>\n",
       "      <td>0.125</td>\n",
       "      <td>3</td>\n",
       "      <td>1.20</td>\n",
       "      <td>-0.124</td>\n",
       "      <td>1.26</td>\n",
       "      <td>-0.08%</td>\n",
       "      <td>-0.93</td>\n",
       "      <td>LF</td>\n",
       "    </tr>\n",
       "    <tr>\n",
       "      <th>2</th>\n",
       "      <td>3</td>\n",
       "      <td>338</td>\n",
       "      <td>3</td>\n",
       "      <td>8-Apr</td>\n",
       "      <td>TEX</td>\n",
       "      <td>TOR</td>\n",
       "      <td>L,1-3</td>\n",
       "      <td>7-GF</td>\n",
       "      <td>2</td>\n",
       "      <td>1</td>\n",
       "      <td>...</td>\n",
       "      <td>0.200</td>\n",
       "      <td>0.000</td>\n",
       "      <td>0.200</td>\n",
       "      <td>8</td>\n",
       "      <td>1.12</td>\n",
       "      <td>-0.040</td>\n",
       "      <td>1.14</td>\n",
       "      <td>-0.03%</td>\n",
       "      <td>-0.25</td>\n",
       "      <td>PH LF</td>\n",
       "    </tr>\n",
       "    <tr>\n",
       "      <th>3</th>\n",
       "      <td>4</td>\n",
       "      <td>339</td>\n",
       "      <td>4</td>\n",
       "      <td>9-Apr</td>\n",
       "      <td>TEX</td>\n",
       "      <td>SEA</td>\n",
       "      <td>W,6-2</td>\n",
       "      <td>CG</td>\n",
       "      <td>4</td>\n",
       "      <td>3</td>\n",
       "      <td>...</td>\n",
       "      <td>0.286</td>\n",
       "      <td>0.182</td>\n",
       "      <td>0.468</td>\n",
       "      <td>3</td>\n",
       "      <td>0.66</td>\n",
       "      <td>0.013</td>\n",
       "      <td>0.79</td>\n",
       "      <td>0.01%</td>\n",
       "      <td>1.15</td>\n",
       "      <td>LF</td>\n",
       "    </tr>\n",
       "    <tr>\n",
       "      <th>4</th>\n",
       "      <td>5</td>\n",
       "      <td>340</td>\n",
       "      <td>5</td>\n",
       "      <td>10-Apr</td>\n",
       "      <td>TEX</td>\n",
       "      <td>SEA</td>\n",
       "      <td>L,3-4</td>\n",
       "      <td>CG</td>\n",
       "      <td>4</td>\n",
       "      <td>2</td>\n",
       "      <td>...</td>\n",
       "      <td>0.389</td>\n",
       "      <td>0.385</td>\n",
       "      <td>0.774</td>\n",
       "      <td>3</td>\n",
       "      <td>0.71</td>\n",
       "      <td>0.126</td>\n",
       "      <td>0.88</td>\n",
       "      <td>0.09%</td>\n",
       "      <td>1.29</td>\n",
       "      <td>LF</td>\n",
       "    </tr>\n",
       "  </tbody>\n",
       "</table>\n",
       "<p>5 rows × 37 columns</p>\n",
       "</div>"
      ],
      "text/plain": [
       "   Rk  Gcar Gtm    Date   Tm  Opp   Rslt Inngs  PA  AB  ...    OBP    SLG  \\\n",
       "0   1   336   1   5-Apr  TEX  TOR  W,5-4    CG   4   3  ...  0.250  0.000   \n",
       "1   2   337   2   7-Apr  TEX  TOR  L,4-7    CG   4   4  ...  0.125  0.000   \n",
       "2   3   338   3   8-Apr  TEX  TOR  L,1-3  7-GF   2   1  ...  0.200  0.000   \n",
       "3   4   339   4   9-Apr  TEX  SEA  W,6-2    CG   4   3  ...  0.286  0.182   \n",
       "4   5   340   5  10-Apr  TEX  SEA  L,3-4    CG   4   2  ...  0.389  0.385   \n",
       "\n",
       "     OPS  BOP   aLI    WPA  acLI    cWPA  RE24    Pos  \n",
       "0  0.250    3  1.69 -0.176  1.65  -0.10% -0.62     LF  \n",
       "1  0.125    3  1.20 -0.124  1.26  -0.08% -0.93     LF  \n",
       "2  0.200    8  1.12 -0.040  1.14  -0.03% -0.25  PH LF  \n",
       "3  0.468    3  0.66  0.013  0.79   0.01%  1.15     LF  \n",
       "4  0.774    3  0.71  0.126  0.88   0.09%  1.29     LF  \n",
       "\n",
       "[5 rows x 37 columns]"
      ]
     },
     "execution_count": 34,
     "metadata": {},
     "output_type": "execute_result"
    }
   ],
   "source": [
    "hamilton = pd.read_csv('Hamilton.csv')\n",
    "hamilton.head()"
   ]
  },
  {
   "cell_type": "markdown",
   "metadata": {},
   "source": [
    "# Miguel Cabrera\n",
    "\n",
    "José Miguel Cabrera Torres, commonly known as Miguel Cabrera and nicknamed \"Miggy\", is a Venezuelan professional baseball first baseman and designated hitter for the Detroit Tigers of Major League Baseball."
   ]
  },
  {
   "cell_type": "code",
   "execution_count": 36,
   "metadata": {},
   "outputs": [
    {
     "data": {
      "text/html": [
       "<div>\n",
       "<style scoped>\n",
       "    .dataframe tbody tr th:only-of-type {\n",
       "        vertical-align: middle;\n",
       "    }\n",
       "\n",
       "    .dataframe tbody tr th {\n",
       "        vertical-align: top;\n",
       "    }\n",
       "\n",
       "    .dataframe thead th {\n",
       "        text-align: right;\n",
       "    }\n",
       "</style>\n",
       "<table border=\"1\" class=\"dataframe\">\n",
       "  <thead>\n",
       "    <tr style=\"text-align: right;\">\n",
       "      <th></th>\n",
       "      <th>Rk</th>\n",
       "      <th>Gcar</th>\n",
       "      <th>Gtm</th>\n",
       "      <th>Date</th>\n",
       "      <th>Tm</th>\n",
       "      <th>Column1</th>\n",
       "      <th>Opp</th>\n",
       "      <th>Rslt</th>\n",
       "      <th>Inngs</th>\n",
       "      <th>PA</th>\n",
       "      <th>...</th>\n",
       "      <th>OBP</th>\n",
       "      <th>SLG</th>\n",
       "      <th>OPS</th>\n",
       "      <th>BOP</th>\n",
       "      <th>aLI</th>\n",
       "      <th>WPA</th>\n",
       "      <th>acLI</th>\n",
       "      <th>cWPA</th>\n",
       "      <th>RE24</th>\n",
       "      <th>Pos</th>\n",
       "    </tr>\n",
       "  </thead>\n",
       "  <tbody>\n",
       "    <tr>\n",
       "      <th>0</th>\n",
       "      <td>1</td>\n",
       "      <td>1041</td>\n",
       "      <td>1</td>\n",
       "      <td>Apr 5</td>\n",
       "      <td>DET</td>\n",
       "      <td>@</td>\n",
       "      <td>KCR</td>\n",
       "      <td>W,8-4</td>\n",
       "      <td>CG</td>\n",
       "      <td>5</td>\n",
       "      <td>...</td>\n",
       "      <td>.600</td>\n",
       "      <td>.500</td>\n",
       "      <td>1.100</td>\n",
       "      <td>4</td>\n",
       "      <td>1.09</td>\n",
       "      <td>0.211</td>\n",
       "      <td>1.17</td>\n",
       "      <td>0.14%</td>\n",
       "      <td>1.70</td>\n",
       "      <td>1B</td>\n",
       "    </tr>\n",
       "    <tr>\n",
       "      <th>1</th>\n",
       "      <td>2</td>\n",
       "      <td>1042</td>\n",
       "      <td>2</td>\n",
       "      <td>Apr 7</td>\n",
       "      <td>DET</td>\n",
       "      <td>@</td>\n",
       "      <td>KCR</td>\n",
       "      <td>L,2-3</td>\n",
       "      <td>CG(11)</td>\n",
       "      <td>5</td>\n",
       "      <td>...</td>\n",
       "      <td>.500</td>\n",
       "      <td>.778</td>\n",
       "      <td>1.278</td>\n",
       "      <td>4</td>\n",
       "      <td>1.54</td>\n",
       "      <td>0.364</td>\n",
       "      <td>1.71</td>\n",
       "      <td>0.24%</td>\n",
       "      <td>0.41</td>\n",
       "      <td>1B</td>\n",
       "    </tr>\n",
       "    <tr>\n",
       "      <th>2</th>\n",
       "      <td>3</td>\n",
       "      <td>1043</td>\n",
       "      <td>3</td>\n",
       "      <td>Apr 8</td>\n",
       "      <td>DET</td>\n",
       "      <td>@</td>\n",
       "      <td>KCR</td>\n",
       "      <td>W,7-3</td>\n",
       "      <td>CG</td>\n",
       "      <td>5</td>\n",
       "      <td>...</td>\n",
       "      <td>.600</td>\n",
       "      <td>1.000</td>\n",
       "      <td>1.600</td>\n",
       "      <td>4</td>\n",
       "      <td>1.84</td>\n",
       "      <td>0.480</td>\n",
       "      <td>2.13</td>\n",
       "      <td>0.33%</td>\n",
       "      <td>3.23</td>\n",
       "      <td>1B</td>\n",
       "    </tr>\n",
       "    <tr>\n",
       "      <th>3</th>\n",
       "      <td>4</td>\n",
       "      <td>1044</td>\n",
       "      <td>4</td>\n",
       "      <td>Apr 9</td>\n",
       "      <td>DET</td>\n",
       "      <td>NaN</td>\n",
       "      <td>CLE</td>\n",
       "      <td>W,5-2</td>\n",
       "      <td>CG</td>\n",
       "      <td>4</td>\n",
       "      <td>...</td>\n",
       "      <td>.526</td>\n",
       "      <td>.824</td>\n",
       "      <td>1.350</td>\n",
       "      <td>4</td>\n",
       "      <td>.61</td>\n",
       "      <td>-0.036</td>\n",
       "      <td>.73</td>\n",
       "      <td>-0.03%</td>\n",
       "      <td>-0.75</td>\n",
       "      <td>1B</td>\n",
       "    </tr>\n",
       "    <tr>\n",
       "      <th>4</th>\n",
       "      <td>5</td>\n",
       "      <td>1045</td>\n",
       "      <td>5</td>\n",
       "      <td>Apr 10</td>\n",
       "      <td>DET</td>\n",
       "      <td>NaN</td>\n",
       "      <td>CLE</td>\n",
       "      <td>W,4-2</td>\n",
       "      <td>CG</td>\n",
       "      <td>4</td>\n",
       "      <td>...</td>\n",
       "      <td>.522</td>\n",
       "      <td>.750</td>\n",
       "      <td>1.272</td>\n",
       "      <td>4</td>\n",
       "      <td>.53</td>\n",
       "      <td>-0.013</td>\n",
       "      <td>.64</td>\n",
       "      <td>-0.01%</td>\n",
       "      <td>-0.77</td>\n",
       "      <td>1B</td>\n",
       "    </tr>\n",
       "  </tbody>\n",
       "</table>\n",
       "<p>5 rows × 38 columns</p>\n",
       "</div>"
      ],
      "text/plain": [
       "  Rk  Gcar Gtm    Date   Tm Column1  Opp   Rslt   Inngs PA  ...   OBP    SLG  \\\n",
       "0  1  1041   1   Apr 5  DET       @  KCR  W,8-4      CG  5  ...  .600   .500   \n",
       "1  2  1042   2   Apr 7  DET       @  KCR  L,2-3  CG(11)  5  ...  .500   .778   \n",
       "2  3  1043   3   Apr 8  DET       @  KCR  W,7-3      CG  5  ...  .600  1.000   \n",
       "3  4  1044   4   Apr 9  DET     NaN  CLE  W,5-2      CG  4  ...  .526   .824   \n",
       "4  5  1045   5  Apr 10  DET     NaN  CLE  W,4-2      CG  4  ...  .522   .750   \n",
       "\n",
       "     OPS BOP   aLI     WPA  acLI    cWPA   RE24 Pos  \n",
       "0  1.100   4  1.09   0.211  1.17   0.14%   1.70  1B  \n",
       "1  1.278   4  1.54   0.364  1.71   0.24%   0.41  1B  \n",
       "2  1.600   4  1.84   0.480  2.13   0.33%   3.23  1B  \n",
       "3  1.350   4   .61  -0.036   .73  -0.03%  -0.75  1B  \n",
       "4  1.272   4   .53  -0.013   .64  -0.01%  -0.77  1B  \n",
       "\n",
       "[5 rows x 38 columns]"
      ]
     },
     "execution_count": 36,
     "metadata": {},
     "output_type": "execute_result"
    }
   ],
   "source": [
    "cabrera = pd.read_csv('Cabrera.csv')\n",
    "cabrera.head()"
   ]
  },
  {
   "cell_type": "markdown",
   "metadata": {},
   "source": [
    "# Alberto Pujols\n",
    "\n",
    "José Alberto Pujols Alcántara is a Dominican-American professional baseball first baseman and designated hitter for the Los Angeles Angels of Major League Baseball. He previously played 11 seasons for the St. Louis Cardinals, with whom he was a three-time National League Most Valuable Player and nine-time All-Star."
   ]
  },
  {
   "cell_type": "code",
   "execution_count": 39,
   "metadata": {},
   "outputs": [
    {
     "data": {
      "text/html": [
       "<div>\n",
       "<style scoped>\n",
       "    .dataframe tbody tr th:only-of-type {\n",
       "        vertical-align: middle;\n",
       "    }\n",
       "\n",
       "    .dataframe tbody tr th {\n",
       "        vertical-align: top;\n",
       "    }\n",
       "\n",
       "    .dataframe thead th {\n",
       "        text-align: right;\n",
       "    }\n",
       "</style>\n",
       "<table border=\"1\" class=\"dataframe\">\n",
       "  <thead>\n",
       "    <tr style=\"text-align: right;\">\n",
       "      <th></th>\n",
       "      <th>Rk</th>\n",
       "      <th>Gcar</th>\n",
       "      <th>Gtm</th>\n",
       "      <th>Date</th>\n",
       "      <th>Tm</th>\n",
       "      <th>Column1</th>\n",
       "      <th>Opp</th>\n",
       "      <th>Rslt</th>\n",
       "      <th>Inngs</th>\n",
       "      <th>PA</th>\n",
       "      <th>...</th>\n",
       "      <th>OBP</th>\n",
       "      <th>SLG</th>\n",
       "      <th>OPS</th>\n",
       "      <th>BOP</th>\n",
       "      <th>aLI</th>\n",
       "      <th>WPA</th>\n",
       "      <th>acLI</th>\n",
       "      <th>cWPA</th>\n",
       "      <th>RE24</th>\n",
       "      <th>Pos</th>\n",
       "    </tr>\n",
       "  </thead>\n",
       "  <tbody>\n",
       "    <tr>\n",
       "      <th>0</th>\n",
       "      <td>1</td>\n",
       "      <td>1400</td>\n",
       "      <td>1</td>\n",
       "      <td>Apr 5</td>\n",
       "      <td>STL</td>\n",
       "      <td>@</td>\n",
       "      <td>CIN</td>\n",
       "      <td>W,11-6</td>\n",
       "      <td>CG</td>\n",
       "      <td>5</td>\n",
       "      <td>...</td>\n",
       "      <td>0.800</td>\n",
       "      <td>2.000</td>\n",
       "      <td>2.800</td>\n",
       "      <td>3</td>\n",
       "      <td>0.80</td>\n",
       "      <td>0.342</td>\n",
       "      <td>0.85</td>\n",
       "      <td>0.22%</td>\n",
       "      <td>4.47</td>\n",
       "      <td>1B</td>\n",
       "    </tr>\n",
       "    <tr>\n",
       "      <th>1</th>\n",
       "      <td>2</td>\n",
       "      <td>1401</td>\n",
       "      <td>2</td>\n",
       "      <td>Apr 7</td>\n",
       "      <td>STL</td>\n",
       "      <td>@</td>\n",
       "      <td>CIN</td>\n",
       "      <td>W,6-3</td>\n",
       "      <td>CG</td>\n",
       "      <td>5</td>\n",
       "      <td>...</td>\n",
       "      <td>0.600</td>\n",
       "      <td>1.222</td>\n",
       "      <td>1.822</td>\n",
       "      <td>3</td>\n",
       "      <td>0.89</td>\n",
       "      <td>0.165</td>\n",
       "      <td>0.96</td>\n",
       "      <td>0.11%</td>\n",
       "      <td>1.06</td>\n",
       "      <td>1B</td>\n",
       "    </tr>\n",
       "    <tr>\n",
       "      <th>2</th>\n",
       "      <td>3</td>\n",
       "      <td>1402</td>\n",
       "      <td>3</td>\n",
       "      <td>Apr 8</td>\n",
       "      <td>STL</td>\n",
       "      <td>@</td>\n",
       "      <td>CIN</td>\n",
       "      <td>L,1-2</td>\n",
       "      <td>CG</td>\n",
       "      <td>4</td>\n",
       "      <td>...</td>\n",
       "      <td>0.500</td>\n",
       "      <td>0.917</td>\n",
       "      <td>1.417</td>\n",
       "      <td>3</td>\n",
       "      <td>1.10</td>\n",
       "      <td>0.039</td>\n",
       "      <td>1.22</td>\n",
       "      <td>0.03%</td>\n",
       "      <td>0.33</td>\n",
       "      <td>1B</td>\n",
       "    </tr>\n",
       "    <tr>\n",
       "      <th>3</th>\n",
       "      <td>4</td>\n",
       "      <td>1403</td>\n",
       "      <td>4</td>\n",
       "      <td>Apr 9</td>\n",
       "      <td>STL</td>\n",
       "      <td>@</td>\n",
       "      <td>MIL</td>\n",
       "      <td>W,5-4</td>\n",
       "      <td>CG</td>\n",
       "      <td>4</td>\n",
       "      <td>...</td>\n",
       "      <td>0.444</td>\n",
       "      <td>0.733</td>\n",
       "      <td>1.178</td>\n",
       "      <td>3</td>\n",
       "      <td>1.60</td>\n",
       "      <td>-0.099</td>\n",
       "      <td>1.85</td>\n",
       "      <td>-0.07%</td>\n",
       "      <td>-1.08</td>\n",
       "      <td>1B</td>\n",
       "    </tr>\n",
       "    <tr>\n",
       "      <th>4</th>\n",
       "      <td>5</td>\n",
       "      <td>1404</td>\n",
       "      <td>5</td>\n",
       "      <td>Apr 10</td>\n",
       "      <td>STL</td>\n",
       "      <td>@</td>\n",
       "      <td>MIL</td>\n",
       "      <td>W,7-1</td>\n",
       "      <td>CG</td>\n",
       "      <td>4</td>\n",
       "      <td>...</td>\n",
       "      <td>0.409</td>\n",
       "      <td>0.632</td>\n",
       "      <td>1.041</td>\n",
       "      <td>3</td>\n",
       "      <td>0.34</td>\n",
       "      <td>0.040</td>\n",
       "      <td>0.42</td>\n",
       "      <td>0.03%</td>\n",
       "      <td>1.27</td>\n",
       "      <td>1B</td>\n",
       "    </tr>\n",
       "  </tbody>\n",
       "</table>\n",
       "<p>5 rows × 38 columns</p>\n",
       "</div>"
      ],
      "text/plain": [
       "   Rk  Gcar Gtm    Date   Tm Column1  Opp    Rslt Inngs  PA  ...    OBP  \\\n",
       "0   1  1400   1   Apr 5  STL       @  CIN  W,11-6    CG   5  ...  0.800   \n",
       "1   2  1401   2   Apr 7  STL       @  CIN   W,6-3    CG   5  ...  0.600   \n",
       "2   3  1402   3   Apr 8  STL       @  CIN   L,1-2    CG   4  ...  0.500   \n",
       "3   4  1403   4   Apr 9  STL       @  MIL   W,5-4    CG   4  ...  0.444   \n",
       "4   5  1404   5  Apr 10  STL       @  MIL   W,7-1    CG   4  ...  0.409   \n",
       "\n",
       "     SLG    OPS  BOP   aLI    WPA  acLI    cWPA  RE24  Pos  \n",
       "0  2.000  2.800    3  0.80  0.342  0.85   0.22%  4.47   1B  \n",
       "1  1.222  1.822    3  0.89  0.165  0.96   0.11%  1.06   1B  \n",
       "2  0.917  1.417    3  1.10  0.039  1.22   0.03%  0.33   1B  \n",
       "3  0.733  1.178    3  1.60 -0.099  1.85  -0.07% -1.08   1B  \n",
       "4  0.632  1.041    3  0.34  0.040  0.42   0.03%  1.27   1B  \n",
       "\n",
       "[5 rows x 38 columns]"
      ]
     },
     "execution_count": 39,
     "metadata": {},
     "output_type": "execute_result"
    }
   ],
   "source": [
    "pujols = pd.read_csv('Pujols.csv')\n",
    "pujols.head()"
   ]
  },
  {
   "cell_type": "markdown",
   "metadata": {},
   "source": [
    "# Data Cleaning and Description"
   ]
  },
  {
   "cell_type": "markdown",
   "metadata": {},
   "source": [
    "This data set is from the same source as Jeter, just the stats of Josh Hamilton for the 2010 season. They are collected for the same reasons, for fan use and data analysis of the players."
   ]
  },
  {
   "cell_type": "code",
   "execution_count": 37,
   "metadata": {},
   "outputs": [
    {
     "name": "stdout",
     "output_type": "stream",
     "text": [
      "Hamilton Table:\n"
     ]
    },
    {
     "data": {
      "text/html": [
       "<div>\n",
       "<style scoped>\n",
       "    .dataframe tbody tr th:only-of-type {\n",
       "        vertical-align: middle;\n",
       "    }\n",
       "\n",
       "    .dataframe tbody tr th {\n",
       "        vertical-align: top;\n",
       "    }\n",
       "\n",
       "    .dataframe thead th {\n",
       "        text-align: right;\n",
       "    }\n",
       "</style>\n",
       "<table border=\"1\" class=\"dataframe\">\n",
       "  <thead>\n",
       "    <tr style=\"text-align: right;\">\n",
       "      <th></th>\n",
       "      <th>Rslt</th>\n",
       "      <th>H</th>\n",
       "      <th>HR</th>\n",
       "      <th>SB</th>\n",
       "      <th>BB</th>\n",
       "      <th>WPA</th>\n",
       "    </tr>\n",
       "  </thead>\n",
       "  <tbody>\n",
       "    <tr>\n",
       "      <th>0</th>\n",
       "      <td>W,5-4</td>\n",
       "      <td>0</td>\n",
       "      <td>0</td>\n",
       "      <td>0</td>\n",
       "      <td>1</td>\n",
       "      <td>-0.176</td>\n",
       "    </tr>\n",
       "    <tr>\n",
       "      <th>1</th>\n",
       "      <td>L,4-7</td>\n",
       "      <td>0</td>\n",
       "      <td>0</td>\n",
       "      <td>0</td>\n",
       "      <td>0</td>\n",
       "      <td>-0.124</td>\n",
       "    </tr>\n",
       "    <tr>\n",
       "      <th>2</th>\n",
       "      <td>L,1-3</td>\n",
       "      <td>0</td>\n",
       "      <td>0</td>\n",
       "      <td>0</td>\n",
       "      <td>1</td>\n",
       "      <td>-0.040</td>\n",
       "    </tr>\n",
       "    <tr>\n",
       "      <th>3</th>\n",
       "      <td>W,6-2</td>\n",
       "      <td>1</td>\n",
       "      <td>0</td>\n",
       "      <td>0</td>\n",
       "      <td>1</td>\n",
       "      <td>0.013</td>\n",
       "    </tr>\n",
       "    <tr>\n",
       "      <th>4</th>\n",
       "      <td>L,3-4</td>\n",
       "      <td>1</td>\n",
       "      <td>0</td>\n",
       "      <td>0</td>\n",
       "      <td>2</td>\n",
       "      <td>0.126</td>\n",
       "    </tr>\n",
       "  </tbody>\n",
       "</table>\n",
       "</div>"
      ],
      "text/plain": [
       "    Rslt  H  HR  SB  BB    WPA\n",
       "0  W,5-4  0   0   0   1 -0.176\n",
       "1  L,4-7  0   0   0   0 -0.124\n",
       "2  L,1-3  0   0   0   1 -0.040\n",
       "3  W,6-2  1   0   0   1  0.013\n",
       "4  L,3-4  1   0   0   2  0.126"
      ]
     },
     "execution_count": 37,
     "metadata": {},
     "output_type": "execute_result"
    }
   ],
   "source": [
    "hamilton = hamilton[['Rslt', 'H', 'HR', 'SB', 'BB', 'WPA']]\n",
    "print('Hamilton Table:')\n",
    "hamilton.head()"
   ]
  },
  {
   "cell_type": "code",
   "execution_count": 38,
   "metadata": {},
   "outputs": [
    {
     "name": "stdout",
     "output_type": "stream",
     "text": [
      "Cabrera Table:\n"
     ]
    },
    {
     "data": {
      "text/html": [
       "<div>\n",
       "<style scoped>\n",
       "    .dataframe tbody tr th:only-of-type {\n",
       "        vertical-align: middle;\n",
       "    }\n",
       "\n",
       "    .dataframe tbody tr th {\n",
       "        vertical-align: top;\n",
       "    }\n",
       "\n",
       "    .dataframe thead th {\n",
       "        text-align: right;\n",
       "    }\n",
       "</style>\n",
       "<table border=\"1\" class=\"dataframe\">\n",
       "  <thead>\n",
       "    <tr style=\"text-align: right;\">\n",
       "      <th></th>\n",
       "      <th>Rslt</th>\n",
       "      <th>H</th>\n",
       "      <th>HR</th>\n",
       "      <th>SB</th>\n",
       "      <th>BB</th>\n",
       "      <th>WPA</th>\n",
       "    </tr>\n",
       "  </thead>\n",
       "  <tbody>\n",
       "    <tr>\n",
       "      <th>0</th>\n",
       "      <td>W,8-4</td>\n",
       "      <td>2</td>\n",
       "      <td>0</td>\n",
       "      <td>0</td>\n",
       "      <td>1</td>\n",
       "      <td>0.211</td>\n",
       "    </tr>\n",
       "    <tr>\n",
       "      <th>1</th>\n",
       "      <td>L,2-3</td>\n",
       "      <td>2</td>\n",
       "      <td>1</td>\n",
       "      <td>0</td>\n",
       "      <td>0</td>\n",
       "      <td>0.364</td>\n",
       "    </tr>\n",
       "    <tr>\n",
       "      <th>2</th>\n",
       "      <td>W,7-3</td>\n",
       "      <td>4</td>\n",
       "      <td>1</td>\n",
       "      <td>0</td>\n",
       "      <td>0</td>\n",
       "      <td>0.480</td>\n",
       "    </tr>\n",
       "    <tr>\n",
       "      <th>3</th>\n",
       "      <td>W,5-2</td>\n",
       "      <td>0</td>\n",
       "      <td>0</td>\n",
       "      <td>0</td>\n",
       "      <td>1</td>\n",
       "      <td>-0.036</td>\n",
       "    </tr>\n",
       "    <tr>\n",
       "      <th>4</th>\n",
       "      <td>W,4-2</td>\n",
       "      <td>1</td>\n",
       "      <td>0</td>\n",
       "      <td>0</td>\n",
       "      <td>1</td>\n",
       "      <td>-0.013</td>\n",
       "    </tr>\n",
       "  </tbody>\n",
       "</table>\n",
       "</div>"
      ],
      "text/plain": [
       "    Rslt  H HR SB BB     WPA\n",
       "0  W,8-4  2  0  0  1   0.211\n",
       "1  L,2-3  2  1  0  0   0.364\n",
       "2  W,7-3  4  1  0  0   0.480\n",
       "3  W,5-2  0  0  0  1  -0.036\n",
       "4  W,4-2  1  0  0  1  -0.013"
      ]
     },
     "execution_count": 38,
     "metadata": {},
     "output_type": "execute_result"
    }
   ],
   "source": [
    "cabrera = cabrera[['Rslt', 'H', 'HR', 'SB', 'BB', 'WPA']]\n",
    "print('Cabrera Table:')\n",
    "cabrera.head()"
   ]
  },
  {
   "cell_type": "code",
   "execution_count": 40,
   "metadata": {},
   "outputs": [
    {
     "name": "stdout",
     "output_type": "stream",
     "text": [
      "Pujols Table:\n"
     ]
    },
    {
     "data": {
      "text/html": [
       "<div>\n",
       "<style scoped>\n",
       "    .dataframe tbody tr th:only-of-type {\n",
       "        vertical-align: middle;\n",
       "    }\n",
       "\n",
       "    .dataframe tbody tr th {\n",
       "        vertical-align: top;\n",
       "    }\n",
       "\n",
       "    .dataframe thead th {\n",
       "        text-align: right;\n",
       "    }\n",
       "</style>\n",
       "<table border=\"1\" class=\"dataframe\">\n",
       "  <thead>\n",
       "    <tr style=\"text-align: right;\">\n",
       "      <th></th>\n",
       "      <th>Rslt</th>\n",
       "      <th>H</th>\n",
       "      <th>HR</th>\n",
       "      <th>SB</th>\n",
       "      <th>BB</th>\n",
       "      <th>WPA</th>\n",
       "    </tr>\n",
       "  </thead>\n",
       "  <tbody>\n",
       "    <tr>\n",
       "      <th>0</th>\n",
       "      <td>W,11-6</td>\n",
       "      <td>4</td>\n",
       "      <td>2</td>\n",
       "      <td>0</td>\n",
       "      <td>0</td>\n",
       "      <td>0.342</td>\n",
       "    </tr>\n",
       "    <tr>\n",
       "      <th>1</th>\n",
       "      <td>W,6-3</td>\n",
       "      <td>1</td>\n",
       "      <td>0</td>\n",
       "      <td>0</td>\n",
       "      <td>1</td>\n",
       "      <td>0.165</td>\n",
       "    </tr>\n",
       "    <tr>\n",
       "      <th>2</th>\n",
       "      <td>L,1-2</td>\n",
       "      <td>0</td>\n",
       "      <td>0</td>\n",
       "      <td>0</td>\n",
       "      <td>1</td>\n",
       "      <td>0.039</td>\n",
       "    </tr>\n",
       "    <tr>\n",
       "      <th>3</th>\n",
       "      <td>W,5-4</td>\n",
       "      <td>0</td>\n",
       "      <td>0</td>\n",
       "      <td>0</td>\n",
       "      <td>1</td>\n",
       "      <td>-0.099</td>\n",
       "    </tr>\n",
       "    <tr>\n",
       "      <th>4</th>\n",
       "      <td>W,7-1</td>\n",
       "      <td>1</td>\n",
       "      <td>0</td>\n",
       "      <td>0</td>\n",
       "      <td>0</td>\n",
       "      <td>0.040</td>\n",
       "    </tr>\n",
       "  </tbody>\n",
       "</table>\n",
       "</div>"
      ],
      "text/plain": [
       "     Rslt  H  HR  SB  BB    WPA\n",
       "0  W,11-6  4   2   0   0  0.342\n",
       "1   W,6-3  1   0   0   1  0.165\n",
       "2   L,1-2  0   0   0   1  0.039\n",
       "3   W,5-4  0   0   0   1 -0.099\n",
       "4   W,7-1  1   0   0   0  0.040"
      ]
     },
     "execution_count": 40,
     "metadata": {},
     "output_type": "execute_result"
    }
   ],
   "source": [
    "pujols = pujols[['Rslt', 'H', 'HR', 'SB', 'BB', 'WPA']]\n",
    "print('Pujols Table:')\n",
    "pujols.head()"
   ]
  },
  {
   "cell_type": "markdown",
   "metadata": {},
   "source": [
    "Now after selecting the same variables as we used with Jeter, we can use these statistics to compare the contribution that Jeter made to Hamilton, Cabrera and Pujols."
   ]
  },
  {
   "cell_type": "code",
   "execution_count": null,
   "metadata": {},
   "outputs": [],
   "source": []
  }
 ],
 "metadata": {
  "kernelspec": {
   "display_name": "Python 3",
   "language": "python",
   "name": "python3"
  },
  "language_info": {
   "codemirror_mode": {
    "name": "ipython",
    "version": 3
   },
   "file_extension": ".py",
   "mimetype": "text/x-python",
   "name": "python",
   "nbconvert_exporter": "python",
   "pygments_lexer": "ipython3",
   "version": "3.7.6"
  }
 },
 "nbformat": 4,
 "nbformat_minor": 4
}
