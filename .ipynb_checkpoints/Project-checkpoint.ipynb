{
 "cells": [
  {
   "cell_type": "markdown",
   "metadata": {},
   "source": [
    "# Derek Jeter: Overrated?"
   ]
  },
  {
   "cell_type": "markdown",
   "metadata": {},
   "source": [
    "## Derek Sanderson Jeter is an American former professional baseball shortstop, businessman, and baseball executive. As a player, Jeter spent his entire 20-year MLB career with the New York Yankees. Nicknamed \"The Captain\", Derek Jeter is soon to be inducted into the MLB Hall of Fame. There's no denying he was an amazing player, arguably the best player to ever play the shortstop position. But in baseball, there's two sides to the game. We will analyze Derek Jeter's batting performance over his career to see if he can really be the jack of all trades."
   ]
  },
  {
   "cell_type": "markdown",
   "metadata": {},
   "source": [
    "# Research Questions"
   ]
  },
  {
   "cell_type": "markdown",
   "metadata": {},
   "source": [
    "How valuable was Derek Jeter to the NY Yankees when up to bat?\n",
    "\n",
    "How much did Derek Jeter contribute to the wins based on the batting variables we chose to include?\n",
    "\n",
    "Looking at other players, was Derek Jeter significantly better at getting a win? Did he contribute more?\n",
    "\n",
    "Did Derek Jeter improve his batting performance throughout his seasons on the Yankees? Did he peak? Which season was his best? What are his most important contributing factors?"
   ]
  },
  {
   "cell_type": "markdown",
   "metadata": {},
   "source": [
    "# Data Description\n"
   ]
  },
  {
   "cell_type": "markdown",
   "metadata": {},
   "source": [
    "Year - the season the data is from.\n",
    "\n",
    "RSLT - Result: Win or Loss, tracks whether the baseball game played was a win or a loss for the team\n",
    "\n",
    "H - hits, tracks how many hits Derek Jeter had in a given game. A hit, also called a base hit, is credited to a batter when the batter safely reaches or passes first base after hitting the ball into fair territory, without the benefit of an error or a fielder's choice\n",
    "\n",
    "HR - home runs, tracks how many home runs Derek Jeter had in a given game. A home run is scored when the ball is hit in such a way that the batter is able to circle the bases and reach home safely in one play without any errors being committed by the defensive team in the process\n",
    "\n",
    "SB - stolen base, tracks how many bases Derek Jeter had in a given game. A stolen base occurs when a baserunner advances by taking a base to which he isn't entitled. This generally occurs when a pitcher is throwing a pitch, but it can also occur while the pitcher still has the ball or is attempting a pickoff, or as the catcher is throwing the ball back to the pitcher.\n",
    "\n",
    "BB - base on balls (walk) tracks how many walks Derek Jeter had in a given game. A base on balls, also known as a walk, occurs in baseball when a batter receives four pitches that the umpire calls balls, and is in turn awarded first base without the possibility of being called out\n",
    "\n",
    "WPA - win probability added, tracks Derek Jeter’s win probability added in a given game. Win probability added is a sport statistic which attempts to measure a player's contribution to a win by figuring the factor by which each specific play made by that player has altered the outcome of a game.\n",
    "\n",
    "What are the observations (rows) and the attributes (columns)?\n",
    "\n",
    "-- Each row represents a single game for the 20 seasons he played baseball. The columns each represent a different record of data, or a calculated statistic as explained above.\n",
    "\n",
    "Why was this dataset created?\n",
    "\n",
    "-- This data set was created for the purpose of tracking New York Yankees player, Derek Jeter. He was an outstanding player and these statistics were compiled together after each game, each season to allow MLB fans to look back on the result and statistics of the game, and to look at the individual players success.\n",
    "\n",
    "What processes might have influenced what data was observed and recorded and what was not?\n",
    "\n",
    "-- Any data that is considered a significant play is recorded. Whenever a player gets a hit, a homerun, times up to bat, etc. The dataset that we are utilizing is a batting log, so only plays that happen while up to bat or on base are recorded.\n",
    "\n",
    "What preprocessing was done, and how did the data come to be in the form that you are using?\n",
    "\n",
    "-- The only preprocessed variable in our usage of the dataset is the WPA, win probability added. This is calculated using the data collected throughout the game. We included this in our dataset to compare how much the variables we choose contributed to the actual win probability added.\n",
    "\n",
    "If people are involved, were they aware of the data collection and if so, what purpose did they expect the data to be used for?\n",
    "\n",
    "-- Yes, collecting sports statistics happens at every major league sporting event and even lower levels. The statistics and data are used for many different purposes. The data that is collected and analyzed is used to help increase fan experience and attendance from year to year. Sports analytics are crucial to many teams by helping them become their best through interpretation and analysis of statistics gained in games.\n",
    "\n",
    "\n",
    "\n",
    "**NOTE**: Elaborate on benchmarks for jeter's numbers with maybe average of the MLB, give some context to whether or not his numbers are really good or not?\n"
   ]
  },
  {
   "cell_type": "markdown",
   "metadata": {},
   "source": [
    "# Preregistration of analyses\n",
    "\n",
    "1. We hope to examine which of Derek Jeter's statistics, whether that be walks, stolen bases, hits, home runs, or a combination of stats had the greatest impact on the win rate of the Yankees, how significant of an impact that was, and how our calculations per statistic compare to the overall win probability added (WPA) calculation of Jeter in a given game.\n",
    "\n",
    "\n",
    "\n",
    "2. We want to determine if Derek Jeter's reputation as a hall of famer is overrated or not. We pulled 3 other fellow Yankees players from the 2010 season, one of Jeters best to see if Jeter is the jack of all trades. We know he is an all star in his short stop position. We wanted to focus on the batting side and see if he contributed more than most on both sides of the game.\n",
    "\n",
    "make terms less ambiguous, clarify \"jack of all trades\", \"all star\" what does this mean relative to his performance\n",
    "\n",
    "maybe compare the difference between best and worst seasons and whether or not his wpa is still high in bad seasons"
   ]
  },
  {
   "cell_type": "markdown",
   "metadata": {},
   "source": [
    "# Data Collection and Cleaning"
   ]
  },
  {
   "cell_type": "markdown",
   "metadata": {},
   "source": [
    "To collect our data, we scraped online databases of baseball statistics in order to pull all of Derek Jeter’s in game statistics on a game by game basis for every game of his career ranging from 1995 to 2014. This data contained all of his batting statistics including variables such as OPS, BA, CS, GDP, SH, SF, HBP, SO, IBB, RE24, cWPA, and other such acronyms relating to baseball measurements. However, not all of these variables are applicable or comparable in regards to the type of inferences we are trying to make. Thus, in our data cleaning process, we first evaluated which of the variables would be appropriate and comparable for our studies. We came up with a final list of variables including year, home runs, hits, game result, stolen bases, base on balls, and win probability added. These variables are unique in that they are recorded on a game by game basis and do not accumulate, unlike some of the other variables that were included in the stat sheet. Then, with these specific statistics chosen, we cleaned the data by simply excluding the statistics that we did not want, and then combining the statistics that we did want into a single dataframe which is easily processable and neat. Through this process, we cut our dataset from 38 columns over 19 dataframes to a more readable six columns all in one dataframe. \n"
   ]
  },
  {
   "cell_type": "code",
   "execution_count": 48,
   "metadata": {},
   "outputs": [],
   "source": [
    "import os\n",
    "import glob"
   ]
  },
  {
   "cell_type": "code",
   "execution_count": 76,
   "metadata": {},
   "outputs": [
    {
     "name": "stdout",
     "output_type": "stream",
     "text": [
      "      0   1   2        3           4    5    6    7       8       9   ...  \\\n",
      "0   1994   1   1  85 (84)       8-Jul  SEA    @  BOS   L,3-4      CG  ...   \n",
      "1   1994   2   2       86       9-Jul  SEA    @  BOS   W,7-4      CG  ...   \n",
      "2   1994   3   3       87      10-Jul  SEA    @  BOS   L,2-9      CG  ...   \n",
      "3   1994   4   4       88      14-Jul  SEA  NaN  NYY  L,8-13      CG  ...   \n",
      "4   1994   5   5       89      15-Jul  SEA  NaN  NYY  L,8-10  CG(11)  ...   \n",
      "5   1994   6   6       90      16-Jul  SEA  NaN  NYY   L,3-9      CG  ...   \n",
      "6   1994   7   7       91      17-Jul  SEA  NaN  NYY  L,4-14      CG  ...   \n",
      "7   1994   8   8       92      18-Jul  SEA  NaN  BAL   W,7-5      CG  ...   \n",
      "8   1994   9   9       93      22-Jul  SEA    @  BOS   W,6-3      CG  ...   \n",
      "9   1994  10  10       94  Jul 23 (1)  SEA    @  BOS   L,5-6    GS-7  ...   \n",
      "10  1994  11  11       95  Jul 23 (2)  SEA    @  BOS   W,6-3  CG(11)  ...   \n",
      "11  1994  12  12       96      24-Jul  SEA    @  BOS   L,2-8      CG  ...   \n",
      "12  1994  13  13       97      26-Jul  SEA    @  DET   L,1-9      CG  ...   \n",
      "13  1994  14  14       98      27-Jul  SEA    @  DET   L,1-3      CG  ...   \n",
      "14  1994  15  15       99      28-Jul  SEA    @  DET   L,2-4    GS-6  ...   \n",
      "15  1994  16  16      100      29-Jul  SEA    @  CHW   L,4-5    GS-9  ...   \n",
      "16  1994  17  17      101      30-Jul  SEA    @  CHW   L,2-4    GS-8  ...   \n",
      "\n",
      "       29     30     31  32    33     34    35      36    37  38  \n",
      "0   0.000  0.000  0.000   9  1.06 -0.099  0.87 -0.0005 -0.96  SS  \n",
      "1   0.286  0.286  0.571   9  0.69  0.043  0.56  0.0002  0.50  SS  \n",
      "2   0.182  0.182  0.364   9  0.26 -0.026  0.22 -0.0001 -1.13  SS  \n",
      "3   0.200  0.200  0.400   9  0.57 -0.015  0.44 -0.0001 -0.32  SS  \n",
      "4   0.211  0.211  0.421   9  2.06 -0.205  1.41 -0.0008 -1.35  SS  \n",
      "5   0.261  0.227  0.488   9  0.58  0.046  0.39  0.0002  0.65  SS  \n",
      "6   0.296  0.240  0.536   9  0.70  0.003  0.38  0.0000 -0.33  SS  \n",
      "7   0.290  0.214  0.505   9  1.25 -0.103  0.68 -0.0003 -0.69  SS  \n",
      "8   0.314  0.250  0.564   9  0.59  0.044  0.31  0.0001  0.37  SS  \n",
      "9   0.324  0.265  0.589   9  0.83 -0.007  0.56  0.0000 -0.08  SS  \n",
      "10  0.310  0.256  0.566   9  1.03 -0.094  0.68 -0.0004 -0.73  SS  \n",
      "11  0.289  0.244  0.533   9  1.02 -0.062  0.76 -0.0003 -0.51  SS  \n",
      "12  0.292  0.250  0.542   9  0.47 -0.035  0.31 -0.0001 -0.26  SS  \n",
      "13  0.275  0.234  0.509   9  0.84 -0.066  0.42 -0.0002 -0.65  SS  \n",
      "14  0.264  0.224  0.489   9  1.17 -0.066  0.58 -0.0002 -0.63  SS  \n",
      "15  0.250  0.212  0.462   9  0.64 -0.051  0.25 -0.0001 -0.43  SS  \n",
      "16  0.241  0.204  0.445   9  1.20 -0.045  0.31 -0.0001 -0.42  SS  \n",
      "\n",
      "[17 rows x 39 columns]\n",
      "         0   1   2          3          4    5    6    7        8          9   \\\n",
      "0   ï»¿1995   1  18    10Â (9)   5/7/2021  SEA    @  CAL    W,3-2         CG   \n",
      "1      1995   2  19         11   5/9/2021  SEA    @  OAK    L,5-7         CG   \n",
      "2      1995   3  20         12  5/10/2021  SEA    @  OAK    L,4-7         CG   \n",
      "3      1995   4  21         13  5/11/2021  SEA    @  OAK    L,1-3       GS-8   \n",
      "4      1995   5  22    15Â (1)  5/13/2021  SEA  NaN  CHW    W,6-5         CG   \n",
      "5      1995   6  23         16  5/14/2021  SEA  NaN  CHW   L,2-10       GS-8   \n",
      "6      1995   7  24         17  5/16/2021  SEA    @  KCR    L,2-4      CG(5)   \n",
      "7      1995   8  25    19Â (1)  5/18/2021  SEA    @  KCR    L,2-3  11-GF(14)   \n",
      "8      1995   9  26    23Â (3)  5/22/2021  SEA    @  DET   L,8-10       GS-9   \n",
      "9      1995  10  27         24  5/23/2021  SEA  NaN  BOS    L,4-5   9-GF(10)   \n",
      "10     1995  11  28         25  5/24/2021  SEA  NaN  BOS   W,15-6         CG   \n",
      "11     1995  12  29         26  5/25/2021  SEA  NaN  BOS    W,4-3         CG   \n",
      "12     1995  13  30   39Â (12)   6/8/2021  SEA    @  BAL    L,2-8         CG   \n",
      "13     1995  14  31         40   6/9/2021  SEA    @  NYY   W,11-1         CG   \n",
      "14     1995  15  32         41  6/10/2021  SEA    @  NYY    W,3-2       GS-9   \n",
      "15     1995  16  33         42  6/11/2021  SEA    @  NYY   L,7-10         CG   \n",
      "16     1995  17  34         43  6/12/2021  SEA  NaN  KCR   L,9-10         CG   \n",
      "17     1995  18  35         44  6/13/2021  SEA  NaN  KCR    L,1-3         CG   \n",
      "18     1995  19  36         45  6/14/2021  SEA  NaN  KCR    L,1-2         CG   \n",
      "19     1995  20  37         46  6/16/2021  SEA  NaN  MIN   L,1-10         CG   \n",
      "20     1995  21  38    49Â (2)  6/19/2021  SEA    @  CHW    L,6-8       9-GF   \n",
      "21     1995  22  39         50  6/20/2021  SEA    @  CHW    W,9-5         CG   \n",
      "22     1995  23  40         51  6/21/2021  SEA    @  CHW    L,4-5     CG(10)   \n",
      "23     1995  24  41         52  6/22/2021  SEA    @  CHW    W,3-2         CG   \n",
      "24     1995  25  42   78Â (25)  7/21/2021  SEA    @  TOR    L,3-4         CG   \n",
      "25     1995  26  43         79  7/22/2021  SEA    @  TOR    W,7-2         CG   \n",
      "26     1995  27  44         80  7/23/2021  SEA    @  TOR    W,6-4         CG   \n",
      "27     1995  28  45         81  7/24/2021  SEA  NaN  MIL    L,4-6         CG   \n",
      "28     1995  29  46         82  7/25/2021  SEA  NaN  MIL    W,8-6         CG   \n",
      "29     1995  30  47         83  7/26/2021  SEA  NaN  MIL    L,3-4         CG   \n",
      "30     1995  31  48    85Â (1)  7/28/2021  SEA  NaN  CLE    L,5-6       9-GF   \n",
      "31     1995  32  49         86  7/29/2021  SEA  NaN  CLE    W,5-3         CG   \n",
      "32     1995  33  50         87  7/30/2021  SEA  NaN  CLE    L,2-5       GS-8   \n",
      "33     1995  34  51    89Â (1)   8/2/2021  SEA    @  CAL    L,4-5         CG   \n",
      "34     1995  35  52         90   8/3/2021  SEA    @  CAL   W,10-7         CG   \n",
      "35     1995  36  53         91   8/4/2021  SEA    @  OAK    L,8-9         CG   \n",
      "36     1995  37  54         92   8/5/2021  SEA    @  OAK   W,15-9         CG   \n",
      "37     1995  38  55         93   8/6/2021  SEA    @  OAK   W,15-8         CG   \n",
      "38     1995  39  56         94   8/7/2021  SEA  NaN  CHW    W,6-4         CG   \n",
      "39     1995  40  57         95   8/8/2021  SEA  NaN  CHW   W,10-9       GS-5   \n",
      "40     1995  41  58         96   8/9/2021  SEA  NaN  CHW   W,11-8       7-GF   \n",
      "41     1995  42  59    99Â (2)  8/13/2021  SEA    @  KCR    L,3-6       GS-9   \n",
      "42     1995  43  60  120Â (20)   9/4/2021  SEA    @  NYY   L,3-13       4-GF   \n",
      "43     1995  44  61   127Â (6)  9/11/2021  SEA  NaN  MIN  L,10-12       9-GF   \n",
      "44     1995  45  62        128  9/12/2021  SEA  NaN  MIN   W,14-3       8-GF   \n",
      "45     1995  46  63   135Â (6)  9/20/2021  SEA  NaN  TEX   W,11-3       9-GF   \n",
      "46     1995  47  64   137Â (1)  9/23/2021  SEA  NaN  OAK    W,7-0       5-GF   \n",
      "47     1995  48  65        138  9/24/2021  SEA  NaN  OAK    W,9-8         CG   \n",
      "\n",
      "    ...     29     30     31  32    33     34    35      36    37     38  \n",
      "0   ...  0.333  0.333  0.667   9  0.85 -0.033  1.31 -0.0003 -0.26     SS  \n",
      "1   ...  0.286  0.286  0.571   9  0.94  0.024  1.39  0.0002 -0.21     SS  \n",
      "2   ...  0.200  0.200  0.400   9  0.63 -0.050  0.92 -0.0004 -0.67     SS  \n",
      "3   ...  0.250  0.333  0.583   9  0.86  0.045  1.25  0.0004  0.25     SS  \n",
      "4   ...  0.250  0.313  0.563   9  1.03  0.008  1.27  0.0001 -0.31     SS  \n",
      "5   ...  0.278  0.389  0.667   9  0.95  0.040  1.18  0.0003  0.45     SS  \n",
      "6   ...  0.250  0.350  0.600   9  1.04 -0.058  1.29 -0.0004 -0.62     SS  \n",
      "7   ...  0.238  0.333  0.571   8  1.43 -0.038  1.80 -0.0003 -0.12  PR SS  \n",
      "8   ...  0.320  0.440  0.760   9  1.23  0.274  1.55  0.0021  3.20     SS  \n",
      "9   ...  0.320  0.440  0.760   5   NaN    NaN   NaN     NaN   NaN     PR  \n",
      "10  ...  0.300  0.400  0.700   9  0.60  0.039  0.68  0.0003 -0.33     SS  \n",
      "11  ...  0.333  0.424  0.758   7  0.84  0.109  0.98  0.0008  1.10     SS  \n",
      "12  ...  0.306  0.389  0.694   9  0.83 -0.075  1.15 -0.0006 -1.05     SS  \n",
      "13  ...  0.300  0.375  0.675   9  0.63  0.047  0.84  0.0004  0.21     SS  \n",
      "14  ...  0.279  0.349  0.628   9  0.87 -0.069  1.14 -0.0005 -0.56     SS  \n",
      "15  ...  0.255  0.319  0.574   9  0.75 -0.081  1.05 -0.0007 -1.23     SS  \n",
      "16  ...  0.288  0.404  0.692   9  1.54  0.181  2.15  0.0015  1.21     SS  \n",
      "17  ...  0.309  0.418  0.727   9  1.68  0.087  2.26  0.0007  0.67     SS  \n",
      "18  ...  0.288  0.390  0.678   9  2.06 -0.220  2.62 -0.0017 -1.22     SS  \n",
      "19  ...  0.290  0.387  0.677   9  0.74 -0.067  0.77 -0.0004 -0.02     SS  \n",
      "20  ...  0.290  0.387  0.677   4   NaN    NaN   NaN     NaN   NaN     PR  \n",
      "21  ...  0.299  0.424  0.723   6  0.71  0.091  0.74  0.0006  1.12     SS  \n",
      "22  ...  0.282  0.400  0.682   9  1.37 -0.140  1.51 -0.0009 -0.80     SS  \n",
      "23  ...  0.267  0.378  0.645   6  0.86 -0.091  0.91 -0.0006 -0.87     SS  \n",
      "24  ...  0.278  0.416  0.694   9  0.95  0.035  0.95  0.0002  1.02     SS  \n",
      "25  ...  0.274  0.415  0.688   2  0.83  0.053  0.75  0.0003 -0.14     SS  \n",
      "26  ...  0.273  0.407  0.680   9  0.58 -0.042  0.62 -0.0003 -0.36     SS  \n",
      "27  ...  0.269  0.396  0.664   9  2.51 -0.156  3.55 -0.0013 -1.67     SS  \n",
      "28  ...  0.278  0.432  0.710   7  0.67  0.186  0.87  0.0015  2.18     SS  \n",
      "29  ...  0.270  0.418  0.688   7  0.82 -0.065  1.19 -0.0006 -0.51     SS  \n",
      "30  ...  0.270  0.418  0.688   9   NaN    NaN   NaN     NaN   NaN     SS  \n",
      "31  ...  0.279  0.416  0.695   9  1.34  0.014  1.52  0.0001  0.04     SS  \n",
      "32  ...  0.274  0.408  0.681   9  0.61 -0.032  0.75 -0.0002 -0.31     SS  \n",
      "33  ...  0.282  0.439  0.721   9  1.81 -0.082  1.94 -0.0005 -0.01     SS  \n",
      "34  ...  0.278  0.438  0.716   7  0.41 -0.010  0.38 -0.0001 -0.15     SS  \n",
      "35  ...  0.275  0.453  0.728   7  0.98 -0.056  1.11 -0.0004  0.05     SS  \n",
      "36  ...  0.264  0.434  0.698   9  0.84 -0.120  0.79 -0.0007 -2.05     SS  \n",
      "37  ...  0.262  0.421  0.682   9  0.87 -0.073  0.95 -0.0005 -0.86     SS  \n",
      "38  ...  0.269  0.414  0.683   7  1.03 -0.047  1.20 -0.0003 -0.10     SS  \n",
      "39  ...  0.265  0.408  0.672   7  0.91 -0.065  1.18 -0.0005 -0.77     SS  \n",
      "40  ...  0.263  0.405  0.667   8  0.05 -0.001  0.06  0.0000 -0.35     SS  \n",
      "41  ...  0.264  0.403  0.667   9  1.05  0.008  1.88  0.0001  0.08     SS  \n",
      "42  ...  0.261  0.397  0.658   2  0.09 -0.004  0.22 -0.0001 -0.52     SS  \n",
      "43  ...  0.261  0.397  0.658   8   NaN    NaN   NaN     NaN   NaN     SS  \n",
      "44  ...  0.261  0.397  0.658   8   NaN    NaN   NaN     NaN   NaN     SS  \n",
      "45  ...  0.261  0.397  0.658   8   NaN    NaN   NaN     NaN   NaN     SS  \n",
      "46  ...  0.264  0.413  0.677   2  0.11  0.025  0.33  0.0004  1.29     SS  \n",
      "47  ...  0.264  0.408  0.672   9  1.31  0.078  3.51  0.0013  0.83     SS  \n",
      "\n",
      "[48 rows x 39 columns]\n",
      "          0    1    2    3       4    5    6    7       8       9   ...  \\\n",
      "0    ï»¿1996    1   66    1  31-Mar  SEA  NaN  CHW   W,3-2  CG(12)  ...   \n",
      "1       1996    2   67    2   2-Apr  SEA  NaN  CHW   W,3-2      CG  ...   \n",
      "2       1996    3   68    3   3-Apr  SEA  NaN  CHW   L,2-4    GS-9  ...   \n",
      "3       1996    4   69    4   5-Apr  SEA  NaN  MIL  L,6-10      CG  ...   \n",
      "4       1996    5   70    5   6-Apr  SEA  NaN  MIL   W,8-5      CG  ...   \n",
      "..       ...  ...  ...  ...     ...  ...  ...  ...     ...     ...  ...   \n",
      "141     1996  142  207  157  25-Sep  SEA    @  CAL  W,11-2      CG  ...   \n",
      "142     1996  143  208  158  26-Sep  SEA    @  OAK   L,5-7      CG  ...   \n",
      "143     1996  144  209  159  27-Sep  SEA    @  OAK   L,1-8      CG  ...   \n",
      "144     1996  145  210  160  28-Sep  SEA    @  OAK   W,5-3    GS-6  ...   \n",
      "145     1996  146  211  161  29-Sep  SEA    @  OAK   L,1-3      CG  ...   \n",
      "\n",
      "        29     30     31  32    33     34    35      36    37  38  \n",
      "0    0.167  0.167  0.333   9  2.54 -0.133  2.62 -0.0008 -0.58  SS  \n",
      "1    0.333  0.143  0.476   9  1.30  0.016  1.36  0.0001  0.13  SS  \n",
      "2    0.333  0.300  0.633   9  1.21  0.020  1.33  0.0001  0.37  SS  \n",
      "3    0.250  0.214  0.464   9  0.32 -0.035  0.36 -0.0002 -1.04  SS  \n",
      "4    0.211  0.176  0.387   9  0.19 -0.016  0.19 -0.0001 -0.76  SS  \n",
      "..     ...    ...    ...  ..   ...    ...   ...     ...   ...  ..  \n",
      "141  0.419  0.640  1.059   2  1.12  0.152  3.66  0.0030  1.45  SS  \n",
      "142  0.418  0.638  1.055   2  0.87 -0.078  3.32 -0.0018 -0.57  SS  \n",
      "143  0.418  0.637  1.055   2  1.63 -0.066  1.11 -0.0003 -0.48  SS  \n",
      "144  0.417  0.635  1.052   2  0.98 -0.066  0.00  0.0000 -0.63  SS  \n",
      "145  0.414  0.631  1.045   3  1.11 -0.119  0.00  0.0000 -1.16  SS  \n",
      "\n",
      "[146 rows x 39 columns]\n",
      "          0    1    2         3       4    5    6    7       8       9   ...  \\\n",
      "0    ï»¿1997    1  212         1   1-Apr  SEA  NaN  NYY   W,4-2      CG  ...   \n",
      "1       1997    2  213         2   2-Apr  SEA  NaN  NYY  L,2-16      CG  ...   \n",
      "2       1997    3  214         3   4-Apr  SEA  NaN  BOS  L,5-10      CG  ...   \n",
      "3       1997    4  215         4   5-Apr  SEA  NaN  BOS   L,6-8      CG  ...   \n",
      "4       1997    5  216         5   6-Apr  SEA  NaN  BOS   W,8-7  CG(10)  ...   \n",
      "..       ...  ...  ...       ...     ...  ...  ...  ...     ...     ...  ...   \n",
      "136     1997  137  348       155  20-Sep  SEA    @  OAK   L,3-4  CG(15)  ...   \n",
      "137     1997  138  349       156  21-Sep  SEA    @  OAK   W,9-2      CG  ...   \n",
      "138     1997  139  350       157  22-Sep  SEA    @  OAK   W,4-2      CG  ...   \n",
      "139     1997  140  351       158  23-Sep  SEA  NaN  ANA   W,4-3      CG  ...   \n",
      "140     1997  141  352  161Â (2)  27-Sep  SEA  NaN  OAK   W,9-3      CG  ...   \n",
      "\n",
      "        29     30     31  32    33     34    35      36    37  38  \n",
      "0    0.250  0.250  0.500   2  0.71 -0.028  0.75 -0.0002 -0.44  SS  \n",
      "1    0.222  0.333  0.556   2  0.77 -0.098  0.81 -0.0006 -0.84  SS  \n",
      "2    0.214  0.286  0.500   2  0.75 -0.078  0.75 -0.0005 -0.79  SS  \n",
      "3    0.263  0.421  0.684   2  1.15  0.079  1.12  0.0005 -0.33  SS  \n",
      "4    0.375  0.625  1.000   2  1.74  0.412  1.67  0.0024  2.40  SS  \n",
      "..     ...    ...    ...  ..   ...    ...   ...     ...   ...  ..  \n",
      "136  0.347  0.496  0.843   5  2.18 -0.274  0.16 -0.0001 -1.84  SS  \n",
      "137  0.346  0.492  0.838   5  0.65 -0.016  0.14  0.0000 -0.89  SS  \n",
      "138  0.349  0.493  0.842   5  1.00 -0.015  0.15  0.0000 -0.21  SS  \n",
      "139  0.350  0.497  0.846   5  0.96  0.107  0.03  0.0000  1.39  SS  \n",
      "140  0.350  0.496  0.846   5  0.67  0.134  0.00  0.0000  1.00  DH  \n",
      "\n",
      "[141 rows x 39 columns]\n",
      "          0    1    2    3       4    5    6    7       8     9   ...     29  \\\n",
      "0    ï»¿1998    1  353    1  31-Mar  SEA  NaN  CLE  L,9-10    CG  ...  0.000   \n",
      "1       1998    2  354    2   1-Apr  SEA  NaN  CLE   L,7-9    CG  ...  0.200   \n",
      "2       1998    3  355    3   3-Apr  SEA  NaN  BOS  W,11-6    CG  ...  0.267   \n",
      "3       1998    4  356    4   4-Apr  SEA  NaN  BOS  W,12-6    CG  ...  0.250   \n",
      "4       1998    5  357    5   5-Apr  SEA  NaN  BOS  L,5-10    CG  ...  0.240   \n",
      "..       ...  ...  ...  ...     ...  ...  ...  ...     ...   ...  ...    ...   \n",
      "156     1998  157  509  157  23-Sep  SEA  NaN  OAK   L,3-8    CG  ...  0.357   \n",
      "157     1998  158  510  158  24-Sep  SEA  NaN  TEX   L,3-9    CG  ...  0.358   \n",
      "158     1998  159  511  159  25-Sep  SEA  NaN  TEX  W,15-4  GS-7  ...  0.359   \n",
      "159     1998  160  512  160  26-Sep  SEA  NaN  TEX   W,5-2    CG  ...  0.358   \n",
      "160     1998  161  513  161  27-Sep  SEA  NaN  TEX  L,6-12  GS-3  ...  0.360   \n",
      "\n",
      "        30     31  32    33     34    35      36    37  38  \n",
      "0    0.000  0.000   2  1.35 -0.178  1.33 -0.0011 -1.23  SS  \n",
      "1    0.000  0.200   2  2.35 -0.139  2.35 -0.0008 -0.42  SS  \n",
      "2    0.154  0.421   2  0.77 -0.020  0.74 -0.0001 -0.31  SS  \n",
      "3    0.176  0.426   2  0.40  0.004  0.40  0.0000  0.20  SS  \n",
      "4    0.143  0.383   2  0.96 -0.141  0.96 -0.0009 -1.51  SS  \n",
      "..     ...    ...  ..   ...    ...   ...     ...   ...  ..  \n",
      "156  0.563  0.920   2  1.93  0.060  0.00  0.0000  0.27  SS  \n",
      "157  0.562  0.920   2  0.82  0.010  0.00  0.0000  0.40  SS  \n",
      "158  0.561  0.920   2  0.52 -0.048  0.00  0.0000  0.56  SS  \n",
      "159  0.559  0.917   2  0.57 -0.064  0.00  0.0000 -1.33  SS  \n",
      "160  0.560  0.919   1  1.10  0.099  0.00  0.0000  1.03  SS  \n",
      "\n",
      "[161 rows x 39 columns]\n",
      "          0    1    2         3       4    5    6    7        8     9   ...  \\\n",
      "0    ï»¿1999    1  514         1   5-Apr  SEA  NaN  CHW    L,2-8    CG  ...   \n",
      "1       1999    2  515         2   6-Apr  SEA  NaN  CHW   L,3-11  GS-7  ...   \n",
      "2       1999    3  516  35Â (32)  14-May  SEA  NaN  KCR   L,7-12    CG  ...   \n",
      "3       1999    4  517        36  15-May  SEA  NaN  KCR  L,10-11    CG  ...   \n",
      "4       1999    5  518        37  16-May  SEA  NaN  KCR    W,5-1    CG  ...   \n",
      "..       ...  ...  ...       ...     ...  ...  ...  ...      ...   ...  ...   \n",
      "124     1999  125  638       158  29-Sep  SEA    @  TEX    W,7-3    CG  ...   \n",
      "125     1999  126  639       159  30-Sep  SEA    @  TEX    L,0-7    CG  ...   \n",
      "126     1999  127  640       160   1-Oct  SEA    @  OAK    L,1-5    CG  ...   \n",
      "127     1999  128  641       161   2-Oct  SEA    @  OAK   W,10-2  GS-8  ...   \n",
      "128     1999  129  642       162   3-Oct  SEA    @  OAK    L,1-3  GS-5  ...   \n",
      "\n",
      "        29     30     31  32    33     34    35      36    37  38  \n",
      "0    0.000  0.000  0.000   2  0.76 -0.081  0.77 -0.0005 -0.88  SS  \n",
      "1    0.143  0.000  0.143   2  0.77 -0.019  0.75 -0.0001 -0.12  SS  \n",
      "2    0.333  0.500  0.833   2  1.07  0.132  0.91  0.0007  1.28  SS  \n",
      "3    0.294  0.357  0.651   2  0.99 -0.101  0.79 -0.0005 -1.29  SS  \n",
      "4    0.381  0.529  0.910   2  0.49  0.117  0.33  0.0005  1.53  SS  \n",
      "..     ...    ...    ...  ..   ...    ...   ...     ...   ...  ..  \n",
      "124  0.359  0.587  0.946   2  0.57  0.089  0.00  0.0000  1.37  SS  \n",
      "125  0.358  0.587  0.944   2  0.85 -0.035  0.00  0.0000 -0.47  SS  \n",
      "126  0.357  0.584  0.941   2  0.66 -0.024  0.00  0.0000 -0.34  SS  \n",
      "127  0.359  0.589  0.948   2  0.64  0.044  0.00  0.0000  1.46  SS  \n",
      "128  0.357  0.586  0.943   1  1.30 -0.099  0.00  0.0000 -1.01  SS  \n",
      "\n",
      "[129 rows x 39 columns]\n",
      "          0    1    2    3       4    5    6    7       8     9   ...     29  \\\n",
      "0    ï»¿2000    1  643    1   4-Apr  SEA  NaN  BOS   L,0-2    CG  ...  0.500   \n",
      "1       2000    2  644    2   5-Apr  SEA  NaN  BOS   W,9-3    CG  ...  0.556   \n",
      "2       2000    3  645    3   6-Apr  SEA  NaN  BOS   W,5-2    CG  ...  0.615   \n",
      "3       2000    4  646    4   7-Apr  SEA  NaN  NYY   W,7-5    CG  ...  0.611   \n",
      "4       2000    5  647    5   8-Apr  SEA  NaN  NYY   L,2-3    CG  ...  0.545   \n",
      "..       ...  ...  ...  ...     ...  ...  ...  ...     ...   ...  ...    ...   \n",
      "143     2000  144  786  158  27-Sep  SEA  NaN  TEX   W,6-4    CG  ...  0.419   \n",
      "144     2000  145  787  159  28-Sep  SEA  NaN  TEX  L,6-13  GS-9  ...  0.419   \n",
      "145     2000  146  788  160  29-Sep  SEA    @  ANA   L,3-9    CG  ...  0.418   \n",
      "146     2000  147  789  161  30-Sep  SEA    @  ANA  W,21-9  GS-9  ...  0.420   \n",
      "147     2000  148  790  162   1-Oct  SEA    @  ANA   W,5-2    CG  ...  0.420   \n",
      "\n",
      "        30     31  32    33     34    35      36    37  38  \n",
      "0    0.000  0.500   3  1.01 -0.011  1.05 -0.0001 -0.08  SS  \n",
      "1    0.800  1.356   3  0.58  0.104  0.58  0.0006  1.60  SS  \n",
      "2    0.857  1.473   3  2.10  0.373  2.19  0.0023  2.58  SS  \n",
      "3    1.111  1.722   3  0.90  0.168  0.97  0.0011  1.07  SS  \n",
      "4    0.846  1.392   3  1.35  0.036  1.48  0.0002  0.21  SS  \n",
      "..     ...    ...  ..   ...    ...   ...     ...   ...  ..  \n",
      "143  0.595  1.014   3  0.89 -0.055  2.35 -0.0009 -0.94  SS  \n",
      "144  0.595  1.014   3  0.95  0.126  2.39  0.0019  0.98  SS  \n",
      "145  0.592  1.010   3  0.95 -0.045  2.00 -0.0006 -0.74  SS  \n",
      "146  0.604  1.023   3  0.55  0.226  3.17  0.0079  3.69  SS  \n",
      "147  0.606  1.026   3  0.74  0.052  4.09  0.0017  0.44  SS  \n",
      "\n",
      "[148 rows x 39 columns]\n",
      "          0    1    2    3      4    5    6    7       8       9   ...     29  \\\n",
      "0    ï»¿2001    1  791    1  1-Apr  TEX    @  TOR   L,1-8      CG  ...  0.500   \n",
      "1       2001    2  792    2  3-Apr  TEX  NaN  ANA   W,3-2      CG  ...  0.375   \n",
      "2       2001    3  793    3  4-Apr  TEX  NaN  ANA   W,7-3      CG  ...  0.333   \n",
      "3       2001    4  794    4  5-Apr  TEX  NaN  ANA  L,3-10      CG  ...  0.250   \n",
      "4       2001    5  795    5  6-Apr  TEX  NaN  SEA   L,7-9  CG(10)  ...  0.286   \n",
      "..       ...  ...  ...  ...    ...  ...  ...  ...     ...     ...  ...    ...   \n",
      "157     2001  158  948  158  3-Oct  TEX    @  OAK   L,4-5      CG  ...  0.402   \n",
      "158     2001  159  949  159  4-Oct  TEX    @  SEA  L,1-16    GS-5  ...  0.403   \n",
      "159     2001  160  950  160  5-Oct  TEX    @  SEA   L,2-6      CG  ...  0.401   \n",
      "160     2001  161  951  161  6-Oct  TEX    @  SEA   L,0-1      CG  ...  0.399   \n",
      "161     2001  162  952  162  7-Oct  TEX    @  SEA   W,4-3      CG  ...  0.399   \n",
      "\n",
      "        30     31  32    33     34    35      36    37  38  \n",
      "0    0.500  1.000   3  0.78  0.003  0.80  0.0000  0.10  SS  \n",
      "1    0.375  0.750   3  0.99 -0.024  1.15 -0.0002 -0.37  SS  \n",
      "2    0.333  0.667   3  0.57 -0.051  0.68 -0.0004 -1.05  SS  \n",
      "3    0.250  0.500   3  0.78 -0.056  0.98 -0.0004 -0.76  SS  \n",
      "4    0.250  0.536   3  0.76 -0.033  0.92 -0.0002  0.11  SS  \n",
      "..     ...    ...  ..   ...    ...   ...     ...   ...  ..  \n",
      "157  0.628  1.030   3  1.12  0.012  0.00  0.0000  0.63  SS  \n",
      "158  0.632  1.036   3  0.68 -0.025  0.00  0.0000  0.54  SS  \n",
      "159  0.628  1.029   3  0.42 -0.043  0.00  0.0000 -0.55  SS  \n",
      "160  0.624  1.023   3  0.83 -0.085  0.00  0.0000 -0.49  SS  \n",
      "161  0.622  1.021   3  1.36  0.062  0.00  0.0000  0.36  SS  \n",
      "\n",
      "[162 rows x 39 columns]\n",
      "          0    1     2    3       4    5    6    7       8     9   ...     29  \\\n",
      "0    ï»¿2002    1   953    1   1-Apr  TEX    @  OAK   L,3-8    CG  ...  0.000   \n",
      "1       2002    2   954    2   2-Apr  TEX    @  OAK   L,2-3    CG  ...  0.125   \n",
      "2       2002    3   955    3   3-Apr  TEX    @  OAK   L,6-9    CG  ...  0.077   \n",
      "3       2002    4   956    4   4-Apr  TEX    @  OAK   W,7-5    CG  ...  0.278   \n",
      "4       2002    5   957    5   5-Apr  TEX  NaN  ANA   L,1-3    CG  ...  0.227   \n",
      "..       ...  ...   ...  ...     ...  ...  ...  ...     ...   ...  ...    ...   \n",
      "157     2002  158  1110  158  25-Sep  TEX  NaN  ANA   W,4-3    CG  ...  0.393   \n",
      "158     2002  159  1111  159  26-Sep  TEX  NaN  ANA  L,5-10  GS-8  ...  0.392   \n",
      "159     2002  160  1112  160  27-Sep  TEX  NaN  OAK   L,2-3    CG  ...  0.391   \n",
      "160     2002  161  1113  161  28-Sep  TEX  NaN  OAK  L,8-10  GS-8  ...  0.392   \n",
      "161     2002  162  1114  162  29-Sep  TEX  NaN  OAK   L,7-8    CG  ...  0.392   \n",
      "\n",
      "        30     31  32    33     34    35      36    37  38  \n",
      "0    0.000  0.000   3  0.32 -0.032  0.38 -0.0002 -0.70  SS  \n",
      "1    0.000  0.125   3  1.03 -0.087  1.22 -0.0006 -0.53  SS  \n",
      "2    0.000  0.077   3  1.76 -0.280  2.06 -0.0020 -1.95  SS  \n",
      "3    0.071  0.349   3  1.20  0.201  1.29  0.0013  2.35  SS  \n",
      "4    0.056  0.283   3  1.38 -0.148  1.54 -0.0010 -1.12  SS  \n",
      "..     ...    ...  ..   ...    ...   ...     ...   ...  ..  \n",
      "157  0.632  1.025   3  0.93  0.098  0.00  0.0000  1.28  SS  \n",
      "158  0.629  1.021   3  0.66 -0.023  0.00  0.0000 -0.39  SS  \n",
      "159  0.626  1.017   3  1.03  0.034  0.00  0.0000 -0.12  SS  \n",
      "160  0.624  1.016   3  1.01  0.049  0.00  0.0000  0.77  SS  \n",
      "161  0.623  1.015   3  0.87  0.058  0.00  0.0000  1.27  SS  \n",
      "\n",
      "[162 rows x 39 columns]\n",
      "          0    1     2         3          4    5    6    7       8       9   \\\n",
      "0    ï»¿2003    1  1115         1  3/30/2021  TEX    @  ANA   W,6-3      CG   \n",
      "1       2003    2  1116         2   4/1/2021  TEX    @  ANA  L,0-10      CG   \n",
      "2       2003    3  1117         3   4/2/2021  TEX    @  ANA  L,5-11      CG   \n",
      "3       2003    4  1118         4   4/4/2021  TEX  NaN  SEA   L,4-6      CG   \n",
      "4       2003    5  1119         5   4/5/2021  TEX  NaN  SEA   W,8-4      CG   \n",
      "..       ...  ...   ...       ...        ...  ...  ...  ...     ...     ...   \n",
      "156     2003  157  1271       157  9/22/2021  TEX    @  OAK   L,3-7    GS-8   \n",
      "157     2003  158  1272       158  9/23/2021  TEX    @  OAK   L,3-4  CG(10)   \n",
      "158     2003  159  1273  160Â (1)  9/26/2021  TEX    @  ANA   L,3-5      CG   \n",
      "159     2003  160  1274       161  9/27/2021  TEX    @  ANA  W,12-3    GS-9   \n",
      "160     2003  161  1275       162  9/28/2021  TEX    @  ANA   L,1-4    GS-8   \n",
      "\n",
      "     ...     29     30     31  32    33     34    35      36    37  38  \n",
      "0    ...  0.200  0.800  1.000   3  1.15 -0.102  1.40 -0.0008 -1.63  SS  \n",
      "1    ...  0.222  0.556  0.778   3  0.53  0.000  0.67  0.0000 -0.20  SS  \n",
      "2    ...  0.214  0.643  0.857   3  0.86  0.100  1.04  0.0007  0.97  SS  \n",
      "3    ...  0.167  0.500  0.667   3  1.52 -0.156  1.74 -0.0011 -1.34  SS  \n",
      "4    ...  0.304  0.727  1.032   3  0.52  0.083  0.58  0.0006  2.09  SS  \n",
      "..   ...    ...    ...    ...  ..   ...    ...   ...     ...   ...  ..  \n",
      "156  ...  0.395  0.603  0.998   3  0.53 -0.020  0.00  0.0000 -0.21  SS  \n",
      "157  ...  0.394  0.599  0.993   3  1.44 -0.071  0.00  0.0000 -0.48  SS  \n",
      "158  ...  0.393  0.598  0.991   3  0.55 -0.006  0.00  0.0000  0.29  SS  \n",
      "159  ...  0.395  0.599  0.994   3  0.66  0.029  0.00  0.0000  0.59  SS  \n",
      "160  ...  0.396  0.600  0.995   3  0.64 -0.006  0.00  0.0000 -0.07  SS  \n",
      "\n",
      "[161 rows x 39 columns]\n",
      "          0    1     2         3           4    5    6    7       8     9   \\\n",
      "0    ï»¿2004    1  1276         1      30-Mar  NYY    @  TBD   L,3-8    CG   \n",
      "1       2004    2  1277         2      31-Mar  NYY    @  TBD  W,12-1    CG   \n",
      "2       2004    3  1278         3       6-Apr  NYY    @  TBD   L,4-9    CG   \n",
      "3       2004    4  1279         4       7-Apr  NYY    @  TBD   W,3-2    CG   \n",
      "4       2004    5  1280         5       8-Apr  NYY  NaN  CHW   W,3-1    CG   \n",
      "..       ...  ...   ...       ...         ...  ...  ...  ...     ...   ...   \n",
      "150     2004  151  1426       156      26-Sep  NYY    @  BOS  L,4-11  GS-8   \n",
      "151     2004  152  1427       157  Sep 29 (1)  NYY  NaN  MIN   W,5-3    CG   \n",
      "152     2004  153  1428       158  Sep 29 (2)  NYY  NaN  MIN   W,5-4    CG   \n",
      "153     2004  154  1429       159      30-Sep  NYY  NaN  MIN   W,6-4    CG   \n",
      "154     2004  155  1430  162Â (2)       3-Oct  NYY    @  TOR   W,3-2  GS-5   \n",
      "\n",
      "     ...     29     30     31  32    33     34    35      36    37  38  \n",
      "0    ...  0.250  0.500  0.750   3  0.81  0.039  0.88  0.0003 -0.09  3B  \n",
      "1    ...  0.111  0.222  0.333   3  0.68 -0.114  0.72 -0.0007 -2.31  3B  \n",
      "2    ...  0.286  0.500  0.786   3  0.82  0.171  0.91  0.0012  1.69  3B  \n",
      "3    ...  0.278  0.438  0.715   3  1.26  0.005  1.36  0.0000 -0.33  3B  \n",
      "4    ...  0.318  0.389  0.707   3  0.84  0.029  0.85  0.0002  0.38  3B  \n",
      "..   ...    ...    ...    ...  ..   ...    ...   ...     ...   ...  ..  \n",
      "150  ...  0.381  0.515  0.896   2  0.40 -0.018  0.00  0.0000 -0.19  3B  \n",
      "151  ...  0.380  0.516  0.897   2  1.63  0.217  0.00  0.0000  1.21  3B  \n",
      "152  ...  0.380  0.519  0.899   2  0.91  0.115  0.00  0.0000  1.73  3B  \n",
      "153  ...  0.377  0.515  0.892   2  1.43 -0.228  0.00  0.0000 -1.84  3B  \n",
      "154  ...  0.375  0.512  0.888   2  1.08 -0.047  0.00  0.0000 -0.68  3B  \n",
      "\n",
      "[155 rows x 39 columns]\n",
      "          0    1     2    3          4    5    6    7       8     9   ...  \\\n",
      "0    ï»¿2005    1  1431    1   4/3/2021  NYY  NaN  BOS   W,9-2    CG  ...   \n",
      "1       2005    2  1432    2   4/5/2021  NYY  NaN  BOS   W,4-3    CG  ...   \n",
      "2       2005    3  1433    3   4/6/2021  NYY  NaN  BOS   L,3-7    CG  ...   \n",
      "3       2005    4  1434    4   4/8/2021  NYY  NaN  BAL  L,5-12    CG  ...   \n",
      "4       2005    5  1435    5   4/9/2021  NYY  NaN  BAL   W,8-5    CG  ...   \n",
      "..       ...  ...   ...  ...        ...  ...  ...  ...     ...   ...  ...   \n",
      "157     2005  158  1588  158  9/28/2021  NYY    @  BAL   W,2-1    CG  ...   \n",
      "158     2005  159  1589  159  9/29/2021  NYY    @  BAL   W,8-4    CG  ...   \n",
      "159     2005  160  1590  160  9/30/2021  NYY    @  BOS   L,3-5    CG  ...   \n",
      "160     2005  161  1591  161  10/1/2021  NYY    @  BOS   W,8-4    CG  ...   \n",
      "161     2005  162  1592  162  10/2/2021  NYY    @  BOS  L,1-10  GS-6  ...   \n",
      "\n",
      "        29     30     31  32    33     34    35      36    37  38  \n",
      "0    0.333  0.333  0.667   2  0.63 -0.021  0.69 -0.0001 -0.27  3B  \n",
      "1    0.300  0.222  0.522   2  1.03  0.095  1.15  0.0006  0.88  3B  \n",
      "2    0.357  0.500  0.857   2  1.70  0.177  1.95  0.0012  1.29  3B  \n",
      "3    0.263  0.353  0.616   2  0.92 -0.109  1.08 -0.0008 -2.12  3B  \n",
      "4    0.333  0.409  0.742   2  1.54  0.083  1.66  0.0005  0.70  3B  \n",
      "..     ...    ...    ...  ..   ...    ...   ...     ...   ...  ..  \n",
      "157  0.421  0.610  1.031   2  1.17 -0.014  5.75 -0.0004 -0.61  3B  \n",
      "158  0.421  0.608  1.029   2  0.59  0.096  2.49  0.0024  1.15  3B  \n",
      "159  0.420  0.605  1.025   2  1.01 -0.017  5.23 -0.0005 -0.01  3B  \n",
      "160  0.423  0.613  1.036   2  0.43  0.134  2.62  0.0049  2.87  3B  \n",
      "161  0.421  0.610  1.031   3  0.62 -0.048  0.00  0.0000 -0.68  3B  \n",
      "\n",
      "[162 rows x 39 columns]\n",
      "          0    1     2         3       4    5    6    7       8     9   ...  \\\n",
      "0    ï»¿2006    1  1593         1   3-Apr  NYY    @  OAK  W,15-2    CG  ...   \n",
      "1       2006    2  1594         2   4-Apr  NYY    @  OAK   L,3-4    CG  ...   \n",
      "2       2006    3  1595         3   5-Apr  NYY    @  OAK   L,4-9    CG  ...   \n",
      "3       2006    4  1596         4   7-Apr  NYY    @  LAA   L,1-4    CG  ...   \n",
      "4       2006    5  1597         5   8-Apr  NYY    @  LAA   L,2-3    CG  ...   \n",
      "..       ...  ...   ...       ...     ...  ...  ...  ...     ...   ...  ...   \n",
      "149     2006  150  1742       156  25-Sep  NYY    @  TBD  W,16-1  GS-6  ...   \n",
      "150     2006  151  1743       157  26-Sep  NYY  NaN  BAL   W,5-4    CG  ...   \n",
      "151     2006  152  1744       158  27-Sep  NYY  NaN  BAL  W,16-5  GS-7  ...   \n",
      "152     2006  153  1745  160Â (1)  29-Sep  NYY  NaN  TOR   W,7-2    CG  ...   \n",
      "153     2006  154  1746       161  30-Sep  NYY  NaN  TOR   L,5-6  GS-5  ...   \n",
      "\n",
      "        29     30     31  32    33     34    35      36    37  38  \n",
      "0    0.667  1.200  1.867   4  0.42  0.150  0.40  0.0009  4.22  3B  \n",
      "1    0.545  0.800  1.345   4  2.12 -0.236  2.14 -0.0014 -1.56  3B  \n",
      "2    0.467  0.615  1.082   4  1.18 -0.137  1.17 -0.0008 -0.74  3B  \n",
      "3    0.368  0.471  0.839   4  0.94 -0.030  0.91 -0.0002 -0.37  3B  \n",
      "4    0.348  0.400  0.748   4  1.45 -0.104  1.32 -0.0006 -0.80  3B  \n",
      "..     ...    ...    ...  ..   ...    ...   ...     ...   ...  ..  \n",
      "149  0.385  0.513  0.898   4  0.22  0.023  0.00  0.0000  2.29  3B  \n",
      "150  0.386  0.512  0.898   4  0.77  0.000  0.00  0.0000 -0.07  3B  \n",
      "151  0.389  0.514  0.903   4  0.32  0.035  0.00  0.0000  2.46  3B  \n",
      "152  0.391  0.518  0.909   4  0.67  0.130  0.00  0.0000  1.64  3B  \n",
      "153  0.392  0.523  0.914   4  1.76  0.089  0.00  0.0000  0.63  3B  \n",
      "\n",
      "[154 rows x 39 columns]\n",
      "          0    1     2         3       4    5    6    7       8       9   ...  \\\n",
      "0    ï»¿2007    1  1747         1   2-Apr  NYY  NaN  TBD   W,9-5      CG  ...   \n",
      "1       2007    2  1748         2   5-Apr  NYY  NaN  TBD   L,6-7      CG  ...   \n",
      "2       2007    3  1749         3   6-Apr  NYY  NaN  BAL   L,4-6      CG  ...   \n",
      "3       2007    4  1750         4   7-Apr  NYY  NaN  BAL  W,10-7      CG  ...   \n",
      "4       2007    5  1751         5   8-Apr  NYY  NaN  BAL   L,4-6      CG  ...   \n",
      "..       ...  ...   ...       ...     ...  ...  ...  ...     ...     ...  ...   \n",
      "153     2007  154  1900       156  24-Sep  NYY  NaN  TOR   L,1-4      CG  ...   \n",
      "154     2007  155  1901       157  25-Sep  NYY    @  TBD   L,6-7  CG(10)  ...   \n",
      "155     2007  156  1902       158  26-Sep  NYY    @  TBD  W,12-4      CG  ...   \n",
      "156     2007  157  1903  160Â (1)  28-Sep  NYY    @  BAL  L,9-10   GS-10  ...   \n",
      "157     2007  158  1904  162Â (1)  30-Sep  NYY    @  BAL  W,10-4    GS-4  ...   \n",
      "\n",
      "        29     30     31  32    33     34    35      36    37  38  \n",
      "0    0.400  1.000  1.400   4  1.35  0.060  1.45  0.0004  1.39  3B  \n",
      "1    0.300  0.700  1.000   4  3.05 -0.304  3.47 -0.0021 -1.31  3B  \n",
      "2    0.333  0.643  0.976   4  1.58  0.002  1.69  0.0000  0.34  3B  \n",
      "3    0.450  1.056  1.506   4  2.76  0.936  2.93  0.0060  5.74  3B  \n",
      "4    0.458  1.095  1.554   4  1.08  0.136  1.18  0.0009  1.57  3B  \n",
      "..     ...    ...    ...  ..   ...    ...   ...     ...   ...  ..  \n",
      "153  0.417  0.638  1.055   4  0.87 -0.015  0.05  0.0000 -0.12  3B  \n",
      "154  0.417  0.640  1.058   4  1.54  0.062  0.03  0.0000  1.25  3B  \n",
      "155  0.418  0.637  1.055   4  0.70  0.053  0.03  0.0000 -0.17  3B  \n",
      "156  0.420  0.644  1.064   4  1.44  0.286  0.00  0.0000  3.52  3B  \n",
      "157  0.422  0.645  1.067   4  1.10  0.094  0.00  0.0000  1.17  3B  \n",
      "\n",
      "[158 rows x 39 columns]\n",
      "          0    1     2         3           4    5    6    7       8     9   \\\n",
      "0    ï»¿2008    1  1905         1       1-Apr  NYY  NaN  TOR   W,3-2    CG   \n",
      "1       2008    2  1906         2       2-Apr  NYY  NaN  TOR   L,2-5    CG   \n",
      "2       2008    3  1907         3       3-Apr  NYY  NaN  TOR   W,3-2    CG   \n",
      "3       2008    4  1908         4       4-Apr  NYY  NaN  TBR  L,4-13  GS-8   \n",
      "4       2008    5  1909         5       5-Apr  NYY  NaN  TBR   L,3-6    CG   \n",
      "..       ...  ...   ...       ...         ...  ...  ...  ...     ...   ...   \n",
      "133     2008  134  2038       155      20-Sep  NYY  NaN  BAL   W,1-0    CG   \n",
      "134     2008  135  2039       156      21-Sep  NYY  NaN  BAL   W,7-3    CG   \n",
      "135     2008  136  2040       157      23-Sep  NYY    @  TOR   W,3-1    CG   \n",
      "136     2008  137  2041  160Â (2)      26-Sep  NYY    @  BOS  W,19-8  GS-5   \n",
      "137     2008  138  2042       161  Sep 28 (1)  NYY    @  BOS   W,6-2    CG   \n",
      "\n",
      "     ...     29     30     31  32    33     34    35      36    37  38  \n",
      "0    ...  0.750  1.000  1.750   4  1.25  0.076  1.36  0.0005  0.81  3B  \n",
      "1    ...  0.500  1.000  1.500   4  1.46 -0.048  1.62 -0.0003  0.63  3B  \n",
      "2    ...  0.333  0.636  0.970   4  1.55 -0.182  1.61 -0.0011 -1.72  3B  \n",
      "3    ...  0.333  0.571  0.905   4  0.98 -0.057  1.09 -0.0004 -0.47  3B  \n",
      "4    ...  0.368  0.611  0.980   4  0.71  0.104  0.75  0.0007  1.36  3B  \n",
      "..   ...    ...    ...    ...  ..   ...    ...   ...     ...   ...  ..  \n",
      "133  ...  0.393  0.581  0.974   4  2.48  0.063  0.02  0.0000  0.18  3B  \n",
      "134  ...  0.393  0.579  0.973   4  0.72  0.025  0.02  0.0000 -0.05  3B  \n",
      "135  ...  0.391  0.575  0.965   4  0.71 -0.074  0.02  0.0000 -0.89  3B  \n",
      "136  ...  0.390  0.573  0.964   4  0.87  0.033  0.00  0.0000  0.05  3B  \n",
      "137  ...  0.392  0.573  0.965   4  0.76  0.021  0.00  0.0000  0.80  3B  \n",
      "\n",
      "[138 rows x 39 columns]\n"
     ]
    },
    {
     "name": "stdout",
     "output_type": "stream",
     "text": [
      "          0    1     2         3       4    5    6    7       8     9   ...  \\\n",
      "0    ï»¿2009    1  2043  29Â (28)   8-May  NYY    @  BAL   W,4-0    CG  ...   \n",
      "1       2009    2  2044        30   9-May  NYY    @  BAL  L,5-12    CG  ...   \n",
      "2       2009    3  2045        31  10-May  NYY    @  BAL   W,5-3    CG  ...   \n",
      "3       2009    4  2046        32  12-May  NYY    @  TOR   L,1-5    CG  ...   \n",
      "4       2009    5  2047        33  13-May  NYY    @  TOR   W,8-2  GS-9  ...   \n",
      "..       ...  ...   ...       ...     ...  ...  ...  ...     ...   ...  ...   \n",
      "119     2009  120  2162       156  27-Sep  NYY  NaN  BOS   W,4-2    CG  ...   \n",
      "120     2009  121  2163  158Â (1)  29-Sep  NYY  NaN  KCR   W,4-3  GS-8  ...   \n",
      "121     2009  122  2164       159  30-Sep  NYY  NaN  KCR   L,3-4  GS-8  ...   \n",
      "122     2009  123  2165       160   2-Oct  NYY    @  TBR  L,4-13  GS-6  ...   \n",
      "123     2009  124  2166  162Â (1)   4-Oct  NYY    @  TBR  W,10-2  GS-6  ...   \n",
      "\n",
      "        29     30     31  32    33     34    35      36    37  38  \n",
      "0    0.250  1.000  1.250   4  0.72  0.177  0.63  0.0009  1.70  3B  \n",
      "1    0.250  0.571  0.821   4  0.40 -0.029  0.40 -0.0002 -0.10  3B  \n",
      "2    0.250  0.455  0.705   4  0.66 -0.050  0.62 -0.0003 -0.55  3B  \n",
      "3    0.267  0.429  0.695   4  0.93  0.014  1.01  0.0001  0.40  3B  \n",
      "4    0.350  0.375  0.725   4  0.41  0.013  0.42  0.0001  0.00  3B  \n",
      "..     ...    ...    ...  ..   ...    ...   ...     ...   ...  ..  \n",
      "119  0.403  0.524  0.927   4  0.98 -0.034  0.00  0.0000 -0.63  3B  \n",
      "120  0.404  0.523  0.927   4  1.51  0.015  0.00  0.0000 -0.29  3B  \n",
      "121  0.402  0.519  0.921   4  0.96 -0.076  0.00  0.0000 -0.65  3B  \n",
      "122  0.399  0.516  0.915   4  0.36 -0.030  0.00  0.0000 -0.52  3B  \n",
      "123  0.402  0.532  0.933   4  1.37  0.364  0.00  0.0000  5.35  3B  \n",
      "\n",
      "[124 rows x 39 columns]\n",
      "          0    1     2    3          4    5  6    7       8       9   ...  \\\n",
      "0    ï»¿2010    1  2167    1      4-Apr  NYY  @  BOS   L,7-9      CG  ...   \n",
      "1       2010    2  2168    2      6-Apr  NYY  @  BOS   W,6-4      CG  ...   \n",
      "2       2010    3  2169    3      7-Apr  NYY  @  BOS   W,3-1  CG(10)  ...   \n",
      "3       2010    4  2170    4      9-Apr  NYY  @  TBR   L,3-9      CG  ...   \n",
      "4       2010    5  2171    5     10-Apr  NYY  @  TBR  W,10-0    GS-9  ...   \n",
      "..       ...  ...   ...  ...        ...  ... ..  ...     ...     ...  ...   \n",
      "132     2010  133  2299  158     28-Sep  NYY  @  TOR   W,6-1      CG  ...   \n",
      "133     2010  134  2300  159     29-Sep  NYY  @  TOR   L,4-8      CG  ...   \n",
      "134     2010  135  2301  160  Oct 2 (1)  NYY  @  BOS   W,6-5  CG(10)  ...   \n",
      "135     2010  136  2302  161  Oct 2 (2)  NYY  @  BOS   L,6-7  CG(10)  ...   \n",
      "136     2010  137  2303  162      3-Oct  NYY  @  BOS   L,4-8      CG  ...   \n",
      "\n",
      "        29     30     31  32    33     34    35      36    37  38  \n",
      "0    0.200  0.400  0.600   4  1.25  0.045  1.35  0.0003 -0.11  3B  \n",
      "1    0.200  0.400  0.600   4  1.34  0.054  1.37  0.0003  0.31  3B  \n",
      "2    0.133  0.267  0.400   4  1.56 -0.268  1.79 -0.0018 -2.22  3B  \n",
      "3    0.158  0.368  0.526   4  0.72  0.185  0.89  0.0014  1.08  3B  \n",
      "4    0.250  0.391  0.641   4  0.75 -0.062  0.89 -0.0005  0.01  3B  \n",
      "..     ...    ...    ...  ..   ...    ...   ...     ...   ...  ..  \n",
      "132  0.343  0.511  0.854   4  0.80  0.059  0.47  0.0002  0.42  3B  \n",
      "133  0.342  0.514  0.856   4  0.58 -0.067  0.37 -0.0003  0.19  3B  \n",
      "134  0.341  0.511  0.851   4  1.41 -0.097  1.05 -0.0004 -1.13  DH  \n",
      "135  0.341  0.508  0.848   4  1.44 -0.153  0.84 -0.0005 -0.88  3B  \n",
      "136  0.341  0.506  0.847   4  0.69  0.047  1.04  0.0004  0.12  3B  \n",
      "\n",
      "[137 rows x 39 columns]\n",
      "         0   1     2         3           4    5    6    7       8       9   \\\n",
      "0   ï»¿2011   1  2304         1      31-Mar  NYY  NaN  DET   W,6-3      CG   \n",
      "1      2011   2  2305         2       2-Apr  NYY  NaN  DET  W,10-6    GS-8   \n",
      "2      2011   3  2306         3       3-Apr  NYY  NaN  DET  L,7-10      CG   \n",
      "3      2011   4  2307         4       4-Apr  NYY  NaN  MIN   W,4-3      CG   \n",
      "4      2011   5  2308         5       5-Apr  NYY  NaN  MIN   L,4-5  CG(10)   \n",
      "..      ...  ..   ...       ...         ...  ...  ...  ...     ...     ...   \n",
      "94     2011  95  2398       154  Sep 21 (1)  NYY  NaN  TBR   W,4-2      CG   \n",
      "95     2011  96  2399  157Â (2)      24-Sep  NYY  NaN  BOS   W,9-1    GS-9   \n",
      "96     2011  97  2400       158  Sep 25 (1)  NYY  NaN  BOS   W,6-2      CG   \n",
      "97     2011  98  2401  160Â (1)      26-Sep  NYY    @  TBR   L,2-5      CG   \n",
      "98     2011  99  2402       161      27-Sep  NYY    @  TBR   L,3-5    GS-8   \n",
      "\n",
      "    ...     29     30     31  32    33     34    35      36    37  38  \n",
      "0   ...  0.750  1.000  1.750   4  0.64  0.079  0.65  0.0005  1.00  3B  \n",
      "1   ...  0.750  1.600  2.350   4  0.54  0.140  0.56  0.0009  2.65  3B  \n",
      "2   ...  0.538  0.900  1.438   4  1.17 -0.075  1.24 -0.0005 -0.73  3B  \n",
      "3   ...  0.471  0.929  1.399   4  0.75  0.077  0.78  0.0005  0.34  3B  \n",
      "4   ...  0.429  0.778  1.206   4  0.49 -0.039  0.55 -0.0003 -0.14  3B  \n",
      "..  ...    ...    ...    ...  ..   ...    ...   ...     ...   ...  ..  \n",
      "94  ...  0.364  0.472  0.836   4  1.06  0.017  0.06  0.0000  0.23  3B  \n",
      "95  ...  0.361  0.467  0.828   4  0.27 -0.028  0.00  0.0000 -0.92  3B  \n",
      "96  ...  0.362  0.466  0.828   3  0.55  0.011  0.00  0.0000  0.48  3B  \n",
      "97  ...  0.361  0.464  0.824   4  0.94  0.048  0.00  0.0000  0.20  DH  \n",
      "98  ...  0.362  0.461  0.823   4  1.41  0.033  0.00  0.0000  0.26  3B  \n",
      "\n",
      "[99 rows x 39 columns]\n",
      "          0    1     2    3       4    5    6    7       8       9   ...  \\\n",
      "0    ï»¿2012    1  2403    1   6-Apr  NYY    @  TBR   L,6-7      CG  ...   \n",
      "1       2012    2  2404    2   7-Apr  NYY    @  TBR   L,6-8      CG  ...   \n",
      "2       2012    3  2405    3   8-Apr  NYY    @  TBR   L,0-3      CG  ...   \n",
      "3       2012    4  2406    4   9-Apr  NYY    @  BAL   W,6-2      CG  ...   \n",
      "4       2012    5  2407    5  10-Apr  NYY    @  BAL   W,5-4  CG(12)  ...   \n",
      "..       ...  ...   ...  ...     ...  ...  ...  ...     ...     ...  ...   \n",
      "117     2012  118  2520  158  29-Sep  NYY    @  TOR   L,2-3      CG  ...   \n",
      "118     2012  119  2521  159  30-Sep  NYY    @  TOR   W,9-6      CG  ...   \n",
      "119     2012  120  2522  160   1-Oct  NYY  NaN  BOS  W,10-2    GS-8  ...   \n",
      "120     2012  121  2523  161   2-Oct  NYY  NaN  BOS   W,4-3  CG(12)  ...   \n",
      "121     2012  122  2524  162   3-Oct  NYY  NaN  BOS  W,14-2    GS-7  ...   \n",
      "\n",
      "        29     30     31  32    33     34    35      36    37  38  \n",
      "0    0.800  1.000  1.800   4  0.88  0.183  0.98  0.0012  1.99  3B  \n",
      "1    0.500  0.429  0.929   4  0.72 -0.053  0.74 -0.0003 -0.91  3B  \n",
      "2    0.500  0.500  1.000   4  0.82  0.024  0.80  0.0001  0.08  3B  \n",
      "3    0.421  0.357  0.778   4  0.87 -0.078  0.83 -0.0005 -2.42  DH  \n",
      "4    0.360  0.263  0.623   4  2.05 -0.214  2.01 -0.0013 -1.24  3B  \n",
      "..     ...    ...    ...  ..   ...    ...   ...     ...   ...  ..  \n",
      "117  0.348  0.429  0.776   3  1.84 -0.063  4.32 -0.0009  0.40  3B  \n",
      "118  0.350  0.429  0.779   3  1.31  0.125  4.31  0.0025  0.75  3B  \n",
      "119  0.347  0.426  0.774   3  0.33 -0.007  1.22 -0.0002 -0.59  DH  \n",
      "120  0.349  0.426  0.775   3  2.20  0.074  5.81  0.0012  0.85  3B  \n",
      "121  0.353  0.430  0.783   3  0.21  0.018  0.58  0.0003  0.98  3B  \n",
      "\n",
      "[122 rows x 39 columns]\n",
      "         0   1     2           3           4    5    6    7       8       9   \\\n",
      "0   ï»¿2013   1  2525  111Â (110)       5-Aug  NYY    @  CHW   L,1-8      CG   \n",
      "1      2013   2  2526         112       6-Aug  NYY    @  CHW   L,2-3      CG   \n",
      "2      2013   3  2527         113       7-Aug  NYY    @  CHW   L,5-6   GS-11   \n",
      "3      2013   4  2528         114       9-Aug  NYY  NaN  DET   W,4-3    GS-9   \n",
      "4      2013   5  2529    116Â (1)      11-Aug  NYY  NaN  DET   W,5-4      CG   \n",
      "5      2013   6  2530         117      12-Aug  NYY  NaN  LAA   W,2-1      CG   \n",
      "6      2013   7  2531         118      13-Aug  NYY  NaN  LAA  W,14-7      CG   \n",
      "7      2013   8  2532         119      14-Aug  NYY  NaN  LAA  W,11-3      CG   \n",
      "8      2013   9  2533         120      15-Aug  NYY  NaN  LAA   L,4-8      CG   \n",
      "9      2013  10  2534         121      16-Aug  NYY    @  BOS  W,10-3      CG   \n",
      "10     2013  11  2535         122      17-Aug  NYY    @  BOS   L,1-6      CG   \n",
      "11     2013  12  2536         123      18-Aug  NYY    @  BOS   W,9-6      CG   \n",
      "12     2013  13  2537         124  Aug 20 (1)  NYY  NaN  TOR   W,8-4      CG   \n",
      "13     2013  14  2538         125  Aug 20 (2)  NYY  NaN  TOR   W,3-2      CG   \n",
      "14     2013  15  2539    127Â (1)      22-Aug  NYY  NaN  TOR   W,5-3      CG   \n",
      "15     2013  16  2540         128      23-Aug  NYY    @  TBR   L,2-7      CG   \n",
      "16     2013  17  2541         129      24-Aug  NYY    @  TBR   L,2-4      CG   \n",
      "17     2013  18  2542         130      25-Aug  NYY    @  TBR   W,3-2  10-Oct   \n",
      "18     2013  19  2543         131      26-Aug  NYY    @  TOR   L,2-5      CG   \n",
      "19     2013  20  2544         132      27-Aug  NYY    @  TOR   W,7-1      CG   \n",
      "20     2013  21  2545         133      28-Aug  NYY    @  TOR   L,2-7      CG   \n",
      "21     2013  22  2546         134      30-Aug  NYY  NaN  BAL   W,8-5      CG   \n",
      "22     2013  23  2547    136Â (1)       1-Sep  NYY  NaN  BAL   L,3-7      CG   \n",
      "23     2013  24  2548         137       2-Sep  NYY  NaN  CHW   W,9-1    GS-8   \n",
      "24     2013  25  2549         138       3-Sep  NYY  NaN  CHW   W,6-4      CG   \n",
      "25     2013  26  2550         139       4-Sep  NYY  NaN  CHW   W,6-5      CG   \n",
      "26     2013  27  2551         140       5-Sep  NYY  NaN  BOS   L,8-9  CG(10)   \n",
      "27     2013  28  2552         141       6-Sep  NYY  NaN  BOS  L,8-12      CG   \n",
      "28     2013  29  2553    143Â (1)       8-Sep  NYY  NaN  BOS   W,4-3      CG   \n",
      "29     2013  30  2554         144       9-Sep  NYY    @  BAL   L,2-4      CG   \n",
      "30     2013  31  2555         145      10-Sep  NYY    @  BAL   W,7-5    GS-8   \n",
      "31     2013  32  2556         146      11-Sep  NYY    @  BAL   W,5-4      CG   \n",
      "32     2013  33  2557         147      12-Sep  NYY    @  BAL   W,6-5    GS-9   \n",
      "33     2013  34  2558         148      13-Sep  NYY    @  BOS   L,4-8      CG   \n",
      "34     2013  35  2559         149      14-Sep  NYY    @  BOS   L,1-5      CG   \n",
      "35     2013  36  2560         150      15-Sep  NYY    @  BOS   L,2-9    GS-5   \n",
      "36     2013  37  2561         151      17-Sep  NYY    @  TOR   L,0-2      CG   \n",
      "37     2013  38  2562         152      18-Sep  NYY    @  TOR   W,4-3      CG   \n",
      "38     2013  39  2563         153      19-Sep  NYY    @  TOR   L,2-6      CG   \n",
      "39     2013  40  2564         154      20-Sep  NYY  NaN  SFG   W,5-1      CG   \n",
      "40     2013  41  2565         155      21-Sep  NYY  NaN  SFG   W,6-0      CG   \n",
      "41     2013  42  2566         156      22-Sep  NYY  NaN  SFG   L,1-2    GS-8   \n",
      "42     2013  43  2567         157      24-Sep  NYY  NaN  TBR   L,0-7      CG   \n",
      "43     2013  44  2568         158      25-Sep  NYY  NaN  TBR   L,3-8    GS-8   \n",
      "\n",
      "    ...     29     30     31  32    33     34    35      36    37  38  \n",
      "0   ...  0.250  0.250  0.500   4  0.30  0.025  0.16  0.0001 -0.38  3B  \n",
      "1   ...  0.500  0.333  0.833   3  1.35  0.049  0.65  0.0001  0.38  DH  \n",
      "2   ...  0.429  0.273  0.701   3  1.28 -0.123  0.49 -0.0003 -0.12  3B  \n",
      "3   ...  0.333  0.200  0.533   5  0.69 -0.088  0.21 -0.0002 -1.71  3B  \n",
      "4   ...  0.364  0.421  0.785   4  0.64  0.195  0.19  0.0004  1.58  3B  \n",
      "5   ...  0.360  0.409  0.769   4  1.38 -0.151  0.47 -0.0003 -1.69  3B  \n",
      "6   ...  0.333  0.407  0.741   4  0.72 -0.017  0.30  0.0000  0.93  DH  \n",
      "7   ...  0.343  0.419  0.762   4  0.28  0.036  0.15  0.0001  0.03  3B  \n",
      "8   ...  0.350  0.417  0.767   4  1.29  0.022  0.80  0.0001  0.04  3B  \n",
      "9   ...  0.378  0.425  0.803   5  0.40 -0.060  0.23 -0.0002  0.12  3B  \n",
      "10  ...  0.367  0.395  0.763   5  0.75 -0.010  0.58 -0.0001 -0.05  3B  \n",
      "11  ...  0.407  0.489  0.897   5  1.17  0.197  0.70  0.0007  2.24  3B  \n",
      "12  ...  0.414  0.480  0.894   5  0.77  0.036  0.42  0.0001  0.28  3B  \n",
      "13  ...  0.387  0.444  0.832   5  1.61 -0.240  1.04 -0.0009 -1.45  DH  \n",
      "14  ...  0.379  0.421  0.800   5  0.92 -0.019  0.77 -0.0001  0.21  3B  \n",
      "15  ...  0.357  0.393  0.751   5  0.33 -0.036  0.43 -0.0003 -0.69  3B  \n",
      "16  ...  0.351  0.385  0.736   5  0.83 -0.005  0.91  0.0000 -0.10  3B  \n",
      "17  ...  0.360  0.394  0.754   9  2.28  0.082  1.78  0.0004  0.38  PH  \n",
      "18  ...  0.354  0.429  0.783   6  0.96  0.056  0.80  0.0003 -0.06  3B  \n",
      "19  ...  0.369  0.473  0.842   5  0.16 -0.005  0.11  0.0000  1.05  3B  \n",
      "20  ...  0.364  0.462  0.825   5  0.44  0.017  0.37  0.0001  0.73  3B  \n",
      "21  ...  0.359  0.451  0.810   5  0.65 -0.019  0.48 -0.0001 -0.43  3B  \n",
      "22  ...  0.354  0.435  0.789   5  0.74 -0.010  0.80 -0.0001 -0.21  3B  \n",
      "23  ...  0.360  0.443  0.803   5  0.50  0.026  0.38  0.0001  0.33  3B  \n",
      "24  ...  0.365  0.440  0.805   5  1.49  0.149  1.41  0.0008  0.33  3B  \n",
      "25  ...  0.370  0.436  0.807   6  0.93  0.039  0.97  0.0003  0.16  3B  \n",
      "26  ...  0.372  0.455  0.826   6  1.82 -0.128  2.21 -0.0009 -0.01  3B  \n",
      "27  ...  0.368  0.441  0.809   5  0.47 -0.045  0.47 -0.0003 -0.61  3B  \n",
      "28  ...  0.380  0.448  0.828   5  1.22  0.052  0.71  0.0002  0.47  3B  \n",
      "29  ...  0.384  0.477  0.861   2  1.08  0.123  0.95  0.0007  0.93  3B  \n",
      "30  ...  0.388  0.496  0.883   2  1.29  0.209  0.86  0.0008  1.04  3B  \n",
      "31  ...  0.383  0.513  0.896   2  1.21  0.074  1.24  0.0005  0.36  DH  \n",
      "32  ...  0.391  0.504  0.896   2  0.58  0.018  0.87  0.0002  0.62  DH  \n",
      "33  ...  0.387  0.492  0.879   2  1.12 -0.002  1.57  0.0000 -0.23  DH  \n",
      "34  ...  0.384  0.480  0.864   4  0.56 -0.033  0.66 -0.0002 -0.63  DH  \n",
      "35  ...  0.385  0.480  0.865   2  1.18  0.030  1.07  0.0002  0.23  DH  \n",
      "36  ...  0.375  0.466  0.841   2  1.22 -0.121  0.94 -0.0006 -0.99  DH  \n",
      "37  ...  0.369  0.452  0.821   2  1.27 -0.124  0.55 -0.0003 -1.20  DH  \n",
      "38  ...  0.366  0.442  0.808   2  0.70 -0.064  0.47 -0.0003 -0.29  DH  \n",
      "39  ...  0.364  0.458  0.821   2  1.98  0.285  0.71  0.0006  2.76  DH  \n",
      "40  ...  0.355  0.445  0.800   2  0.53 -0.006  0.26  0.0000 -0.57  DH  \n",
      "41  ...  0.353  0.440  0.793   2  1.22  0.038  0.59  0.0001 -0.16  DH  \n",
      "42  ...  0.354  0.431  0.785   2  0.89  0.026  0.08  0.0000 -0.37  DH  \n",
      "43  ...  0.348  0.423  0.771   2  1.13 -0.095  0.00  0.0000 -0.82  DH  \n",
      "\n",
      "[44 rows x 39 columns]\n",
      "          0    1     2    3          4    5    6    7      8       9   ...  \\\n",
      "0    ï»¿2015    1  2569    1      6-Apr  NYY  NaN  TOR  L,1-6      CG  ...   \n",
      "1       2015    2  2570    2      8-Apr  NYY  NaN  TOR  W,4-3      CG  ...   \n",
      "2       2015    3  2571    3      9-Apr  NYY  NaN  TOR  L,3-6      CG  ...   \n",
      "3       2015    4  2572    4     10-Apr  NYY  NaN  BOS  L,5-6   GS-11  ...   \n",
      "4       2015    5  2573    5     11-Apr  NYY  NaN  BOS  L,4-8      CG  ...   \n",
      "..       ...  ...   ...  ...        ...  ...  ...  ...    ...     ...  ...   \n",
      "146     2015  147  2715  158     30-Sep  NYY  NaN  BOS  L,5-9  CG(11)  ...   \n",
      "147     2015  148  2716  159      1-Oct  NYY  NaN  BOS  W,4-1    GS-8  ...   \n",
      "148     2015  149  2717  160  Oct 3 (1)  NYY    @  BAL  L,2-9      CG  ...   \n",
      "149     2015  150  2718  161  Oct 3 (2)  NYY    @  BAL  L,3-4   9-Sep  ...   \n",
      "150     2015  151  2719  162      4-Oct  NYY    @  BAL  L,4-9      CG  ...   \n",
      "\n",
      "        29     30     31  32    33     34    35      36    37  38  \n",
      "0    0.667  0.500  1.167   7  0.44  0.042  0.45  0.0003  0.61  DH  \n",
      "1    0.286  0.167  0.452   7  1.65 -0.150  1.64 -0.0009 -1.59  DH  \n",
      "2    0.364  0.556  0.919   2  1.06  0.022  1.08  0.0001  0.87  DH  \n",
      "3    0.375  0.571  0.946   3  1.50  0.114  1.48  0.0007  0.58  DH  \n",
      "4    0.350  0.500  0.850   4  1.10  0.038  1.03  0.0002  0.18  1B  \n",
      "..     ...    ...    ...  ..   ...    ...   ...     ...   ...  ..  \n",
      "146  0.356  0.492  0.849   3  1.32  0.231  0.15  0.0002  1.60  DH  \n",
      "147  0.357  0.491  0.849   3  0.44 -0.010  0.09  0.0000  0.31  DH  \n",
      "148  0.355  0.487  0.843   3  0.65 -0.066  0.03  0.0000 -0.93  DH  \n",
      "149  0.356  0.488  0.845   8  2.11  0.082  0.19  0.0000  0.26  PH  \n",
      "150  0.356  0.486  0.842   3  0.43 -0.003  0.12  0.0000 -0.11  DH  \n",
      "\n",
      "[151 rows x 39 columns]\n",
      "         0   1     2         3          4    5    6    7       8      9   ...  \\\n",
      "0   ï»¿2016   1  2720         1   4/5/2021  NYY  NaN  HOU   L,3-5     CG  ...   \n",
      "1      2016   2  2721         2   4/6/2021  NYY  NaN  HOU  W,16-6   GS-8  ...   \n",
      "2      2016   3  2722         3   4/7/2021  NYY  NaN  HOU   W,8-5     CG  ...   \n",
      "3      2016   4  2723    5Â (1)   4/9/2021  NYY    @  DET   W,8-4     CG  ...   \n",
      "4      2016   5  2724         6  4/12/2021  NYY    @  TOR   W,3-2     CG  ...   \n",
      "..      ...  ..   ...       ...        ...  ...  ...  ...     ...    ...  ...   \n",
      "60     2016  61  2780       104  7/31/2021  NYY    @  TBR   L,3-5   9-GF  ...   \n",
      "61     2016  62  2781  106Â (1)   8/2/2021  NYY    @  NYM   L,1-7   9-GF  ...   \n",
      "62     2016  63  2782  113Â (6)  8/10/2021  NYY    @  BOS   W,9-4  7-Jul  ...   \n",
      "63     2016  64  2783       114  8/11/2021  NYY    @  BOS   W,4-2     CG  ...   \n",
      "64     2016  65  2784       115  8/12/2021  NYY  NaN  TBR   W,6-3   GS-9  ...   \n",
      "\n",
      "       29     30     31  32    33     34    35      36    37     38  \n",
      "0   0.250  0.000  0.250   3  0.81 -0.085  0.76 -0.0005 -0.68     DH  \n",
      "1   0.333  0.000  0.333   3  0.70  0.038  0.61  0.0002 -1.06     DH  \n",
      "2   0.385  0.200  0.585   3  1.48  0.086  1.36  0.0005  0.50     DH  \n",
      "3   0.389  0.429  0.817   3  0.24  0.084  0.24  0.0005  0.29     DH  \n",
      "4   0.318  0.333  0.652   3  1.32 -0.143  1.38 -0.0009 -1.29     DH  \n",
      "..    ...    ...    ...  ..   ...    ...   ...     ...   ...    ...  \n",
      "60  0.253  0.358  0.611   9  0.92 -0.023  0.69 -0.0001 -0.15     PH  \n",
      "61  0.252  0.356  0.609   8  0.00  0.000  0.00  0.0000 -0.10     PH  \n",
      "62  0.251  0.355  0.606   9  3.25 -0.057  2.10 -0.0002 -0.33     PH  \n",
      "63  0.247  0.348  0.595   4  1.40 -0.052  1.12 -0.0003 -0.61     DH  \n",
      "64  0.247  0.351  0.598   3  0.78  0.066  0.59  0.0003  0.69  3B DH  \n",
      "\n",
      "[65 rows x 39 columns]\n"
     ]
    }
   ],
   "source": [
    "def concatenate(indir = 'C:\\\\Users\\\\wally\\\\OneDrive\\\\Documents\\\\GitHub\\\\project2950\\\\arod_stats', outfile = 'C:\\\\Users\\\\wally\\\\OneDrive\\\\Documents\\\\GitHub\\\\project2950\\\\arod_concatenated.csv'):\n",
    "    os.chdir(indir)\n",
    "    fileList = glob.glob('*.csv')\n",
    "    dfList = []\n",
    "    colnames = ['Year', 'Rk', 'Gcar', 'Gtm', 'Date', 'Tm', 'Column1', 'Opp', 'Rslt', 'Inngs', 'PA', 'AB', 'R', 'H', '2B', '3B', 'HR', 'RBI', 'BB', 'IBB', 'SO', 'HBP', 'SH', 'SF', 'ROE',\n",
    "                'GDP', 'SB', 'CS', 'BA', 'OBP', 'SLG', 'OPS', 'BOP', 'aLI', 'WPA', 'acLI', 'cWPA', 'RE24', 'Pos']\n",
    "    for filename in fileList:\n",
    "        df = pd.read_csv(filename,header=None, encoding='ISO-8859-1')\n",
    "        print(df)\n",
    "        dfList.append(df)\n",
    "    concatDf = pd.concat(dfList,axis=0)\n",
    "    concatDf.columns = colnames\n",
    "    concatDf.to_csv(outfile,index=None)\n",
    "\n",
    "concatenate()\n"
   ]
  },
  {
   "cell_type": "code",
   "execution_count": 80,
   "metadata": {},
   "outputs": [
    {
     "ename": "FileNotFoundError",
     "evalue": "[Errno 2] File arod_concatenated does not exist: 'arod_concatenated'",
     "output_type": "error",
     "traceback": [
      "\u001b[1;31m---------------------------------------------------------------------------\u001b[0m",
      "\u001b[1;31mFileNotFoundError\u001b[0m                         Traceback (most recent call last)",
      "\u001b[1;32m<ipython-input-80-e3ab57cb7027>\u001b[0m in \u001b[0;36m<module>\u001b[1;34m\u001b[0m\n\u001b[1;32m----> 1\u001b[1;33m \u001b[0marod\u001b[0m \u001b[1;33m=\u001b[0m \u001b[0mpd\u001b[0m\u001b[1;33m.\u001b[0m\u001b[0mread_csv\u001b[0m\u001b[1;33m(\u001b[0m\u001b[1;34m'arod_concatenated'\u001b[0m\u001b[1;33m)\u001b[0m\u001b[1;33m\u001b[0m\u001b[1;33m\u001b[0m\u001b[0m\n\u001b[0m",
      "\u001b[1;32mC:\\ProgramData\\Anaconda3\\lib\\site-packages\\pandas\\io\\parsers.py\u001b[0m in \u001b[0;36mparser_f\u001b[1;34m(filepath_or_buffer, sep, delimiter, header, names, index_col, usecols, squeeze, prefix, mangle_dupe_cols, dtype, engine, converters, true_values, false_values, skipinitialspace, skiprows, skipfooter, nrows, na_values, keep_default_na, na_filter, verbose, skip_blank_lines, parse_dates, infer_datetime_format, keep_date_col, date_parser, dayfirst, cache_dates, iterator, chunksize, compression, thousands, decimal, lineterminator, quotechar, quoting, doublequote, escapechar, comment, encoding, dialect, error_bad_lines, warn_bad_lines, delim_whitespace, low_memory, memory_map, float_precision)\u001b[0m\n\u001b[0;32m    674\u001b[0m         )\n\u001b[0;32m    675\u001b[0m \u001b[1;33m\u001b[0m\u001b[0m\n\u001b[1;32m--> 676\u001b[1;33m         \u001b[1;32mreturn\u001b[0m \u001b[0m_read\u001b[0m\u001b[1;33m(\u001b[0m\u001b[0mfilepath_or_buffer\u001b[0m\u001b[1;33m,\u001b[0m \u001b[0mkwds\u001b[0m\u001b[1;33m)\u001b[0m\u001b[1;33m\u001b[0m\u001b[1;33m\u001b[0m\u001b[0m\n\u001b[0m\u001b[0;32m    677\u001b[0m \u001b[1;33m\u001b[0m\u001b[0m\n\u001b[0;32m    678\u001b[0m     \u001b[0mparser_f\u001b[0m\u001b[1;33m.\u001b[0m\u001b[0m__name__\u001b[0m \u001b[1;33m=\u001b[0m \u001b[0mname\u001b[0m\u001b[1;33m\u001b[0m\u001b[1;33m\u001b[0m\u001b[0m\n",
      "\u001b[1;32mC:\\ProgramData\\Anaconda3\\lib\\site-packages\\pandas\\io\\parsers.py\u001b[0m in \u001b[0;36m_read\u001b[1;34m(filepath_or_buffer, kwds)\u001b[0m\n\u001b[0;32m    446\u001b[0m \u001b[1;33m\u001b[0m\u001b[0m\n\u001b[0;32m    447\u001b[0m     \u001b[1;31m# Create the parser.\u001b[0m\u001b[1;33m\u001b[0m\u001b[1;33m\u001b[0m\u001b[1;33m\u001b[0m\u001b[0m\n\u001b[1;32m--> 448\u001b[1;33m     \u001b[0mparser\u001b[0m \u001b[1;33m=\u001b[0m \u001b[0mTextFileReader\u001b[0m\u001b[1;33m(\u001b[0m\u001b[0mfp_or_buf\u001b[0m\u001b[1;33m,\u001b[0m \u001b[1;33m**\u001b[0m\u001b[0mkwds\u001b[0m\u001b[1;33m)\u001b[0m\u001b[1;33m\u001b[0m\u001b[1;33m\u001b[0m\u001b[0m\n\u001b[0m\u001b[0;32m    449\u001b[0m \u001b[1;33m\u001b[0m\u001b[0m\n\u001b[0;32m    450\u001b[0m     \u001b[1;32mif\u001b[0m \u001b[0mchunksize\u001b[0m \u001b[1;32mor\u001b[0m \u001b[0miterator\u001b[0m\u001b[1;33m:\u001b[0m\u001b[1;33m\u001b[0m\u001b[1;33m\u001b[0m\u001b[0m\n",
      "\u001b[1;32mC:\\ProgramData\\Anaconda3\\lib\\site-packages\\pandas\\io\\parsers.py\u001b[0m in \u001b[0;36m__init__\u001b[1;34m(self, f, engine, **kwds)\u001b[0m\n\u001b[0;32m    878\u001b[0m             \u001b[0mself\u001b[0m\u001b[1;33m.\u001b[0m\u001b[0moptions\u001b[0m\u001b[1;33m[\u001b[0m\u001b[1;34m\"has_index_names\"\u001b[0m\u001b[1;33m]\u001b[0m \u001b[1;33m=\u001b[0m \u001b[0mkwds\u001b[0m\u001b[1;33m[\u001b[0m\u001b[1;34m\"has_index_names\"\u001b[0m\u001b[1;33m]\u001b[0m\u001b[1;33m\u001b[0m\u001b[1;33m\u001b[0m\u001b[0m\n\u001b[0;32m    879\u001b[0m \u001b[1;33m\u001b[0m\u001b[0m\n\u001b[1;32m--> 880\u001b[1;33m         \u001b[0mself\u001b[0m\u001b[1;33m.\u001b[0m\u001b[0m_make_engine\u001b[0m\u001b[1;33m(\u001b[0m\u001b[0mself\u001b[0m\u001b[1;33m.\u001b[0m\u001b[0mengine\u001b[0m\u001b[1;33m)\u001b[0m\u001b[1;33m\u001b[0m\u001b[1;33m\u001b[0m\u001b[0m\n\u001b[0m\u001b[0;32m    881\u001b[0m \u001b[1;33m\u001b[0m\u001b[0m\n\u001b[0;32m    882\u001b[0m     \u001b[1;32mdef\u001b[0m \u001b[0mclose\u001b[0m\u001b[1;33m(\u001b[0m\u001b[0mself\u001b[0m\u001b[1;33m)\u001b[0m\u001b[1;33m:\u001b[0m\u001b[1;33m\u001b[0m\u001b[1;33m\u001b[0m\u001b[0m\n",
      "\u001b[1;32mC:\\ProgramData\\Anaconda3\\lib\\site-packages\\pandas\\io\\parsers.py\u001b[0m in \u001b[0;36m_make_engine\u001b[1;34m(self, engine)\u001b[0m\n\u001b[0;32m   1112\u001b[0m     \u001b[1;32mdef\u001b[0m \u001b[0m_make_engine\u001b[0m\u001b[1;33m(\u001b[0m\u001b[0mself\u001b[0m\u001b[1;33m,\u001b[0m \u001b[0mengine\u001b[0m\u001b[1;33m=\u001b[0m\u001b[1;34m\"c\"\u001b[0m\u001b[1;33m)\u001b[0m\u001b[1;33m:\u001b[0m\u001b[1;33m\u001b[0m\u001b[1;33m\u001b[0m\u001b[0m\n\u001b[0;32m   1113\u001b[0m         \u001b[1;32mif\u001b[0m \u001b[0mengine\u001b[0m \u001b[1;33m==\u001b[0m \u001b[1;34m\"c\"\u001b[0m\u001b[1;33m:\u001b[0m\u001b[1;33m\u001b[0m\u001b[1;33m\u001b[0m\u001b[0m\n\u001b[1;32m-> 1114\u001b[1;33m             \u001b[0mself\u001b[0m\u001b[1;33m.\u001b[0m\u001b[0m_engine\u001b[0m \u001b[1;33m=\u001b[0m \u001b[0mCParserWrapper\u001b[0m\u001b[1;33m(\u001b[0m\u001b[0mself\u001b[0m\u001b[1;33m.\u001b[0m\u001b[0mf\u001b[0m\u001b[1;33m,\u001b[0m \u001b[1;33m**\u001b[0m\u001b[0mself\u001b[0m\u001b[1;33m.\u001b[0m\u001b[0moptions\u001b[0m\u001b[1;33m)\u001b[0m\u001b[1;33m\u001b[0m\u001b[1;33m\u001b[0m\u001b[0m\n\u001b[0m\u001b[0;32m   1115\u001b[0m         \u001b[1;32melse\u001b[0m\u001b[1;33m:\u001b[0m\u001b[1;33m\u001b[0m\u001b[1;33m\u001b[0m\u001b[0m\n\u001b[0;32m   1116\u001b[0m             \u001b[1;32mif\u001b[0m \u001b[0mengine\u001b[0m \u001b[1;33m==\u001b[0m \u001b[1;34m\"python\"\u001b[0m\u001b[1;33m:\u001b[0m\u001b[1;33m\u001b[0m\u001b[1;33m\u001b[0m\u001b[0m\n",
      "\u001b[1;32mC:\\ProgramData\\Anaconda3\\lib\\site-packages\\pandas\\io\\parsers.py\u001b[0m in \u001b[0;36m__init__\u001b[1;34m(self, src, **kwds)\u001b[0m\n\u001b[0;32m   1889\u001b[0m         \u001b[0mkwds\u001b[0m\u001b[1;33m[\u001b[0m\u001b[1;34m\"usecols\"\u001b[0m\u001b[1;33m]\u001b[0m \u001b[1;33m=\u001b[0m \u001b[0mself\u001b[0m\u001b[1;33m.\u001b[0m\u001b[0musecols\u001b[0m\u001b[1;33m\u001b[0m\u001b[1;33m\u001b[0m\u001b[0m\n\u001b[0;32m   1890\u001b[0m \u001b[1;33m\u001b[0m\u001b[0m\n\u001b[1;32m-> 1891\u001b[1;33m         \u001b[0mself\u001b[0m\u001b[1;33m.\u001b[0m\u001b[0m_reader\u001b[0m \u001b[1;33m=\u001b[0m \u001b[0mparsers\u001b[0m\u001b[1;33m.\u001b[0m\u001b[0mTextReader\u001b[0m\u001b[1;33m(\u001b[0m\u001b[0msrc\u001b[0m\u001b[1;33m,\u001b[0m \u001b[1;33m**\u001b[0m\u001b[0mkwds\u001b[0m\u001b[1;33m)\u001b[0m\u001b[1;33m\u001b[0m\u001b[1;33m\u001b[0m\u001b[0m\n\u001b[0m\u001b[0;32m   1892\u001b[0m         \u001b[0mself\u001b[0m\u001b[1;33m.\u001b[0m\u001b[0munnamed_cols\u001b[0m \u001b[1;33m=\u001b[0m \u001b[0mself\u001b[0m\u001b[1;33m.\u001b[0m\u001b[0m_reader\u001b[0m\u001b[1;33m.\u001b[0m\u001b[0munnamed_cols\u001b[0m\u001b[1;33m\u001b[0m\u001b[1;33m\u001b[0m\u001b[0m\n\u001b[0;32m   1893\u001b[0m \u001b[1;33m\u001b[0m\u001b[0m\n",
      "\u001b[1;32mpandas\\_libs\\parsers.pyx\u001b[0m in \u001b[0;36mpandas._libs.parsers.TextReader.__cinit__\u001b[1;34m()\u001b[0m\n",
      "\u001b[1;32mpandas\\_libs\\parsers.pyx\u001b[0m in \u001b[0;36mpandas._libs.parsers.TextReader._setup_parser_source\u001b[1;34m()\u001b[0m\n",
      "\u001b[1;31mFileNotFoundError\u001b[0m: [Errno 2] File arod_concatenated does not exist: 'arod_concatenated'"
     ]
    }
   ],
   "source": [
    "arod = pd.read_csv('arod_concatenated')"
   ]
  },
  {
   "cell_type": "markdown",
   "metadata": {},
   "source": [
    "# Data Limitations"
   ]
  },
  {
   "cell_type": "markdown",
   "metadata": {},
   "source": [
    "Baseball statistics are inherently limited in the scope of what they measure. Thus, our dataset can only provide limited conclusions as well. This dataset could include many other statistics if it were to be complete and provide the best, most accurate conclusions, but due to the difficulty of processing so many variables and the time constraints of this project, we chose only the most important ones. There is the possibility that there is human error in recording the information, and it is possible that the older statistics from 1995 are not as precise as the ones gathered more recently, given new technology in sports statistic reporting and recording. \n"
   ]
  },
  {
   "cell_type": "code",
   "execution_count": 50,
   "metadata": {},
   "outputs": [],
   "source": [
    "import numpy as np\n",
    "import matplotlib.pyplot as plt\n",
    "import pandas as pd\n",
    "import seaborn as sns\n",
    "from scipy import stats\n",
    "from   sklearn.linear_model import LinearRegression, LogisticRegression\n",
    "from   sklearn.model_selection import train_test_split\n",
    "import statsmodels.formula.api as smf"
   ]
  },
  {
   "cell_type": "code",
   "execution_count": 51,
   "metadata": {},
   "outputs": [
    {
     "data": {
      "text/html": [
       "<div>\n",
       "<style scoped>\n",
       "    .dataframe tbody tr th:only-of-type {\n",
       "        vertical-align: middle;\n",
       "    }\n",
       "\n",
       "    .dataframe tbody tr th {\n",
       "        vertical-align: top;\n",
       "    }\n",
       "\n",
       "    .dataframe thead th {\n",
       "        text-align: right;\n",
       "    }\n",
       "</style>\n",
       "<table border=\"1\" class=\"dataframe\">\n",
       "  <thead>\n",
       "    <tr style=\"text-align: right;\">\n",
       "      <th></th>\n",
       "      <th>Year</th>\n",
       "      <th>Rslt</th>\n",
       "      <th>H</th>\n",
       "      <th>HR</th>\n",
       "      <th>SB</th>\n",
       "      <th>BB</th>\n",
       "      <th>WPA</th>\n",
       "      <th>win</th>\n",
       "    </tr>\n",
       "  </thead>\n",
       "  <tbody>\n",
       "    <tr>\n",
       "      <th>0</th>\n",
       "      <td>2014</td>\n",
       "      <td>L,2-6</td>\n",
       "      <td>1</td>\n",
       "      <td>0</td>\n",
       "      <td>0</td>\n",
       "      <td>0</td>\n",
       "      <td>0.026</td>\n",
       "      <td>0</td>\n",
       "    </tr>\n",
       "    <tr>\n",
       "      <th>1</th>\n",
       "      <td>2014</td>\n",
       "      <td>L,1-3</td>\n",
       "      <td>0</td>\n",
       "      <td>0</td>\n",
       "      <td>0</td>\n",
       "      <td>1</td>\n",
       "      <td>-0.051</td>\n",
       "      <td>0</td>\n",
       "    </tr>\n",
       "    <tr>\n",
       "      <th>2</th>\n",
       "      <td>2014</td>\n",
       "      <td>W,4-2</td>\n",
       "      <td>1</td>\n",
       "      <td>0</td>\n",
       "      <td>0</td>\n",
       "      <td>1</td>\n",
       "      <td>0.089</td>\n",
       "      <td>1</td>\n",
       "    </tr>\n",
       "    <tr>\n",
       "      <th>3</th>\n",
       "      <td>2014</td>\n",
       "      <td>L,0-4</td>\n",
       "      <td>0</td>\n",
       "      <td>0</td>\n",
       "      <td>0</td>\n",
       "      <td>2</td>\n",
       "      <td>0.180</td>\n",
       "      <td>0</td>\n",
       "    </tr>\n",
       "    <tr>\n",
       "      <th>4</th>\n",
       "      <td>2014</td>\n",
       "      <td>W,6-4</td>\n",
       "      <td>2</td>\n",
       "      <td>0</td>\n",
       "      <td>0</td>\n",
       "      <td>0</td>\n",
       "      <td>0.007</td>\n",
       "      <td>1</td>\n",
       "    </tr>\n",
       "  </tbody>\n",
       "</table>\n",
       "</div>"
      ],
      "text/plain": [
       "   Year   Rslt  H  HR  SB  BB    WPA  win\n",
       "0  2014  L,2-6  1   0   0   0  0.026    0\n",
       "1  2014  L,1-3  0   0   0   1 -0.051    0\n",
       "2  2014  W,4-2  1   0   0   1  0.089    1\n",
       "3  2014  L,0-4  0   0   0   2  0.180    0\n",
       "4  2014  W,6-4  2   0   0   0  0.007    1"
      ]
     },
     "execution_count": 51,
     "metadata": {},
     "output_type": "execute_result"
    }
   ],
   "source": [
    "jeter = pd.read_csv(\"JeterStats.csv\")\n",
    "jeter['win'] = jeter.Rslt.apply(lambda x: 1 if 'W' in x else 0)\n",
    "jeter_win_subset = jeter[jeter['win']==1]\n",
    "jeter_loss_subset = jeter[jeter['win']==0]\n",
    "jeter.head()"
   ]
  },
  {
   "cell_type": "markdown",
   "metadata": {},
   "source": [
    "The above code adds a 'win' column to the Jeter dataframe, with the value 1 representing a win, and a 0 representing a loss based on the Rslt column in the jeter dataframe."
   ]
  },
  {
   "cell_type": "code",
   "execution_count": 52,
   "metadata": {},
   "outputs": [
    {
     "name": "stdout",
     "output_type": "stream",
     "text": [
      "Mean WPA: 0.011262\n"
     ]
    }
   ],
   "source": [
    "contribute = jeter.WPA.mean()\n",
    "print('Mean WPA: {:.6f}'.format(contribute))"
   ]
  },
  {
   "cell_type": "markdown",
   "metadata": {},
   "source": [
    "Win probability added is a sport statistic which attempts to measure a player's contribution to a win by figuring the factor by which each specific play made by that player has altered the outcome of a game. So we know Jeter made a contribution to the wins over the 20 seasons he played. Looking at the mean WPA of 0.011262, the positive value shows that on average he contributed to a win. This value is extremely low and close to zero, but it also is taking all 20 years and 2,747 games into account. So for that length of time having any positive value is impressive. This number has some limitations as a win or loss is not soley based on Jeter's performance. But as we continue to analyze his statistics we can further prove he made a positive contribution to the New York Yankees over his 20 seasons."
   ]
  },
  {
   "cell_type": "code",
   "execution_count": 53,
   "metadata": {},
   "outputs": [
    {
     "name": "stdout",
     "output_type": "stream",
     "text": [
      "Correlation between walks and wins:  0.0581\n"
     ]
    }
   ],
   "source": [
    "walks = np.array(jeter.loc[:,\"BB\"])\n",
    "wins = np.array(jeter.loc[:,\"win\"])\n",
    "correlation_bb_wins = np.corrcoef(walks,wins)\n",
    "print(\"Correlation between walks and wins: \", round(correlation_bb_wins[0][1],4))"
   ]
  },
  {
   "cell_type": "markdown",
   "metadata": {},
   "source": [
    "There is a slight positive correlation between the number of walks Derek Jeter had and the number of wins the Yankees had. This makes sense, as getting to first base is a first step towards scoring, and ultimately towards winning a game."
   ]
  },
  {
   "cell_type": "code",
   "execution_count": 54,
   "metadata": {},
   "outputs": [
    {
     "name": "stdout",
     "output_type": "stream",
     "text": [
      "Correlation between stolen bases and wins:  0.0628\n"
     ]
    }
   ],
   "source": [
    "sb = np.array(jeter.loc[:,\"SB\"])\n",
    "wins = np.array(jeter.loc[:,\"win\"])\n",
    "correlation_sb_wins = np.corrcoef(sb,wins)\n",
    "print('Correlation between stolen bases and wins: ', round(correlation_sb_wins[0][1],4))"
   ]
  },
  {
   "cell_type": "markdown",
   "metadata": {},
   "source": [
    "Again there is a slight positive correlation between the number of stolen bases Derek Jeter had and the number of wins he had. Meaning if he stole a base, there is a slight positive probability that the Yankees won that game."
   ]
  },
  {
   "cell_type": "code",
   "execution_count": 55,
   "metadata": {},
   "outputs": [
    {
     "name": "stdout",
     "output_type": "stream",
     "text": [
      "Estimated Slope:  0.06588256983451489\n"
     ]
    }
   ],
   "source": [
    "real_slope = correlation_sb_wins[0][1]\n",
    "real_x = np.array(jeter.loc[:,'SB'])\n",
    "noise = np.random.normal(0,0.5, size=len(jeter.loc[:,\"SB\"]))\n",
    "real_y = real_x * real_slope  +  noise\n",
    "df = pd.DataFrame({\"SB\": real_x, \"win\": real_y})\n",
    "model = LinearRegression().fit(df[[\"SB\"]], df[\"win\"])\n",
    "print(\"Estimated Slope: \", model.coef_[0])"
   ]
  },
  {
   "cell_type": "markdown",
   "metadata": {},
   "source": [
    "The real slope is the correlation coefficient between stolen bases and wins. The observed slope is slightly greater than the real slope because of the added noise and unpredictability of said noise."
   ]
  },
  {
   "cell_type": "code",
   "execution_count": 56,
   "metadata": {},
   "outputs": [
    {
     "ename": "KeyError",
     "evalue": "'SB[0],Sb[1],SB[2]'",
     "output_type": "error",
     "traceback": [
      "\u001b[1;31m---------------------------------------------------------------------------\u001b[0m",
      "\u001b[1;31mKeyError\u001b[0m                                  Traceback (most recent call last)",
      "\u001b[1;32mC:\\ProgramData\\Anaconda3\\lib\\site-packages\\pandas\\core\\indexes\\base.py\u001b[0m in \u001b[0;36mget_loc\u001b[1;34m(self, key, method, tolerance)\u001b[0m\n\u001b[0;32m   2645\u001b[0m             \u001b[1;32mtry\u001b[0m\u001b[1;33m:\u001b[0m\u001b[1;33m\u001b[0m\u001b[1;33m\u001b[0m\u001b[0m\n\u001b[1;32m-> 2646\u001b[1;33m                 \u001b[1;32mreturn\u001b[0m \u001b[0mself\u001b[0m\u001b[1;33m.\u001b[0m\u001b[0m_engine\u001b[0m\u001b[1;33m.\u001b[0m\u001b[0mget_loc\u001b[0m\u001b[1;33m(\u001b[0m\u001b[0mkey\u001b[0m\u001b[1;33m)\u001b[0m\u001b[1;33m\u001b[0m\u001b[1;33m\u001b[0m\u001b[0m\n\u001b[0m\u001b[0;32m   2647\u001b[0m             \u001b[1;32mexcept\u001b[0m \u001b[0mKeyError\u001b[0m\u001b[1;33m:\u001b[0m\u001b[1;33m\u001b[0m\u001b[1;33m\u001b[0m\u001b[0m\n",
      "\u001b[1;32mpandas\\_libs\\index.pyx\u001b[0m in \u001b[0;36mpandas._libs.index.IndexEngine.get_loc\u001b[1;34m()\u001b[0m\n",
      "\u001b[1;32mpandas\\_libs\\index.pyx\u001b[0m in \u001b[0;36mpandas._libs.index.IndexEngine.get_loc\u001b[1;34m()\u001b[0m\n",
      "\u001b[1;32mpandas\\_libs\\hashtable_class_helper.pxi\u001b[0m in \u001b[0;36mpandas._libs.hashtable.PyObjectHashTable.get_item\u001b[1;34m()\u001b[0m\n",
      "\u001b[1;32mpandas\\_libs\\hashtable_class_helper.pxi\u001b[0m in \u001b[0;36mpandas._libs.hashtable.PyObjectHashTable.get_item\u001b[1;34m()\u001b[0m\n",
      "\u001b[1;31mKeyError\u001b[0m: 'SB[0],Sb[1],SB[2]'",
      "\nDuring handling of the above exception, another exception occurred:\n",
      "\u001b[1;31mKeyError\u001b[0m                                  Traceback (most recent call last)",
      "\u001b[1;32m<ipython-input-56-78fd29407780>\u001b[0m in \u001b[0;36m<module>\u001b[1;34m\u001b[0m\n\u001b[1;32m----> 1\u001b[1;33m \u001b[0msns\u001b[0m\u001b[1;33m.\u001b[0m\u001b[0mregplot\u001b[0m\u001b[1;33m(\u001b[0m\u001b[0mx\u001b[0m\u001b[1;33m=\u001b[0m\u001b[1;33m(\u001b[0m\u001b[1;34m'SB[0],Sb[1],SB[2]'\u001b[0m\u001b[1;33m)\u001b[0m\u001b[1;33m,\u001b[0m \u001b[0my\u001b[0m\u001b[1;33m=\u001b[0m\u001b[1;34m'win'\u001b[0m\u001b[1;33m,\u001b[0m \u001b[0mdata\u001b[0m\u001b[1;33m=\u001b[0m\u001b[0mdf\u001b[0m\u001b[1;33m)\u001b[0m\u001b[1;33m;\u001b[0m\u001b[1;33m\u001b[0m\u001b[1;33m\u001b[0m\u001b[0m\n\u001b[0m\u001b[0;32m      2\u001b[0m \u001b[1;31m#maybe make a histogram to show distribution of stolen bases, and analyze what happens\u001b[0m\u001b[1;33m\u001b[0m\u001b[1;33m\u001b[0m\u001b[1;33m\u001b[0m\u001b[0m\n\u001b[0;32m      3\u001b[0m \u001b[1;31m#when there is x number of stolen bases.\u001b[0m\u001b[1;33m\u001b[0m\u001b[1;33m\u001b[0m\u001b[1;33m\u001b[0m\u001b[0m\n\u001b[0;32m      4\u001b[0m \u001b[1;31m#filter the x by times  he stole bases\u001b[0m\u001b[1;33m\u001b[0m\u001b[1;33m\u001b[0m\u001b[1;33m\u001b[0m\u001b[0m\n",
      "\u001b[1;32mC:\\ProgramData\\Anaconda3\\lib\\site-packages\\seaborn\\regression.py\u001b[0m in \u001b[0;36mregplot\u001b[1;34m(x, y, data, x_estimator, x_bins, x_ci, scatter, fit_reg, ci, n_boot, units, seed, order, logistic, lowess, robust, logx, x_partial, y_partial, truncate, dropna, x_jitter, y_jitter, label, color, marker, scatter_kws, line_kws, ax)\u001b[0m\n\u001b[0;32m    808\u001b[0m                                  \u001b[0morder\u001b[0m\u001b[1;33m,\u001b[0m \u001b[0mlogistic\u001b[0m\u001b[1;33m,\u001b[0m \u001b[0mlowess\u001b[0m\u001b[1;33m,\u001b[0m \u001b[0mrobust\u001b[0m\u001b[1;33m,\u001b[0m \u001b[0mlogx\u001b[0m\u001b[1;33m,\u001b[0m\u001b[1;33m\u001b[0m\u001b[1;33m\u001b[0m\u001b[0m\n\u001b[0;32m    809\u001b[0m                                  \u001b[0mx_partial\u001b[0m\u001b[1;33m,\u001b[0m \u001b[0my_partial\u001b[0m\u001b[1;33m,\u001b[0m \u001b[0mtruncate\u001b[0m\u001b[1;33m,\u001b[0m \u001b[0mdropna\u001b[0m\u001b[1;33m,\u001b[0m\u001b[1;33m\u001b[0m\u001b[1;33m\u001b[0m\u001b[0m\n\u001b[1;32m--> 810\u001b[1;33m                                  x_jitter, y_jitter, color, label)\n\u001b[0m\u001b[0;32m    811\u001b[0m \u001b[1;33m\u001b[0m\u001b[0m\n\u001b[0;32m    812\u001b[0m     \u001b[1;32mif\u001b[0m \u001b[0max\u001b[0m \u001b[1;32mis\u001b[0m \u001b[1;32mNone\u001b[0m\u001b[1;33m:\u001b[0m\u001b[1;33m\u001b[0m\u001b[1;33m\u001b[0m\u001b[0m\n",
      "\u001b[1;32mC:\\ProgramData\\Anaconda3\\lib\\site-packages\\seaborn\\regression.py\u001b[0m in \u001b[0;36m__init__\u001b[1;34m(self, x, y, data, x_estimator, x_bins, x_ci, scatter, fit_reg, ci, n_boot, units, seed, order, logistic, lowess, robust, logx, x_partial, y_partial, truncate, dropna, x_jitter, y_jitter, color, label)\u001b[0m\n\u001b[0;32m    108\u001b[0m         \u001b[1;31m# Extract the data vals from the arguments or passed dataframe\u001b[0m\u001b[1;33m\u001b[0m\u001b[1;33m\u001b[0m\u001b[1;33m\u001b[0m\u001b[0m\n\u001b[0;32m    109\u001b[0m         self.establish_variables(data, x=x, y=y, units=units,\n\u001b[1;32m--> 110\u001b[1;33m                                  x_partial=x_partial, y_partial=y_partial)\n\u001b[0m\u001b[0;32m    111\u001b[0m \u001b[1;33m\u001b[0m\u001b[0m\n\u001b[0;32m    112\u001b[0m         \u001b[1;31m# Drop null observations\u001b[0m\u001b[1;33m\u001b[0m\u001b[1;33m\u001b[0m\u001b[1;33m\u001b[0m\u001b[0m\n",
      "\u001b[1;32mC:\\ProgramData\\Anaconda3\\lib\\site-packages\\seaborn\\regression.py\u001b[0m in \u001b[0;36mestablish_variables\u001b[1;34m(self, data, **kws)\u001b[0m\n\u001b[0;32m     44\u001b[0m         \u001b[1;32mfor\u001b[0m \u001b[0mvar\u001b[0m\u001b[1;33m,\u001b[0m \u001b[0mval\u001b[0m \u001b[1;32min\u001b[0m \u001b[0mkws\u001b[0m\u001b[1;33m.\u001b[0m\u001b[0mitems\u001b[0m\u001b[1;33m(\u001b[0m\u001b[1;33m)\u001b[0m\u001b[1;33m:\u001b[0m\u001b[1;33m\u001b[0m\u001b[1;33m\u001b[0m\u001b[0m\n\u001b[0;32m     45\u001b[0m             \u001b[1;32mif\u001b[0m \u001b[0misinstance\u001b[0m\u001b[1;33m(\u001b[0m\u001b[0mval\u001b[0m\u001b[1;33m,\u001b[0m \u001b[0mstr\u001b[0m\u001b[1;33m)\u001b[0m\u001b[1;33m:\u001b[0m\u001b[1;33m\u001b[0m\u001b[1;33m\u001b[0m\u001b[0m\n\u001b[1;32m---> 46\u001b[1;33m                 \u001b[0mvector\u001b[0m \u001b[1;33m=\u001b[0m \u001b[0mdata\u001b[0m\u001b[1;33m[\u001b[0m\u001b[0mval\u001b[0m\u001b[1;33m]\u001b[0m\u001b[1;33m\u001b[0m\u001b[1;33m\u001b[0m\u001b[0m\n\u001b[0m\u001b[0;32m     47\u001b[0m             \u001b[1;32melif\u001b[0m \u001b[0misinstance\u001b[0m\u001b[1;33m(\u001b[0m\u001b[0mval\u001b[0m\u001b[1;33m,\u001b[0m \u001b[0mlist\u001b[0m\u001b[1;33m)\u001b[0m\u001b[1;33m:\u001b[0m\u001b[1;33m\u001b[0m\u001b[1;33m\u001b[0m\u001b[0m\n\u001b[0;32m     48\u001b[0m                 \u001b[0mvector\u001b[0m \u001b[1;33m=\u001b[0m \u001b[0mnp\u001b[0m\u001b[1;33m.\u001b[0m\u001b[0masarray\u001b[0m\u001b[1;33m(\u001b[0m\u001b[0mval\u001b[0m\u001b[1;33m)\u001b[0m\u001b[1;33m\u001b[0m\u001b[1;33m\u001b[0m\u001b[0m\n",
      "\u001b[1;32mC:\\ProgramData\\Anaconda3\\lib\\site-packages\\pandas\\core\\frame.py\u001b[0m in \u001b[0;36m__getitem__\u001b[1;34m(self, key)\u001b[0m\n\u001b[0;32m   2798\u001b[0m             \u001b[1;32mif\u001b[0m \u001b[0mself\u001b[0m\u001b[1;33m.\u001b[0m\u001b[0mcolumns\u001b[0m\u001b[1;33m.\u001b[0m\u001b[0mnlevels\u001b[0m \u001b[1;33m>\u001b[0m \u001b[1;36m1\u001b[0m\u001b[1;33m:\u001b[0m\u001b[1;33m\u001b[0m\u001b[1;33m\u001b[0m\u001b[0m\n\u001b[0;32m   2799\u001b[0m                 \u001b[1;32mreturn\u001b[0m \u001b[0mself\u001b[0m\u001b[1;33m.\u001b[0m\u001b[0m_getitem_multilevel\u001b[0m\u001b[1;33m(\u001b[0m\u001b[0mkey\u001b[0m\u001b[1;33m)\u001b[0m\u001b[1;33m\u001b[0m\u001b[1;33m\u001b[0m\u001b[0m\n\u001b[1;32m-> 2800\u001b[1;33m             \u001b[0mindexer\u001b[0m \u001b[1;33m=\u001b[0m \u001b[0mself\u001b[0m\u001b[1;33m.\u001b[0m\u001b[0mcolumns\u001b[0m\u001b[1;33m.\u001b[0m\u001b[0mget_loc\u001b[0m\u001b[1;33m(\u001b[0m\u001b[0mkey\u001b[0m\u001b[1;33m)\u001b[0m\u001b[1;33m\u001b[0m\u001b[1;33m\u001b[0m\u001b[0m\n\u001b[0m\u001b[0;32m   2801\u001b[0m             \u001b[1;32mif\u001b[0m \u001b[0mis_integer\u001b[0m\u001b[1;33m(\u001b[0m\u001b[0mindexer\u001b[0m\u001b[1;33m)\u001b[0m\u001b[1;33m:\u001b[0m\u001b[1;33m\u001b[0m\u001b[1;33m\u001b[0m\u001b[0m\n\u001b[0;32m   2802\u001b[0m                 \u001b[0mindexer\u001b[0m \u001b[1;33m=\u001b[0m \u001b[1;33m[\u001b[0m\u001b[0mindexer\u001b[0m\u001b[1;33m]\u001b[0m\u001b[1;33m\u001b[0m\u001b[1;33m\u001b[0m\u001b[0m\n",
      "\u001b[1;32mC:\\ProgramData\\Anaconda3\\lib\\site-packages\\pandas\\core\\indexes\\base.py\u001b[0m in \u001b[0;36mget_loc\u001b[1;34m(self, key, method, tolerance)\u001b[0m\n\u001b[0;32m   2646\u001b[0m                 \u001b[1;32mreturn\u001b[0m \u001b[0mself\u001b[0m\u001b[1;33m.\u001b[0m\u001b[0m_engine\u001b[0m\u001b[1;33m.\u001b[0m\u001b[0mget_loc\u001b[0m\u001b[1;33m(\u001b[0m\u001b[0mkey\u001b[0m\u001b[1;33m)\u001b[0m\u001b[1;33m\u001b[0m\u001b[1;33m\u001b[0m\u001b[0m\n\u001b[0;32m   2647\u001b[0m             \u001b[1;32mexcept\u001b[0m \u001b[0mKeyError\u001b[0m\u001b[1;33m:\u001b[0m\u001b[1;33m\u001b[0m\u001b[1;33m\u001b[0m\u001b[0m\n\u001b[1;32m-> 2648\u001b[1;33m                 \u001b[1;32mreturn\u001b[0m \u001b[0mself\u001b[0m\u001b[1;33m.\u001b[0m\u001b[0m_engine\u001b[0m\u001b[1;33m.\u001b[0m\u001b[0mget_loc\u001b[0m\u001b[1;33m(\u001b[0m\u001b[0mself\u001b[0m\u001b[1;33m.\u001b[0m\u001b[0m_maybe_cast_indexer\u001b[0m\u001b[1;33m(\u001b[0m\u001b[0mkey\u001b[0m\u001b[1;33m)\u001b[0m\u001b[1;33m)\u001b[0m\u001b[1;33m\u001b[0m\u001b[1;33m\u001b[0m\u001b[0m\n\u001b[0m\u001b[0;32m   2649\u001b[0m         \u001b[0mindexer\u001b[0m \u001b[1;33m=\u001b[0m \u001b[0mself\u001b[0m\u001b[1;33m.\u001b[0m\u001b[0mget_indexer\u001b[0m\u001b[1;33m(\u001b[0m\u001b[1;33m[\u001b[0m\u001b[0mkey\u001b[0m\u001b[1;33m]\u001b[0m\u001b[1;33m,\u001b[0m \u001b[0mmethod\u001b[0m\u001b[1;33m=\u001b[0m\u001b[0mmethod\u001b[0m\u001b[1;33m,\u001b[0m \u001b[0mtolerance\u001b[0m\u001b[1;33m=\u001b[0m\u001b[0mtolerance\u001b[0m\u001b[1;33m)\u001b[0m\u001b[1;33m\u001b[0m\u001b[1;33m\u001b[0m\u001b[0m\n\u001b[0;32m   2650\u001b[0m         \u001b[1;32mif\u001b[0m \u001b[0mindexer\u001b[0m\u001b[1;33m.\u001b[0m\u001b[0mndim\u001b[0m \u001b[1;33m>\u001b[0m \u001b[1;36m1\u001b[0m \u001b[1;32mor\u001b[0m \u001b[0mindexer\u001b[0m\u001b[1;33m.\u001b[0m\u001b[0msize\u001b[0m \u001b[1;33m>\u001b[0m \u001b[1;36m1\u001b[0m\u001b[1;33m:\u001b[0m\u001b[1;33m\u001b[0m\u001b[1;33m\u001b[0m\u001b[0m\n",
      "\u001b[1;32mpandas\\_libs\\index.pyx\u001b[0m in \u001b[0;36mpandas._libs.index.IndexEngine.get_loc\u001b[1;34m()\u001b[0m\n",
      "\u001b[1;32mpandas\\_libs\\index.pyx\u001b[0m in \u001b[0;36mpandas._libs.index.IndexEngine.get_loc\u001b[1;34m()\u001b[0m\n",
      "\u001b[1;32mpandas\\_libs\\hashtable_class_helper.pxi\u001b[0m in \u001b[0;36mpandas._libs.hashtable.PyObjectHashTable.get_item\u001b[1;34m()\u001b[0m\n",
      "\u001b[1;32mpandas\\_libs\\hashtable_class_helper.pxi\u001b[0m in \u001b[0;36mpandas._libs.hashtable.PyObjectHashTable.get_item\u001b[1;34m()\u001b[0m\n",
      "\u001b[1;31mKeyError\u001b[0m: 'SB[0],Sb[1],SB[2]'"
     ]
    }
   ],
   "source": [
    "sns.regplot(x=('SB[0],Sb[1],SB[2]'), y='win', data=df);\n",
    "#maybe make a histogram to show distribution of stolen bases, and analyze what happens \n",
    "#when there is x number of stolen bases.\n",
    "#filter the x by times  he stole bases"
   ]
  },
  {
   "cell_type": "code",
   "execution_count": null,
   "metadata": {},
   "outputs": [],
   "source": [
    "def totals_per_year(stat):\n",
    "    np.arange(jeter[\"Year\"].min(),jeter[\"Year\"].max())\n",
    "    num_year = jeter.groupby('Year').sum()\n",
    "    years_played = jeter[\"Year\"].unique()\n",
    "    plt.bar(x = years_played, height = num_year[stat])\n",
    "    plt.xlabel('Years')\n",
    "    plt.ylabel(stat)\n",
    "    plt.title(\"Jeter's Yearly Totals\")\n",
    "    plt.xticks(np.arange(min(years_played), max(years_played)+1, 2.0))\n",
    "    plt.show()"
   ]
  },
  {
   "cell_type": "code",
   "execution_count": null,
   "metadata": {
    "scrolled": true
   },
   "outputs": [],
   "source": [
    "totals_per_year('H')"
   ]
  },
  {
   "cell_type": "markdown",
   "metadata": {},
   "source": [
    "The above graph shows that Derek Jeter recorded the most hits in the seasons of 1997, 2000, 2003, and 2010."
   ]
  },
  {
   "cell_type": "code",
   "execution_count": null,
   "metadata": {},
   "outputs": [],
   "source": [
    "totals_per_year('BB')"
   ]
  },
  {
   "cell_type": "markdown",
   "metadata": {},
   "source": [
    "The above graph shows that Derek Jeter recorded his most walks in the season of 2010."
   ]
  },
  {
   "cell_type": "code",
   "execution_count": null,
   "metadata": {
    "scrolled": false
   },
   "outputs": [],
   "source": [
    "totals_per_year('HR')"
   ]
  },
  {
   "cell_type": "markdown",
   "metadata": {},
   "source": [
    "The above graph shows that Derek Jeter recorded his most Home Runs in the seasons of 2004 and 2010."
   ]
  },
  {
   "cell_type": "code",
   "execution_count": null,
   "metadata": {},
   "outputs": [],
   "source": [
    "totals_per_year('SB')"
   ]
  },
  {
   "cell_type": "markdown",
   "metadata": {},
   "source": [
    "The above graph shows that Derek Jeter recorded the most Stolen Bases in the seasons of 2000, 2003, 2007, and 2011. "
   ]
  },
  {
   "cell_type": "code",
   "execution_count": null,
   "metadata": {},
   "outputs": [],
   "source": [
    "totals_per_year('win')"
   ]
  },
  {
   "cell_type": "markdown",
   "metadata": {},
   "source": [
    "The above graph shows that the Yankees won the most games of games that Derek Jeter Played in the seasons of 1997, 2000, 2003, 2005, 2007, 2010, and 2011 "
   ]
  },
  {
   "cell_type": "markdown",
   "metadata": {},
   "source": [
    "Seasons where Jeter's stats peaked as well as Yankee Wins: 1997, 2000, 2003, 2007, 2010, 2011"
   ]
  },
  {
   "cell_type": "markdown",
   "metadata": {},
   "source": [
    "From the data analysis from above, Jeter had 6 above average seasons. To further look at Jeter's contributions and importance to the NY Yankees, will will be using his 2010 season to compare to other players in the same season. This will allow us to compare his batting statistics with other players on the Yankees to see if he contributed more to their win."
   ]
  },
  {
   "cell_type": "markdown",
   "metadata": {},
   "source": [
    "# Alex Rodriguez\n",
    "\n",
    "Alexander Enmanuel Rodriguez, nicknamed \"A-Rod,\" is an American former professional baseball shortstop and third baseman, businessman and philanthropist. Rodriguez played 22 seasons in Major League Baseball for the Seattle Mariners, Texas Rangers, and New York Yankees. A-Rod's best year is said to be 2007, we will take his stats from 2007 and directly compare them to Jeter's from 2010 which we found above to be his most consistent."
   ]
  },
  {
   "cell_type": "code",
   "execution_count": null,
   "metadata": {},
   "outputs": [],
   "source": [
    "jeter_2010 = jeter.loc[jeter['Year'] == 2010]\n",
    "jeter_2010.head()"
   ]
  },
  {
   "cell_type": "markdown",
   "metadata": {},
   "source": [
    "Above is a reduced dataframe for Jeter containing only game statistics from his 2010 season allowing us to compare him to the other players."
   ]
  },
  {
   "cell_type": "code",
   "execution_count": null,
   "metadata": {},
   "outputs": [],
   "source": [
    "arod = pd.read_csv('arod_2007.csv')\n",
    "arod.head()"
   ]
  },
  {
   "cell_type": "code",
   "execution_count": null,
   "metadata": {},
   "outputs": [],
   "source": [
    "rod = pd.read_csv('Rodriguez.csv')\n",
    "rod.head()"
   ]
  },
  {
   "cell_type": "code",
   "execution_count": null,
   "metadata": {},
   "outputs": [],
   "source": [
    "rod = rod[['Rslt', 'H', 'HR', 'SB', 'BB', 'WPA']]\n",
    "rod['win'] = rod.Rslt.apply(lambda x: 1 if 'W' in x else 0)\n",
    "print('Rodriguez Table:')\n",
    "rod.head()"
   ]
  },
  {
   "cell_type": "markdown",
   "metadata": {},
   "source": [
    "# Curtis Granderson\n",
    "\n",
    "Curtis Granderson Jr. is an American former professional baseball outfielder. He played 16 seasons in Major League Baseball for the Detroit Tigers, New York Yankees, New York Mets, Los Angeles Dodgers, Toronto Blue Jays, Milwaukee Brewers, and Miami Marlins."
   ]
  },
  {
   "cell_type": "code",
   "execution_count": null,
   "metadata": {},
   "outputs": [],
   "source": [
    "granderson = pd.read_csv('Granderson.csv')\n",
    "granderson.head()"
   ]
  },
  {
   "cell_type": "markdown",
   "metadata": {},
   "source": [
    "# Nick Swisher\n",
    "\n",
    "Nicholas Thompson Swisher is an American former professional baseball outfielder and first baseman in Major League Baseball. He was a switch hitter who threw left-handed, and played for the Oakland Athletics, Chicago White Sox, New York Yankees, Cleveland Indians and Atlanta Braves."
   ]
  },
  {
   "cell_type": "code",
   "execution_count": null,
   "metadata": {},
   "outputs": [],
   "source": [
    "swisher = pd.read_csv('Swisher.csv')\n",
    "swisher.head()"
   ]
  },
  {
   "cell_type": "markdown",
   "metadata": {},
   "source": [
    "## Data Cleaning"
   ]
  },
  {
   "cell_type": "code",
   "execution_count": null,
   "metadata": {},
   "outputs": [],
   "source": [
    "granderson = granderson[['Rslt', 'H', 'HR', 'SB', 'BB', 'WPA']]\n",
    "granderson['win'] = granderson.Rslt.apply(lambda x: 1 if 'W' in x else 0)\n",
    "print('Granderson Table:')\n",
    "granderson.head()"
   ]
  },
  {
   "cell_type": "code",
   "execution_count": null,
   "metadata": {},
   "outputs": [],
   "source": [
    "swisher = swisher[['Rslt', 'H', 'HR', 'SB', 'BB', 'WPA']]\n",
    "swisher['win'] = swisher.Rslt.apply(lambda x: 1 if 'W' in x else 0)\n",
    "print('Swisher Table:')\n",
    "swisher.head()"
   ]
  },
  {
   "cell_type": "markdown",
   "metadata": {},
   "source": [
    "Now after selecting the same variables as we used with Jeter, we can use these statistics to compare the contribution that Jeter made to Granderson and Swisher."
   ]
  },
  {
   "cell_type": "code",
   "execution_count": null,
   "metadata": {},
   "outputs": [],
   "source": [
    "print('Jeter total wins in 2010: ', jeter_2010.win.sum())\n",
    "print('Granderson total wins in 2010: ', granderson.win.sum())\n",
    "print('Rodriguez total wins in 2010: ', rod.win.sum())\n",
    "print('Swisher total wins in 2010: ', swisher.win.sum())"
   ]
  },
  {
   "cell_type": "markdown",
   "metadata": {},
   "source": [
    "From this initial analysis of total wins for the 2010 season for all of these players, Jeter comes out on top with 92 wins. Since all of the data we are using is from the 2010 season we can assume that the other players didn't play every game of the season that they had a win in."
   ]
  },
  {
   "cell_type": "code",
   "execution_count": null,
   "metadata": {},
   "outputs": [],
   "source": [
    "print('Jeter total hits in 2010: ', jeter_2010.H.sum())\n",
    "print('Granderson total hits in 2010: ', granderson.H.sum())\n",
    "print('Rodriguez total hits in 2010: ', rod.H.sum())\n",
    "print('Swisher total hits in 2010: ', swisher.H.sum())"
   ]
  },
  {
   "cell_type": "markdown",
   "metadata": {},
   "source": [
    "When looking at total hits, Jeter had the most hits in the 2010 season but also played in more games than the rest of the players. But a hit does not gain a point in the game of baseball. What does? Homeruns."
   ]
  },
  {
   "cell_type": "code",
   "execution_count": null,
   "metadata": {},
   "outputs": [],
   "source": [
    "print('Jeter total homeruns in 2010: ', jeter_2010.HR.sum())\n",
    "print('Granderson total homeruns in 2010: ', granderson.HR.sum())\n",
    "print('Rodriguez total homeruns in 2010: ', rod.HR.sum())\n",
    "print('Swisher total homeruns in 2010: ', swisher.HR.sum())"
   ]
  },
  {
   "cell_type": "markdown",
   "metadata": {},
   "source": [
    "Derek Jeter is now close to the bottom. He has less than half of both of all 3. Plus Jeter played in more games than all of these players. "
   ]
  },
  {
   "cell_type": "code",
   "execution_count": null,
   "metadata": {},
   "outputs": [],
   "source": [
    "print('Jeter homerun to hit ratio in 2010: ', jeter_2010.HR.sum()/jeter_2010.H.sum())\n",
    "print('Granderson homerun to hit ratio in 2010: ', granderson.HR.sum()/granderson.H.sum())\n",
    "print('Rodriguez homerun to hit ratio in 2010: ', rod.HR.sum()/rod.H.sum())\n",
    "print('Swisher homerun to hit ratio in 2010: ', swisher.HR.sum()/swisher.H.sum())\n",
    "\n",
    "data = [['Jeter', jeter_2010.HR.sum()/jeter_2010.H.sum()], ['Granderson', granderson.HR.sum()/granderson.H.sum()], ['Rodriguez', rod.HR.sum()/rod.H.sum()], ['Swisher', swisher.HR.sum()/swisher.H.sum()]]\n",
    "ratios = pd.DataFrame(data, columns = ['Name', 'Ratio'])\n",
    "plt.bar(x=ratios['Name'], height=ratios['Ratio'])\n",
    "plt.xlabel('Player')\n",
    "plt.ylabel('Homerun to Hit Ratio')\n",
    "plt.show()"
   ]
  },
  {
   "cell_type": "markdown",
   "metadata": {},
   "source": [
    "Using the total homeruns and hits from each player, I calculated the ratio of homeruns to hits. This number represents the probability that the player will get a homerun on their time on the field and up to bat. I added the bar graph to allow you to visualize the drastic difference of Jeter's ratio. It is less than Swisher, whom has the next lowest."
   ]
  },
  {
   "cell_type": "markdown",
   "metadata": {},
   "source": [
    "# Questions for Reviewers:\n",
    "\n",
    "- Can we get a bit of feedback on our phase II part, we updated a lot and added more data to further our investigation.\n",
    "\n",
    "- How can we make our analysis between Jeter and the other players more in depth instead of just comparing the stats directly?\n",
    "\n",
    "- ANSWER: (maybe compare Jeter's best seasons to another player's best years or worst years to worst years)"
   ]
  },
  {
   "cell_type": "markdown",
   "metadata": {},
   "source": []
  }
 ],
 "metadata": {
  "kernelspec": {
   "display_name": "Python 3",
   "language": "python",
   "name": "python3"
  },
  "language_info": {
   "codemirror_mode": {
    "name": "ipython",
    "version": 3
   },
   "file_extension": ".py",
   "mimetype": "text/x-python",
   "name": "python",
   "nbconvert_exporter": "python",
   "pygments_lexer": "ipython3",
   "version": "3.7.6"
  }
 },
 "nbformat": 4,
 "nbformat_minor": 4
}
