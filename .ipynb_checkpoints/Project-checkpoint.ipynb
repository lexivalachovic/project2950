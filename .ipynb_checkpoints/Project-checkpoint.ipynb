{
 "cells": [
  {
   "cell_type": "markdown",
   "metadata": {},
   "source": [
    "# Derek Jeter: Jack of all Trades?\n",
    "##### Wally Chang, Lexi Valachovic, Matt Maitland"
   ]
  },
  {
   "cell_type": "markdown",
   "metadata": {},
   "source": [
    "### Derek Sanderson Jeter is an American former professional baseball shortstop, businessman, and baseball executive. As a player, Jeter spent his entire 20-year MLB career with the New York Yankees. Nicknamed \"The Captain\", Derek Jeter is soon to be inducted into the MLB Hall of Fame. "
   ]
  },
  {
   "cell_type": "markdown",
   "metadata": {},
   "source": [
    "# Abstract/Introduction"
   ]
  },
  {
   "cell_type": "markdown",
   "metadata": {},
   "source": [
    "There is general consensus among sports analysts and other baseball greats that Derek Jeter was an amazing player, arguably the best player to every play the shortstop position (a defensive, fielding position). The shortstop positions himself between the third baseman and the second-base bag. Shortstops are an integral component of turning double plays. On balls hit to the left side of the infield, a shortstop must cleanly field the ball and accurately throw it to the second baseman covering the second-base bag. However, in baseball, there are two sides to the game, defense, AND offense. We will analyze Derek Jeter's batting (offensive) performance over his career to see if he was as successful as a batter as he was a shortstop.\n",
    "\n",
    "In this exploration, we applied various statistical evaluation techniques including logistic regression, linear regression, and various graphical displays of data to a select group of offensive baseball stats from Derek Jeter's career in order to, first: analyze which one of his stats contributed most to Yankees game wins, and to, second: determine whether Jeter's career and stats stack up against other great baseball players in his era (specifically Alex Rodriguez, Nomar Garciaparra, and Bernie Williams). \n",
    "\n",
    "By the end of our investigation, we found that Jeter's hits were his most impactful statistic in leading the Yankees to wins. Out of all Jeter's stats that we tested, hits was the only category where, when Jeter registered none, the win rate of the Yankees dropped way below the average Yankees win rate over the course of Jeter's career: a whole 12.4% below. When the number of hits he had increased, so did the win rate of the Yankees. This conclusion is also supported by our logistic regression model and confusion matrix. However, we did not find as promising correlations between the other statistics that we tested. We think this was because in the years that Jeter played for the Yankees, the team overall did very well in terms of win rate, scoring over 50% win rate even when Jeter had zero in a particular stat category (except for hits). This, combined with the fact that many of Jeter's statistics didn't lend much weighted value (ex. there tends not to be more than 1 home run a game or more than 1 walk a game) led to many of the logistic regression models predicting a win regardless of Jeter's performance or statistical prowess in a given game. Additionally, we learned that as a team game with an offensive/defensive aspect, singling out the whole-game impact of an individual solely based on offensive play would be difficult.\n",
    "\n",
    "In the second part of our investigation, we concluded that Derek Jeter contributed more to the Yankees as a fielder than as a batter. When compared to Alex Rodriguez as well as peers Nomar Garciaparra and Bernie Williams, Jeter was not a real standout batter. Jeter was unlikely to get a homerun when he was up to bat, and he fell short in terms of homeruns. Jeter also registered a lower homerun to hit ratio than his peers Garciaparra and Williams, even in his best career batting year, 1999. \n",
    "\n",
    "All in all, our investigation does not overturn the consensus that Derek Jeter was a rare and great player. However, what we did solidify was that Jeter was not necessarily a player who scored many home runs consistently over his whole career (save for the years 1999, 2004, and 2001 where he did hit many home runs), and he instead contributed to the wins of the Yankees more through his defensive play and his ability to consistently hit the ball into play, abeit without big power, and send his teammates around the bases. \n",
    "\n",
    "\n",
    "#### This exploration is organized as follows\n",
    "1. Research Questions and Data Description \n",
    "***\n",
    "2. Preregistration of Analyses\n",
    "***\n",
    "3. Jeter Calculations and Statistical Tests: An examination of Jeter's stats, which one contributed most to Yankees wins?\n",
    "***\n",
    "4. Jeter's Yearly Stats: Determining Jeter's best stat year, so that player-player comparisons can be made later on based on said year. \n",
    "***\n",
    "5. Comparing Jeter to Rodriguez: Comparing the careers of Jeter and Rodriguez to see who was greater over the long run\n",
    "***\n",
    "6. Comparing Jeter to Williams and Garciaparra: Specifically focusing on Jeter's best batting season (1999), comparing Jeter's batting statistics to other great batters in that year, Bernie Williams and Nomar Garciaparra"
   ]
  },
  {
   "cell_type": "markdown",
   "metadata": {},
   "source": [
    "# Data Description"
   ]
  },
  {
   "cell_type": "markdown",
   "metadata": {},
   "source": [
    "Year - the season the data is from.\n",
    "\n",
    "RSLT - Result: Win or Loss, tracks whether the baseball game played was a win or a loss for the team\n",
    "\n",
    "H - hits, tracks how many hits Derek Jeter had in a given game. A hit, also called a base hit, is credited to a batter when the batter safely reaches or passes first base after hitting the ball into fair territory, without the benefit of an error or a fielder's choice\n",
    "\n",
    "PA - plate appearances, a plate appearance refers to a batter's turn at the plate. Each completed turn batting is one plate appearance.\n",
    "\n",
    "HR - home runs, tracks how many home runs Derek Jeter had in a given game. A home run is scored when the ball is hit in such a way that the batter is able to circle the bases and reach home safely in one play without any errors being committed by the defensive team in the process. An average MLB player hits around 20 homeruns a season.\n",
    "\n",
    "SB - stolen base, tracks how many bases Derek Jeter stole in a given game. A stolen base occurs when a baserunner advances by taking a base to which he isn't entitled. This generally occurs when a pitcher is throwing a pitch, but it can also occur while the pitcher still has the ball or is attempting a pickoff, or as the catcher is throwing the ball back to the pitcher.\n",
    "\n",
    "BB - base on balls (walk), tracks how many walks Derek Jeter had in a given game. A walk, occurs in baseball when a batter receives four pitches that the umpire calls balls, a pitch that misses the strike zone, and is in turn awarded first base without the possibility of being called out.\n",
    "\n",
    "WPA - win probability added, tracks Derek Jeter’s win probability added in a given game. Win probability added is a sport statistic which attempts to measure a player's contribution to a win by figuring the factor by which each specific play made by that player has altered the outcome of a game."
   ]
  },
  {
   "cell_type": "markdown",
   "metadata": {},
   "source": [
    "### Gebru et al. Questions\n",
    "\n",
    "What are the observations (rows) and the attributes (columns)?\n",
    "\n",
    "-- Each row represents a single game for the 20 seasons he played baseball, 1995-2014. The columns each represent a different record of data, or a calculated statistic as explained above.\n",
    "\n",
    "Why was this dataset created?\n",
    "\n",
    "-- This data set was created for the purpose of tracking New York Yankees player, Derek Jeter. He was an outstanding player and these statistics were compiled  during/after each game and each season to allow MLB fans to look back on the result and statistics of the game, and to look at the individual players success. It is very popular for people to make a league and have a draft where they pick players from all different teams and create their own team. Some people take this very seriously and use these statistics to help their choices.\n",
    "\n",
    "What processes might have influenced what data was observed and recorded and what was not?\n",
    "\n",
    "-- Any data that is considered a significant play is recorded. Whenever a player gets a hit, a homerun, times up to bat, etc. The dataset that we are utilizing is a batting log, so only plays that happen while up to bat or on base are recorded.\n",
    "\n",
    "What preprocessing was done, and how did the data come to be in the form that you are using?\n",
    "\n",
    "-- The only preprocessed variable in our usage of the dataset is the WPA, win probability added. This is calculated using the data collected throughout the game. We included this in our dataset to compare how much the variables we choose contributed to the wins versus one that took batting and fielding into account to see if he is contributing as much on offense.\n",
    "\n",
    "If people are involved, were they aware of the data collection and if so, what purpose did they expect the data to be used for?\n",
    "\n",
    "-- Yes, collecting sports statistics happens at every major league sporting event and even lower levels. The statistics and data are used for many different purposes. The data that is collected and analyzed is used to help increase fan experience and attendance from year to year. Sports analytics are crucial to many teams by helping them become their best through interpretation and analysis of statistics gained in games."
   ]
  },
  {
   "cell_type": "markdown",
   "metadata": {},
   "source": [
    "# Preregistration of analyses\n",
    "\n",
    "1. We hope to examine which of Derek Jeter's statistics, whether that be walks, stolen bases, hits, home runs, or a combination of stats had the greatest impact on the win rate of the Yankees, how significant of an impact that was, and how our calculations per statistic compare to the overall win probability added (WPA) calculation of Jeter in a given game. We can perform this examination by the means of logistic regression model fitting/testing, as well as linear regression testing. \n",
    "\n",
    "\n",
    "\n",
    "2. We want to determine if Derek Jeter's reputation as a hall of famer is overrated and see if other comparable players to Jeter in his prime were just as good. We pulled 3 other batters of similar standing from 1999, Jeter's best batting season, to see if Jeter is up to snuff as a batter. We know he is an all star in his short stop position (a defensive position), so we wanted to focus on the batting (offensive) side to see if he was effective as an offensive player as well."
   ]
  },
  {
   "cell_type": "code",
   "execution_count": 6,
   "metadata": {
    "scrolled": true
   },
   "outputs": [],
   "source": [
    "import os\n",
    "import glob\n",
    "import numpy as np\n",
    "import matplotlib.pyplot as plt\n",
    "import pandas as pd\n",
    "import seaborn as sns\n",
    "from scipy import stats\n",
    "from   sklearn.linear_model import LinearRegression, LogisticRegression\n",
    "from   sklearn.model_selection import train_test_split\n",
    "from sklearn.metrics import confusion_matrix\n",
    "from sklearn.metrics import classification_report\n",
    "from sklearn import linear_model\n",
    "from scipy.special import expit\n",
    "import statsmodels.formula.api as smf\n",
    "import warnings\n",
    "from pandas.core.common import SettingWithCopyWarning\n",
    "warnings.simplefilter(action='ignore', category = SettingWithCopyWarning)"
   ]
  },
  {
   "cell_type": "markdown",
   "metadata": {},
   "source": [
    "# Data Limitations"
   ]
  },
  {
   "cell_type": "markdown",
   "metadata": {},
   "source": [
    "Baseball statistics are inherently limited in the scope of what they measure as they are strictly quantitive observations. For instance, a homerun statistic cannot measure the boost in team morale as it ties the score in the last inning. Additionally, these statistics are purely offensive, and thus are not able to consider the effects of defensive play on the wins of the team. Thus, this data is somewhat limited in holistic value when it comes to high-level comparisons between player play and team wins. Additionally, with the limited variables we are using, our conclusions may be biased since baseball is a complex game involving a team, rather than a singular player. Looking at Jeter individually will allow us to see his contributions but we know that he is not the only player contributing to a win. For example, Jeter may have had an awful game but the Yankees may still have won. \n",
    "***\n",
    "This dataset could include many other statistics if it were to be complete and provide the best, most accurate conclusions, but due to the difficulty of processing so many variables and the time constraints of this project, we chose only the ones we felt most important. There is also the possibility that there is human error in recording the information, and it is possible that the older statistics from 1995 are not as precise as the ones gathered more recently, given new technology in sports statistic reporting and recording.\n",
    "***\n",
    "Discerning the impact of these limitations on our data and stat test results is difficult to tell. The limitations that were described above would be difficult to measure and identify in the results we obtained in our data analysis. Any impact on our numbers would likely be spread across a variety of variables involved in the computations of our numbers (linear regression slope, correlation scores etc). Thus the limitations would have a multivariate impact where it would be nearly impossible to pinpoint the origins. "
   ]
  },
  {
   "cell_type": "markdown",
   "metadata": {},
   "source": [
    "# Importing Player CSV Files"
   ]
  },
  {
   "cell_type": "code",
   "execution_count": 7,
   "metadata": {},
   "outputs": [],
   "source": [
    "jeter = pd.read_csv('JeterStats.csv')\n",
    "rodriguez = pd.read_csv('arod_concatenated.csv')\n",
    "williams = pd.read_csv('williams_1999.csv')\n",
    "garciaparra = pd.read_csv('garciaparra_1999.csv')"
   ]
  },
  {
   "cell_type": "markdown",
   "metadata": {},
   "source": [
    "# Jeter Calculations and Statistical Tests"
   ]
  },
  {
   "cell_type": "code",
   "execution_count": 8,
   "metadata": {
    "scrolled": false
   },
   "outputs": [
    {
     "name": "stdout",
     "output_type": "stream",
     "text": [
      "Mean WPA: 0.011262\n"
     ]
    }
   ],
   "source": [
    "contribute = jeter.WPA.mean()\n",
    "print('Mean WPA: {:.6f}'.format(contribute))"
   ]
  },
  {
   "cell_type": "markdown",
   "metadata": {},
   "source": [
    "Win probability added is a sport statistic which attempts to measure a player's contribution to a win by figuring the factor by which each specific play made by that player has altered the outcome of a game. It credits or debits the players score each time they make a play. So we know Jeter made a net positive contribution to the wins over the 20 seasons he played. Looking at the mean WPA of 0.011262, the positive value shows that on average he contributed to a win. This value is extremely low and close to zero, but it also is taking all 20 years and 2,747 games into account. So for that length of time having any positive value is impressive. But as we continue to analyze his statistics we will try to further prove he made a positive contribution to the New York Yankees over his 20 seasons."
   ]
  },
  {
   "cell_type": "markdown",
   "metadata": {},
   "source": [
    "### Impact of Stolen Bases on Wins"
   ]
  },
  {
   "cell_type": "code",
   "execution_count": 32,
   "metadata": {},
   "outputs": [
    {
     "name": "stdout",
     "output_type": "stream",
     "text": [
      "The value above each bar represents how many games Jeter had that number of stolen bases in his career.\n"
     ]
    },
    {
     "data": {
      "image/png": "[encoded data removed]",
      "text/plain": [
       "<Figure size 432x288 with 1 Axes>"
      ]
     },
     "metadata": {
      "needs_background": "light"
     },
     "output_type": "display_data"
    }
   ],
   "source": [
    "zero_SB = jeter.loc[jeter['SB']==0]\n",
    "one_SB = jeter.loc[jeter['SB']==1]\n",
    "two_SB = jeter.loc[jeter['SB']==2]\n",
    "three_SB = jeter.loc[jeter['SB']==3]\n",
    "zero_SB[\"win\"].mean()\n",
    "x = ['0','1','2','3']\n",
    "z = [zero_SB[\"win\"].mean()*100,one_SB[\"win\"].mean()*100,two_SB[\"win\"].mean()*100,three_SB[\"win\"].mean()*100]\n",
    "plt.bar(x,z,0.4)\n",
    "plt.title('Yankee Win % Based On Number of Jeter SB')\n",
    "plt.xlabel(\"Number of Jeter Stolen Bases\")\n",
    "plt.ylabel(\"Yankee Win %\")\n",
    "plt.text(-.14,60,str(zero_SB[\"SB\"].count()))\n",
    "plt.text(.9,68,str(one_SB[\"SB\"].count()))\n",
    "plt.text(1.93,85.5,str(two_SB[\"SB\"].count()))\n",
    "plt.text(2.95,52,str(three_SB[\"SB\"].count()))\n",
    "print(\"The value above each bar represents how many games Jeter had that number of stolen bases in his career.\")"
   ]
  },
  {
   "cell_type": "markdown",
   "metadata": {},
   "source": [
    "This graph shows the relationship between Jeter's number of steals and the Yankee's win percentage. This shows that over the course of his career, Jeter didn't steal a base 88% of all his career games. Yet, Yankee win percentage is notably still above 50%. However, as he steals one and two bases, Yankees win percentage increases, showing the importance of a leadoff hitter advancing into scoring position once they they get on base. The win percentage decreases when Jeter has 3 stolen bases, though the sample size is far too small for this to have any statistical significance. "
   ]
  },
  {
   "cell_type": "markdown",
   "metadata": {},
   "source": [
    "##### Logistic Regression for Stolen Bases versus Wins"
   ]
  },
  {
   "cell_type": "code",
   "execution_count": 10,
   "metadata": {},
   "outputs": [
    {
     "name": "stdout",
     "output_type": "stream",
     "text": [
      "Estimated Slope of Logistic Regression:  0.22164\n"
     ]
    }
   ],
   "source": [
    "x = jeter[['SB']].to_numpy()\n",
    "y = jeter[['win']].to_numpy().ravel()\n",
    "x_train, x_test, y_train, y_test =  train_test_split(x, y,test_size = 0.25, random_state = 3)\n",
    "log_reg = LogisticRegression()\n",
    "log_reg.fit(x_train,y_train)\n",
    "print(\"Estimated Slope of Logistic Regression: \", round(log_reg.coef_[0,0],6))"
   ]
  },
  {
   "cell_type": "code",
   "execution_count": 11,
   "metadata": {},
   "outputs": [
    {
     "name": "stdout",
     "output_type": "stream",
     "text": [
      "[[405   0]\n",
      " [282   0]]\n",
      "              precision    recall  f1-score   support\n",
      "\n",
      "           0       0.00      0.00      0.00       282\n",
      "           1       0.59      1.00      0.74       405\n",
      "\n",
      "    accuracy                           0.59       687\n",
      "   macro avg       0.29      0.50      0.37       687\n",
      "weighted avg       0.35      0.59      0.44       687\n",
      "\n"
     ]
    }
   ],
   "source": [
    "y_pred = log_reg.predict(x_test)\n",
    "np.set_printoptions(threshold=np. inf)\n",
    "print(confusion_matrix(y_test,y_pred,labels=[1, 0]))\n",
    "print(classification_report(y_test,y_pred,zero_division=0))"
   ]
  },
  {
   "cell_type": "code",
   "execution_count": 12,
   "metadata": {},
   "outputs": [],
   "source": [
    "#Fits our data into a logistic model\n",
    "def logmodel(x,y,x_test):\n",
    "    clf = linear_model.LogisticRegression(C=1e5)\n",
    "    clf.fit(x,y)\n",
    "    plt.figure(1, figsize=[8,5])\n",
    "    plt.clf()\n",
    "    plt.scatter(x.ravel(),y, color = 'black', zorder = 20)\n",
    "    loss = expit(x_test*clf.coef_+clf.intercept_).ravel()\n",
    "    plt.plot(x_test,loss,color='red',linewidth=3)\n",
    "    ols = linear_model.LinearRegression()\n",
    "    ols.fit(x,y)\n",
    "    plt.plot(x_test, ols.coef_*x_test+ols.intercept_,linewidth=1)\n",
    "    plt.axhline(.5,color='.5')\n",
    "    plt.ylabel('y')\n",
    "    plt.xlabel('X')\n",
    "    plt.legend(('Logistic Regression Model', 'Linear Regression Model'),\n",
    "               loc=\"lower right\", fontsize='small')\n",
    "    plt.show()"
   ]
  },
  {
   "cell_type": "code",
   "execution_count": 13,
   "metadata": {},
   "outputs": [
    {
     "data": {
      "image/png": "[encoded data removed]",
      "text/plain": [
       "<Figure size 576x360 with 1 Axes>"
      ]
     },
     "metadata": {
      "needs_background": "light"
     },
     "output_type": "display_data"
    }
   ],
   "source": [
    "logmodel(x,y,x_test)"
   ]
  },
  {
   "cell_type": "markdown",
   "metadata": {},
   "source": [
    "##### Linear Regression for Stolen Bases versus Wins"
   ]
  },
  {
   "cell_type": "code",
   "execution_count": 14,
   "metadata": {},
   "outputs": [
    {
     "name": "stdout",
     "output_type": "stream",
     "text": [
      "The actual linear regression slope of the stolen bases variable is 0.085\n"
     ]
    }
   ],
   "source": [
    "lr = LinearRegression()\n",
    "model = lr.fit(jeter[['SB']], jeter['win'])\n",
    "slope = model.coef_[0]\n",
    "print(\"The actual linear regression slope of the stolen bases variable is {:.3f}\".format(slope))"
   ]
  },
  {
   "cell_type": "markdown",
   "metadata": {},
   "source": [
    "As shown above, it appears that there is a slight positive correlation between the number of stolen bases Derek Jeter had and the wins of the Yankees. The model has a 0% precision rate when predicting losses and a 59% precision rate when predicting wins, though this information is not very useful, as the model predicts every game will be a win regardless of Jeter's number of stolen bases. Looking at the confusion matrix, one can see that the stolen bases statistic was not a good model for determining whether Jeter stealing bases had any impact on the Yankees win rate, as it also reflects the fact that the model predicted every game would be a win. Additionally, as shown by the bar graph, the Yankees had a win percentage above 50 even when Jeter had zero stolen bases. Jeter's stolen bases may have a small positive impact, though that is not discernable through this analysis."
   ]
  },
  {
   "cell_type": "markdown",
   "metadata": {},
   "source": [
    "### Impact of Walks on Wins"
   ]
  },
  {
   "cell_type": "code",
   "execution_count": 15,
   "metadata": {},
   "outputs": [
    {
     "name": "stdout",
     "output_type": "stream",
     "text": [
      "The value above each bar represents how many games Jeter had that value of walks (BB) in his career.\n"
     ]
    },
    {
     "data": {
      "image/png": "[encoded data removed]",
      "text/plain": [
       "<Figure size 432x288 with 1 Axes>"
      ]
     },
     "metadata": {
      "needs_background": "light"
     },
     "output_type": "display_data"
    }
   ],
   "source": [
    "zero_BB = jeter.loc[jeter['BB']==0]\n",
    "one_BB = jeter.loc[jeter['BB']==1]\n",
    "two_BB = jeter.loc[jeter['BB']==2]\n",
    "three_BB = jeter.loc[jeter['BB']==3]\n",
    "zero_BB[\"win\"].mean()\n",
    "x = ['0','1','2','3']\n",
    "z = [zero_BB[\"win\"].mean()*100,one_BB[\"win\"].mean()*100,two_BB[\"win\"].mean()*100,three_BB[\"win\"].mean()*100]\n",
    "plt.bar(x,z,0.4)\n",
    "plt.title('Yankee Win % Based On Number of Jeter Walks (BB)')\n",
    "plt.xlabel(\"Number of Jeter Walks\")\n",
    "plt.ylabel(\"Yankee Win %\")\n",
    "plt.text(-.14,59,str(zero_BB[\"BB\"].count()))\n",
    "plt.text(.9,63,str(one_BB[\"BB\"].count()))\n",
    "plt.text(1.9,66,str(two_BB[\"BB\"].count()))\n",
    "plt.text(2.95,81,str(three_BB[\"BB\"].count()))\n",
    "print(\"The value above each bar represents how many games Jeter had that value of walks (BB) in his career.\")"
   ]
  },
  {
   "cell_type": "markdown",
   "metadata": {},
   "source": [
    "Much like with stolen bases, there is an increase in win percentage as the number of walks Jeter earned increase. However, the increase from zero to one and one to two walks is less drastic than it was for stolen bases. It's also notable that Jeter had no walks for 67% of all his career games, yet Yankee win rate was still above 50 regardless. "
   ]
  },
  {
   "cell_type": "markdown",
   "metadata": {},
   "source": [
    "#### Logistic Regression of Walks versus Wins"
   ]
  },
  {
   "cell_type": "code",
   "execution_count": 16,
   "metadata": {},
   "outputs": [
    {
     "name": "stdout",
     "output_type": "stream",
     "text": [
      "Estimated Slope of Logistic Regression:  0.183199\n"
     ]
    }
   ],
   "source": [
    "x3 = jeter[['BB']].to_numpy()\n",
    "y3 = jeter[['win']].to_numpy().ravel()\n",
    "x_train3, x_test3, y_train3, y_test3 =  train_test_split(x3, y3,test_size = 0.25, random_state = 3)\n",
    "log_reg3 = LogisticRegression()\n",
    "log_reg3.fit(x_train3,y_train3)\n",
    "print(\"Estimated Slope of Logistic Regression: \", round(log_reg3.coef_[0,0],6))"
   ]
  },
  {
   "cell_type": "code",
   "execution_count": 17,
   "metadata": {},
   "outputs": [
    {
     "name": "stdout",
     "output_type": "stream",
     "text": [
      "[[405   0]\n",
      " [282   0]]\n",
      "              precision    recall  f1-score   support\n",
      "\n",
      "           0       0.00      0.00      0.00       282\n",
      "           1       0.59      1.00      0.74       405\n",
      "\n",
      "    accuracy                           0.59       687\n",
      "   macro avg       0.29      0.50      0.37       687\n",
      "weighted avg       0.35      0.59      0.44       687\n",
      "\n"
     ]
    }
   ],
   "source": [
    "y_pred3 = log_reg3.predict(x_test3)\n",
    "np.set_printoptions(threshold=np. inf)\n",
    "print(confusion_matrix(y_test3,y_pred3,labels=[1,0]))\n",
    "print(classification_report(y_test3,y_pred3,zero_division=0))"
   ]
  },
  {
   "cell_type": "code",
   "execution_count": 18,
   "metadata": {},
   "outputs": [
    {
     "data": {
      "image/png": "[encoded data removed]",
      "text/plain": [
       "<Figure size 576x360 with 1 Axes>"
      ]
     },
     "metadata": {
      "needs_background": "light"
     },
     "output_type": "display_data"
    }
   ],
   "source": [
    "logmodel(x3,y3,x_test3)"
   ]
  },
  {
   "cell_type": "markdown",
   "metadata": {},
   "source": [
    "##### Linear Regression for Walks versus Wins"
   ]
  },
  {
   "cell_type": "code",
   "execution_count": 19,
   "metadata": {},
   "outputs": [
    {
     "name": "stdout",
     "output_type": "stream",
     "text": [
      "The actual linear regression slope of the walks variable is 0.046\n"
     ]
    }
   ],
   "source": [
    "lr = LinearRegression()\n",
    "model3 = lr.fit(jeter[['BB']], jeter['win'])\n",
    "slope3 = model3.coef_[0]\n",
    "print(\"The actual linear regression slope of the walks variable is {:.3f}\".format(slope3))"
   ]
  },
  {
   "cell_type": "markdown",
   "metadata": {},
   "source": [
    "Again it appears that there is a slight positive correlation between the number of walks Derek Jeter had and the wins of the Yankees. But we run into the same situation we had with stolen bases. The logistic regression model predicted that every game would be a win. Looking at the confusion matrix, we also see the same phenomenon. Thus, we can tell that Jeter obtaining walks is also not a good predictor for game wins for the Yankees, even though they may have a small positive impact that can be observed in the upward slope of the bars in the graph above. Next we will look at more influential variables, hits, homeruns, and plate appearances."
   ]
  },
  {
   "cell_type": "markdown",
   "metadata": {},
   "source": [
    "### Impact of Hits on Wins"
   ]
  },
  {
   "cell_type": "code",
   "execution_count": 33,
   "metadata": {},
   "outputs": [
    {
     "name": "stdout",
     "output_type": "stream",
     "text": [
      "The value above each bar represents how many games Jeter had that value of hits in his career.\n"
     ]
    },
    {
     "data": {
      "image/png": "[encoded data removed]",
      "text/plain": [
       "<Figure size 432x288 with 1 Axes>"
      ]
     },
     "metadata": {
      "needs_background": "light"
     },
     "output_type": "display_data"
    }
   ],
   "source": [
    "zero_H = jeter.loc[jeter['H']==0]\n",
    "one_H = jeter.loc[jeter['H']==1]\n",
    "two_H = jeter.loc[jeter['H']==2]\n",
    "three_H = jeter.loc[jeter['H']==3]\n",
    "four_H = jeter.loc[jeter['H']==4]\n",
    "five_H = jeter.loc[jeter['H']==5]\n",
    "x = ['0','1','2','3','4','5']\n",
    "z = [zero_H[\"win\"].mean()*100,one_H[\"win\"].mean()*100,two_H[\"win\"].mean()*100,three_H[\"win\"].mean()*100,four_H[\"win\"].mean()*100,five_H[\"win\"].mean()*100]\n",
    "plt.bar(x,z,0.4)\n",
    "plt.title('Yankee Win % Based On Number of Jeter Hits')\n",
    "plt.xlabel(\"Number of Jeter Hits\")\n",
    "plt.ylabel(\"Yankee Win %\")\n",
    "plt.text(-.15,48,str(zero_H[\"H\"].count()))\n",
    "plt.text(.78,58,str(one_H[\"H\"].count()))\n",
    "plt.text(1.82,70,str(two_H[\"H\"].count()))\n",
    "plt.text(2.83,77,str(three_H[\"H\"].count()))\n",
    "plt.text(3.89,72,str(four_H[\"H\"].count()))\n",
    "plt.text(4.95,100.5,str(five_H[\"H\"].count()))\n",
    "print(\"The value above each bar represents how many games Jeter had that value of hits in his career.\")"
   ]
  },
  {
   "cell_type": "code",
   "execution_count": 59,
   "metadata": {},
   "outputs": [
    {
     "name": "stdout",
     "output_type": "stream",
     "text": [
      "Yankee win percentage when Jeter did not register a hit was: 46.9%\n",
      "Yankees average win percentage over Jeters Career: 59.26%\n"
     ]
    }
   ],
   "source": [
    "print('Yankee win percentage when Jeter did not register a hit was: '+ str(round(zero_H[\"win\"].mean()*100,1))+'%')\n",
    "yankees_avg_winrate = ((len(jeter.loc[jeter['win']==1].win))/(len(jeter['win'])))*100\n",
    "print('Yankees average win percentage over Jeters Career: ' + str(round(yankees_avg_winrate,2))+'%')"
   ]
  },
  {
   "cell_type": "markdown",
   "metadata": {},
   "source": [
    "As displayed in the text above, Yankee win percentage when Jeter didn't register a hit was 46.9%, which is 12.4% below the Yankees average win percentage over the course of Jeter's career. This leads us to believe that the Yankees were heavily reliant on Jeter to record at least one hit in the game. Yankee win percentage begins to steadily trend up as well as the number of hits Jeter obtained increased. It is also quite interesting to note that of the 4 games that Jeter had 5 hits, the Yankees never lost."
   ]
  },
  {
   "cell_type": "markdown",
   "metadata": {},
   "source": [
    "#### Logistic Regression of Hits versus Wins"
   ]
  },
  {
   "cell_type": "code",
   "execution_count": 21,
   "metadata": {},
   "outputs": [
    {
     "name": "stdout",
     "output_type": "stream",
     "text": [
      "Estimated Slope of Logistic Regression:  0.401454\n"
     ]
    }
   ],
   "source": [
    "x2 = jeter[['H']].to_numpy()\n",
    "y2 = jeter[['win']].to_numpy().ravel()\n",
    "x_train2, x_test2, y_train2, y_test2 =  train_test_split(x2, y2,test_size = 0.25, random_state = 3)\n",
    "log_reg2 = LogisticRegression()\n",
    "log_reg2.fit(x_train2,y_train2)\n",
    "print(\"Estimated Slope of Logistic Regression: \", round(log_reg2.coef_[0,0],6))"
   ]
  },
  {
   "cell_type": "code",
   "execution_count": 22,
   "metadata": {},
   "outputs": [
    {
     "name": "stdout",
     "output_type": "stream",
     "text": [
      "[[338  67]\n",
      " [194  88]]\n",
      "              precision    recall  f1-score   support\n",
      "\n",
      "           0       0.57      0.31      0.40       282\n",
      "           1       0.64      0.83      0.72       405\n",
      "\n",
      "    accuracy                           0.62       687\n",
      "   macro avg       0.60      0.57      0.56       687\n",
      "weighted avg       0.61      0.62      0.59       687\n",
      "\n"
     ]
    }
   ],
   "source": [
    "y_pred2 = log_reg2.predict(x_test2)\n",
    "np.set_printoptions(threshold=np. inf)\n",
    "print(confusion_matrix(y_test2,y_pred2,labels=[1,0]))\n",
    "print(classification_report(y_test2,y_pred2,zero_division=0))"
   ]
  },
  {
   "cell_type": "code",
   "execution_count": 23,
   "metadata": {},
   "outputs": [
    {
     "data": {
      "image/png": "[encoded data removed]",
      "text/plain": [
       "<Figure size 576x360 with 1 Axes>"
      ]
     },
     "metadata": {
      "needs_background": "light"
     },
     "output_type": "display_data"
    }
   ],
   "source": [
    "logmodel(x2,y2,x_test2)"
   ]
  },
  {
   "cell_type": "markdown",
   "metadata": {},
   "source": [
    "#### Linear Regression of Hits versus Wins"
   ]
  },
  {
   "cell_type": "code",
   "execution_count": 24,
   "metadata": {},
   "outputs": [
    {
     "name": "stdout",
     "output_type": "stream",
     "text": [
      "The actual linear regression slope of the hits variable is 0.094\n"
     ]
    }
   ],
   "source": [
    "lr = LinearRegression()\n",
    "model2 = lr.fit(jeter[['H']], jeter['win'])\n",
    "slope2 = model2.coef_[0]\n",
    "print(\"The actual linear regression slope of the hits variable is {:.3f}\".format(slope2))"
   ]
  },
  {
   "cell_type": "markdown",
   "metadata": {},
   "source": [
    "It appears once again that there is a positive correlation between the number of hit Derek Jeter had and the wins of the Yankees. Looking at the classification report, we can see that there was 64% precision for predicting wins and 57% percision score for losses. This data is more meaningful, with a weighted f1 score of 59%, meaning that the model was more precise than previous models on predicting the win rate based on hits. The bar graph also shows a positve slope, as number of hits per game increased, the win percentage increased. There is one exception, where win rate decreases slightly at 4 hits. Overall, it can be understood that Jeter getting a hit is an accurate predictor for game wins for the Yankees, and his hits positively impacted the team."
   ]
  },
  {
   "cell_type": "markdown",
   "metadata": {},
   "source": [
    "## Impact of Homeruns on Wins"
   ]
  },
  {
   "cell_type": "code",
   "execution_count": 25,
   "metadata": {},
   "outputs": [
    {
     "name": "stdout",
     "output_type": "stream",
     "text": [
      "The value above each bar represents how many games Jeter had that value of home runs in his career.\n"
     ]
    },
    {
     "data": {
      "image/png": "[encoded data removed]",
      "text/plain": [
       "<Figure size 432x288 with 1 Axes>"
      ]
     },
     "metadata": {
      "needs_background": "light"
     },
     "output_type": "display_data"
    }
   ],
   "source": [
    "zero_HR = jeter.loc[jeter['HR']==0]\n",
    "one_HR = jeter.loc[jeter['HR']==1]\n",
    "two_HR = jeter.loc[jeter['HR']==2]\n",
    "x = ['0','1','2']\n",
    "z = [zero_HR[\"win\"].mean()*100,one_HR[\"win\"].mean()*100,two_HR[\"win\"].mean()*100]\n",
    "plt.bar(x,z,0.4)\n",
    "plt.title('Yankee Win % Based On Number of Jeter Home Runs')\n",
    "plt.xlabel(\"Number of Jeter Home Runs\")\n",
    "plt.ylabel(\"Yankee Win %\")\n",
    "plt.text(-.12,59,str(zero_HR[\"HR\"].count()))\n",
    "plt.text(.93,72,str(one_HR[\"HR\"].count()))\n",
    "plt.text(1.95,100.5,str(two_HR[\"HR\"].count()))\n",
    "print(\"The value above each bar represents how many games Jeter had that value of home runs in his career.\")"
   ]
  },
  {
   "cell_type": "markdown",
   "metadata": {},
   "source": [
    "This graph continues to follow the logic of the other graphs, but this one is an exaggerated increase in win percentage. The Yankees have a fairly standard win percentage in games where he had 0 home runs which makes sense because hitting home runs was never Jeter's role. So, when he hit one home run this was an unexpected offensive boost which explains the large jump in win percentage in games where he has 1 home run. Much like in games where Jeter has 5 hits, the Yankees were undefeated in games where Jeter hit 2 home runs, which can be explained by the same logic as for the increase from 0 to 1 home runs."
   ]
  },
  {
   "cell_type": "markdown",
   "metadata": {},
   "source": [
    "#### Logistic Regression of Homeruns versus Wins"
   ]
  },
  {
   "cell_type": "code",
   "execution_count": 26,
   "metadata": {},
   "outputs": [
    {
     "name": "stdout",
     "output_type": "stream",
     "text": [
      "Estimated Slope of Logistic Regression:  0.685035\n"
     ]
    }
   ],
   "source": [
    "x4 = jeter[['HR']].to_numpy()\n",
    "y4 = jeter[['win']].to_numpy().ravel()\n",
    "x_train4, x_test4, y_train4, y_test4 =  train_test_split(x4, y4,test_size = 0.25, random_state = 3)\n",
    "log_reg4 = LogisticRegression()\n",
    "log_reg4.fit(x_train4,y_train4)\n",
    "print(\"Estimated Slope of Logistic Regression: \", round(log_reg4.coef_[0,0],6))"
   ]
  },
  {
   "cell_type": "code",
   "execution_count": 27,
   "metadata": {},
   "outputs": [
    {
     "name": "stdout",
     "output_type": "stream",
     "text": [
      "[[405   0]\n",
      " [282   0]]\n",
      "              precision    recall  f1-score   support\n",
      "\n",
      "           0       0.00      0.00      0.00       282\n",
      "           1       0.59      1.00      0.74       405\n",
      "\n",
      "    accuracy                           0.59       687\n",
      "   macro avg       0.29      0.50      0.37       687\n",
      "weighted avg       0.35      0.59      0.44       687\n",
      "\n"
     ]
    }
   ],
   "source": [
    "y_pred4 = log_reg4.predict(x_test4)\n",
    "np.set_printoptions(threshold=np. inf)\n",
    "print(confusion_matrix(y_test4,y_pred4, labels=[1,0]))\n",
    "print(classification_report(y_test4,y_pred4,zero_division=0))"
   ]
  },
  {
   "cell_type": "code",
   "execution_count": 28,
   "metadata": {},
   "outputs": [
    {
     "data": {
      "image/png": "[encoded data removed]",
      "text/plain": [
       "<Figure size 576x360 with 1 Axes>"
      ]
     },
     "metadata": {
      "needs_background": "light"
     },
     "output_type": "display_data"
    }
   ],
   "source": [
    "logmodel(x4,y4,x_test4)"
   ]
  },
  {
   "cell_type": "markdown",
   "metadata": {},
   "source": [
    "#### Linear Regression of Homeruns versus Wins"
   ]
  },
  {
   "cell_type": "code",
   "execution_count": 29,
   "metadata": {},
   "outputs": [
    {
     "name": "stdout",
     "output_type": "stream",
     "text": [
      "The actual linear regression slope of the homerun variable is 0.137\n"
     ]
    }
   ],
   "source": [
    "lr = LinearRegression()\n",
    "model4 = lr.fit(jeter[['HR']], jeter['win'])\n",
    "slope4 = model4.coef_[0]\n",
    "print(\"The actual linear regression slope of the homerun variable is {:.3f}\".format(slope4))"
   ]
  },
  {
   "cell_type": "markdown",
   "metadata": {},
   "source": [
    "Homeruns score points so as expected there is a positive correlation between the number of homerus Derek Jeter had and the wins of the Yankees. Looking at the classification report, we see that there is a 0% precision in predicting losses, and a 59% precision in predicting wins like stolen bases and walks. Again, this information is not very useful, because the model predicted that every game would be a win. This is not surprising since Jeter had many games without homeruns. But looking at the bar graph, you can see that when he did get a homerun, it increased their win percentage tremendously. Overall, we found Jeter does not get many homeruns, but he significantly contributes to the win when he does."
   ]
  },
  {
   "cell_type": "markdown",
   "metadata": {},
   "source": [
    "## Impact of Plate Appearance on Wins"
   ]
  },
  {
   "cell_type": "code",
   "execution_count": 30,
   "metadata": {},
   "outputs": [
    {
     "data": {
      "text/html": [
       "<div>\n",
       "<style scoped>\n",
       "    .dataframe tbody tr th:only-of-type {\n",
       "        vertical-align: middle;\n",
       "    }\n",
       "\n",
       "    .dataframe tbody tr th {\n",
       "        vertical-align: top;\n",
       "    }\n",
       "\n",
       "    .dataframe thead th {\n",
       "        text-align: right;\n",
       "    }\n",
       "</style>\n",
       "<table border=\"1\" class=\"dataframe\">\n",
       "  <thead>\n",
       "    <tr style=\"text-align: right;\">\n",
       "      <th></th>\n",
       "      <th>Year</th>\n",
       "      <th>Rk</th>\n",
       "      <th>Rslt</th>\n",
       "      <th>PA</th>\n",
       "      <th>H</th>\n",
       "      <th>HR</th>\n",
       "      <th>SB</th>\n",
       "      <th>BB</th>\n",
       "      <th>WPA</th>\n",
       "      <th>win</th>\n",
       "      <th>0SB</th>\n",
       "      <th>1SB</th>\n",
       "      <th>2SB</th>\n",
       "      <th>3SB</th>\n",
       "      <th>4SB</th>\n",
       "    </tr>\n",
       "  </thead>\n",
       "  <tbody>\n",
       "    <tr>\n",
       "      <th>13</th>\n",
       "      <td>1995</td>\n",
       "      <td>14</td>\n",
       "      <td>W,13-3</td>\n",
       "      <td>0</td>\n",
       "      <td>0</td>\n",
       "      <td>0</td>\n",
       "      <td>0</td>\n",
       "      <td>0</td>\n",
       "      <td>NaN</td>\n",
       "      <td>1</td>\n",
       "      <td>1</td>\n",
       "      <td>0</td>\n",
       "      <td>0</td>\n",
       "      <td>0</td>\n",
       "      <td>0</td>\n",
       "    </tr>\n",
       "    <tr>\n",
       "      <th>1409</th>\n",
       "      <td>2005</td>\n",
       "      <td>44</td>\n",
       "      <td>W,5-3</td>\n",
       "      <td>0</td>\n",
       "      <td>0</td>\n",
       "      <td>0</td>\n",
       "      <td>1</td>\n",
       "      <td>0</td>\n",
       "      <td>0.0</td>\n",
       "      <td>1</td>\n",
       "      <td>0</td>\n",
       "      <td>1</td>\n",
       "      <td>0</td>\n",
       "      <td>0</td>\n",
       "      <td>0</td>\n",
       "    </tr>\n",
       "    <tr>\n",
       "      <th>1983</th>\n",
       "      <td>2008</td>\n",
       "      <td>149</td>\n",
       "      <td>W,3-1</td>\n",
       "      <td>0</td>\n",
       "      <td>0</td>\n",
       "      <td>0</td>\n",
       "      <td>0</td>\n",
       "      <td>0</td>\n",
       "      <td>NaN</td>\n",
       "      <td>1</td>\n",
       "      <td>1</td>\n",
       "      <td>0</td>\n",
       "      <td>0</td>\n",
       "      <td>0</td>\n",
       "      <td>0</td>\n",
       "    </tr>\n",
       "  </tbody>\n",
       "</table>\n",
       "</div>"
      ],
      "text/plain": [
       "      Year   Rk    Rslt  PA  H  HR  SB  BB  WPA  win  0SB  1SB  2SB  3SB  4SB\n",
       "13    1995   14  W,13-3   0  0   0   0   0  NaN    1    1    0    0    0    0\n",
       "1409  2005   44   W,5-3   0  0   0   1   0  0.0    1    0    1    0    0    0\n",
       "1983  2008  149   W,3-1   0  0   0   0   0  NaN    1    1    0    0    0    0"
      ]
     },
     "execution_count": 30,
     "metadata": {},
     "output_type": "execute_result"
    }
   ],
   "source": [
    "jeter.loc[jeter['PA']==0]"
   ]
  },
  {
   "cell_type": "code",
   "execution_count": 102,
   "metadata": {},
   "outputs": [
    {
     "name": "stdout",
     "output_type": "stream",
     "text": [
      "The value above each bar represents how many games Jeter had that value of home runs in his career.\n"
     ]
    },
    {
     "data": {
      "image/png": "[encoded data removed]",
      "text/plain": [
       "<Figure size 432x288 with 1 Axes>"
      ]
     },
     "metadata": {
      "needs_background": "light"
     },
     "output_type": "display_data"
    }
   ],
   "source": [
    "one_PA = jeter.loc[jeter['PA']==1]\n",
    "two_PA = jeter.loc[jeter['PA']==2]\n",
    "three_PA = jeter.loc[jeter['PA']==3]\n",
    "four_PA = jeter.loc[jeter['PA']==4]\n",
    "five_PA = jeter.loc[jeter['PA']==5]\n",
    "six_PA = jeter.loc[jeter['PA']==6]\n",
    "seven_PA = jeter.loc[jeter['PA']==7]\n",
    "eight_PA = jeter.loc[jeter['PA']==8]\n",
    "nine_PA = jeter.loc[jeter['PA']==9]\n",
    "x = ['1','2','3','4','5','6','7','8','9']\n",
    "z = [one_PA[\"win\"].mean()*100,two_PA[\"win\"].mean()*100,three_PA[\"win\"].mean()*100,four_PA[\"win\"].mean()*100,five_PA[\"win\"].mean()*100,six_PA[\"win\"].mean()*100,seven_PA[\"win\"].mean()*100,eight_PA[\"win\"].mean()*100,nine_PA[\"win\"].mean()*100]\n",
    "plt.bar(x,z,0.4)\n",
    "plt.title('Yankee Win % Based On Number of Jeter Plate Appearances')\n",
    "plt.xlabel(\"Number of Jeter Plate Appearances\")\n",
    "plt.ylabel(\"Yankee Win %\")\n",
    "plt.text(-0.15,33,str(one_PA[\"PA\"].count()))\n",
    "plt.text(0.85,41,str(two_PA[\"PA\"].count()))\n",
    "plt.text(1.8,39,str(three_PA[\"PA\"].count()))\n",
    "plt.text(2.7,52,str(four_PA[\"PA\"].count()))\n",
    "plt.text(3.6,67,str(five_PA[\"PA\"].count()))\n",
    "plt.text(4.7,80,str(six_PA[\"PA\"].count()))\n",
    "plt.text(5.8,77,str(seven_PA[\"PA\"].count()))\n",
    "plt.text(6.9,100.5,str(eight_PA[\"PA\"].count()))\n",
    "plt.text(7.85,51,str(nine_PA[\"PA\"].count()))\n",
    "print(\"The value above each bar represents how many games Jeter had that value of home runs in his career.\")"
   ]
  },
  {
   "cell_type": "markdown",
   "metadata": {},
   "source": [
    "In this graph, we excluded the column for where Jeter had 0 plate appearences because this means that he did not participate in the game with an at bat - he got in either as a pinch runner (Substituted for the specific purpose of replacing a player on base. The pinch runner may be faster or otherwise more skilled at base-running than the player for whom the pinch runner has been substituted) or defensive replacement. The rest of that data follows the same trends as all the above bar graphs, but plate appearances do not draw direct correlations in terms of analyzing Jeter's offensive input because plate appearences do not measure individual offensive success. Instead, they measure individual offensvie opportunities. Jeter must take advantage of his at bat to make a hit or to walk in order to benefit the team."
   ]
  },
  {
   "cell_type": "markdown",
   "metadata": {},
   "source": [
    "#### Logistic Regression of Plate Appearances versus Wins"
   ]
  },
  {
   "cell_type": "code",
   "execution_count": null,
   "metadata": {},
   "outputs": [],
   "source": [
    "x5 = jeter[['PA']].to_numpy()\n",
    "y5 = jeter[['win']].to_numpy().ravel()\n",
    "x_train5, x_test5, y_train5, y_test5 =  train_test_split(x5, y5,test_size = 0.25, random_state = 3)\n",
    "log_reg5 = LogisticRegression()\n",
    "log_reg5.fit(x_train5,y_train5)\n",
    "print(\"Estimated Slope of Logistic Regression: \", round(log_reg5.coef_[0,0],6))"
   ]
  },
  {
   "cell_type": "code",
   "execution_count": null,
   "metadata": {},
   "outputs": [],
   "source": [
    "y_pred5 = log_reg5.predict(x_test5)\n",
    "np.set_printoptions(threshold=np. inf)\n",
    "print(confusion_matrix(y_test5,y_pred5, labels=[1,0]))\n",
    "print(classification_report(y_test5,y_pred5,zero_division=0))"
   ]
  },
  {
   "cell_type": "code",
   "execution_count": null,
   "metadata": {},
   "outputs": [],
   "source": [
    "logmodel(x5,y5,x_test5)"
   ]
  },
  {
   "cell_type": "markdown",
   "metadata": {},
   "source": [
    "#### Linear Regression for Plate Appearances versus Wins"
   ]
  },
  {
   "cell_type": "code",
   "execution_count": null,
   "metadata": {},
   "outputs": [],
   "source": [
    "lr = LinearRegression()\n",
    "model5 = lr.fit(jeter[['PA']], jeter['win'])\n",
    "slope5 = model5.coef_[0]\n",
    "print(\"The actual linear regression slope of the plate appearances variable is {:.3f}\".format(slope5))"
   ]
  },
  {
   "cell_type": "markdown",
   "metadata": {},
   "source": [
    "Plate appearances appear to also have a postive correlation with wins. This makes sense as the more times a player bats, the greater the chance they will get a hit or homerun. Looking at the classification report, we can see that there was 60% precision for predicting wins and 66% percision score for losses. Both of these scores are higher than any other variables looked at. With a weighted f1 score of 49%, the model was more precise on modeling the win rate based on hits compared to stolen bases, walks or homeruns. The bar graph shows a positive slope with the exception of the first and last bar. The Yankees had a 100% win percentage the three times Jeter did not bat. And when he batted more than 8 times in two of their games, they won one and lost one explaining the deviations. This data supports that the more Jeter appeared on the plate, the Yankees won more of their games."
   ]
  },
  {
   "cell_type": "markdown",
   "metadata": {},
   "source": [
    "As you can see in the above graphs and printed linear regression slopes, the Hits, Home Runs, and Plate Appearences variables had the greatest relationship with the wins variable at 0.094, 0.137, and 0.117, respectively.\n",
    "\n",
    "Of these three variables, it is important to note that although Plate Appearences is technically an individual statistic for Jeter, it is really a representation of the team's offensive success in any given game. If everyone on the team gets on base, that means that no one is recording an out, which enables Jeter to record more plate appearences. For this reason, the Plate Appearences variable is not a major indicator of how Jeter independently contributed to Yankee wins.\n",
    "\n",
    "Next, some context is important in relation to the Home Runs variable. In creating a baseball lineup, each hitter typically has a specific role based on their offensive strengths. For example, the leadoff hitter's responsibility is to get on base any way possible, while your third or fourth hitters are typically your power hitters who are more likely to hit a home run, thus maximizing scoring potential. Throughout his career, Jeter was a leadoff hitter, so he was not expected to hit many homeruns. Thus, in games where he did record a home run, it provided a somewhat unexpected offensive boost, which logically corresponds to a higher likelihood of a win.\n",
    "\n",
    "Based off the above logic, it makes sense that Hits would also have a fairly high corelation with Wins because if Jeter does his job, then the Yankees are one step closer to winning each game that they play. As a result of this high corelation and the fact that his primary offensive responsibility was to get on base, this relationship is extremely important.\n",
    "\n",
    "Thus, Jeter most contributed to Yankee wins via Home Runs and hits."
   ]
  },
  {
   "cell_type": "markdown",
   "metadata": {},
   "source": [
    "# ANALYSIS"
   ]
  },
  {
   "cell_type": "markdown",
   "metadata": {},
   "source": [
    "## Maybe put a bar graph separate to linreg to show data in another way"
   ]
  },
  {
   "cell_type": "code",
   "execution_count": null,
   "metadata": {
    "scrolled": true
   },
   "outputs": [],
   "source": [
    "jeter_total_PA = jeter.PA.sum()\n",
    "jeter_total_hits = jeter.H.sum()\n",
    "jeter_hit_to_PA_ratio = jeter_total_hits/jeter_total_PA\n",
    "print('Derek Jeters ratio of hits per plate appearance is: {:.3f}'.format(jeter_hit_to_PA_ratio))\n",
    "print('This means that on average it takes Derek Jeter 3.63 plate appearances in order for him to register one hit')\n",
    "jeter_total_HR = jeter.HR.sum()\n",
    "print(\"Derek Jeter's ratio of homeruns to hits is: {:.3f}\".format(jeter_total_HR/jeter_total_hits))\n",
    "print('So this means only every 3.63 plate appearances he gets a hit, and only every 0.075 hits he gets a homerun.')\n",
    "print('The percentage that Jeter gets a homerun when he is up to bat: {:,.2%}'.format(jeter_total_HR/jeter_total_PA))"
   ]
  },
  {
   "cell_type": "markdown",
   "metadata": {},
   "source": [
    "This is a very low percentage for homeruns, but as we know Jeter is not a power hitter so this makes sense. Now we will look at Jeter over each year of his career to get more details about his performance."
   ]
  },
  {
   "cell_type": "markdown",
   "metadata": {},
   "source": [
    "# Derek Jeter Yearly Stats"
   ]
  },
  {
   "cell_type": "code",
   "execution_count": null,
   "metadata": {
    "scrolled": true
   },
   "outputs": [],
   "source": [
    "def totals_per_year(stat):\n",
    "    np.arange(jeter[\"Year\"].min(),jeter[\"Year\"].max())\n",
    "    num_year = jeter.groupby('Year').sum()\n",
    "    years_played = jeter[\"Year\"].unique()\n",
    "    plt.bar(x = years_played, height = num_year[stat])\n",
    "    plt.xlabel('Years')\n",
    "    plt.ylabel(stat)\n",
    "    plt.title(\"Jeter's \"+stat+ \" Totals per Year\")\n",
    "    plt.xticks(np.arange(min(years_played), max(years_played)+1, 2.0))\n",
    "    plt.show()"
   ]
  },
  {
   "cell_type": "code",
   "execution_count": null,
   "metadata": {
    "scrolled": true
   },
   "outputs": [],
   "source": [
    "#This function returns the top three statistical years for a given category named by a parameter called stat1\n",
    "def top_three_stat_years(stat1):\n",
    "    num_year = jeter.groupby('Year').sum()\n",
    "    stat1_ranking = num_year[stat1].rank()\n",
    "    stat1_sorted = sorted(stat1_ranking, reverse = True)\n",
    "    print('The year Jeter had the most '+ stat1 +  ' was',str(num_year[stat1_ranking == stat1_sorted[0]].index.values[0]))\n",
    "    print('The year Jeter had the second most '+ stat1 +  ' was',str(num_year[stat1_ranking == stat1_sorted[1]].index.values[0]))\n",
    "    print('The year Jeter had the third most '+ stat1 +  ' was',str(num_year[stat1_ranking == stat1_sorted[2]].index.values[0]))"
   ]
  },
  {
   "cell_type": "code",
   "execution_count": null,
   "metadata": {
    "scrolled": false
   },
   "outputs": [],
   "source": [
    "totals_per_year('H')"
   ]
  },
  {
   "cell_type": "code",
   "execution_count": null,
   "metadata": {
    "scrolled": true
   },
   "outputs": [],
   "source": [
    "top_three_stat_years('H')"
   ]
  },
  {
   "cell_type": "code",
   "execution_count": null,
   "metadata": {
    "scrolled": true
   },
   "outputs": [],
   "source": [
    "totals_per_year('BB')"
   ]
  },
  {
   "cell_type": "code",
   "execution_count": null,
   "metadata": {
    "scrolled": true
   },
   "outputs": [],
   "source": [
    "top_three_stat_years('BB')"
   ]
  },
  {
   "cell_type": "code",
   "execution_count": null,
   "metadata": {
    "scrolled": true
   },
   "outputs": [],
   "source": [
    "totals_per_year('HR')"
   ]
  },
  {
   "cell_type": "code",
   "execution_count": null,
   "metadata": {
    "scrolled": true
   },
   "outputs": [],
   "source": [
    "top_three_stat_years('HR')"
   ]
  },
  {
   "cell_type": "code",
   "execution_count": null,
   "metadata": {
    "scrolled": false
   },
   "outputs": [],
   "source": [
    "totals_per_year('SB')"
   ]
  },
  {
   "cell_type": "code",
   "execution_count": null,
   "metadata": {
    "scrolled": true
   },
   "outputs": [],
   "source": [
    "top_three_stat_years('SB')"
   ]
  },
  {
   "cell_type": "code",
   "execution_count": null,
   "metadata": {
    "scrolled": true
   },
   "outputs": [],
   "source": [
    "totals_per_year('win')"
   ]
  },
  {
   "cell_type": "code",
   "execution_count": null,
   "metadata": {
    "scrolled": true
   },
   "outputs": [],
   "source": [
    "top_three_stat_years('win')"
   ]
  },
  {
   "cell_type": "markdown",
   "metadata": {},
   "source": [
    "Derek Jeter's best year of performance was 1999, where he had his career high hits, walks, and homeruns. "
   ]
  },
  {
   "cell_type": "markdown",
   "metadata": {},
   "source": [
    "To further look at Jeter's contributions and importance to the NY Yankees, will will be using his 1999 season to compare to other players in the same season. This will allow us to compare his batting statistics with other players who batted similarly well in 1999 (according to ESPN's batting leaders 1999 https://www.espn.com/mlb/history/leaders/_/breakdown/season/year/1999) to see if he contributed more to a team win than other players who also batted well. \n",
    "\n",
    "The reset_index applied to jeter_1999 resets the index of the new dataframe to zero so that it may be compared to players Williams and Garciaparra later on. Indicies with identical starting points are required for direct comparison."
   ]
  },
  {
   "cell_type": "code",
   "execution_count": null,
   "metadata": {
    "scrolled": false
   },
   "outputs": [],
   "source": [
    "jeter_1999 = jeter.loc[jeter['Year'] == 1999]\n",
    "jeter_1999 = jeter_1999.reset_index(drop = True)\n",
    "jeter_1999.head()"
   ]
  },
  {
   "cell_type": "markdown",
   "metadata": {},
   "source": [
    "### Comparing his 1999 Season to his Career"
   ]
  },
  {
   "cell_type": "code",
   "execution_count": null,
   "metadata": {
    "scrolled": false
   },
   "outputs": [],
   "source": [
    "plt.hist(jeter['H'], align = 'left',width=.9)\n",
    "plt.hist(jeter_1999['H'], align = \"left\",  width=.9)\n",
    "plt.show()"
   ]
  },
  {
   "cell_type": "markdown",
   "metadata": {},
   "source": [
    "We have modeled the distribution of Jeter's hits in his career compared to the distribution of his hits in 1999, one of his best hitting seasons. Although the distribution roughly follows the same shape, the discrepancy between one hit games and two hit games is proportionally smaller in the 1999 season, leading us to the conclusion that Jeter had more multi-hit games in this season compared to his career average."
   ]
  },
  {
   "cell_type": "markdown",
   "metadata": {},
   "source": [
    "### Poisson Distribution"
   ]
  },
  {
   "cell_type": "code",
   "execution_count": null,
   "metadata": {},
   "outputs": [],
   "source": [
    "# does 1999 data conform to poisson distribution?\n",
    "print(jeter_1999['H'].mean(), jeter_1999['H'].var())"
   ]
  },
  {
   "cell_type": "markdown",
   "metadata": {},
   "source": [
    "In probability theory and statistics, the Poisson distribution, named after French mathematician Siméon Denis Poisson, is a discrete probability distribution that expresses the probability of a given number of events occurring in a fixed interval of time or space if these events occur with a known constant mean rate and independently of the time since the last event. A characteristic of a Poisson Distribution is when the mean and the variance are similar. Based on these findings, it is unlikely that a Poisson Distribution is plausible."
   ]
  },
  {
   "cell_type": "code",
   "execution_count": null,
   "metadata": {},
   "outputs": [],
   "source": [
    "# is the observed variance plausibly compatible with poisson?\n",
    "season_vars = np.zeros(1000)\n",
    "for season in range(1000):\n",
    "   season_vars[season] = np.random.poisson(jeter_1999['H'].mean(), size=len(jeter_1999['H'])).var()"
   ]
  },
  {
   "cell_type": "code",
   "execution_count": null,
   "metadata": {},
   "outputs": [],
   "source": [
    "plt.hist(season_vars, bins=30)\n",
    "plt.vlines(x=jeter_1999['H'].var(), ymin=0, ymax=90, color='darkred')\n",
    "plt.show()"
   ]
  },
  {
   "cell_type": "markdown",
   "metadata": {},
   "source": [
    "This histogram shows confirms our fears that our data does not fit a Poisson Distribution. This means Jeter's performance is not independent of each other. This means we could not predict his performance as it is not consistent."
   ]
  },
  {
   "cell_type": "markdown",
   "metadata": {},
   "source": [
    "# Comparing Jeter to Rodriguez"
   ]
  },
  {
   "cell_type": "markdown",
   "metadata": {},
   "source": [
    "##### Jeter's Impact on Wins When Stealing 1 Base"
   ]
  },
  {
   "cell_type": "code",
   "execution_count": null,
   "metadata": {
    "scrolled": true
   },
   "outputs": [],
   "source": [
    "lr = LinearRegression()\n",
    "model = lr.fit(jeter[['1SB']], jeter['win'])\n",
    "slope = model.coef_[0]\n",
    "print(\"The regression slope of the stolen bases variable is {:.2f}\".format(slope))"
   ]
  },
  {
   "cell_type": "markdown",
   "metadata": {},
   "source": [
    "##### Rodriguez's Impact on Wins When Stealing 1 Base"
   ]
  },
  {
   "cell_type": "code",
   "execution_count": null,
   "metadata": {
    "scrolled": true
   },
   "outputs": [],
   "source": [
    "lr = LinearRegression()\n",
    "model = lr.fit(rodriguez[['1SB']], rodriguez['win'])\n",
    "slope = model.coef_[0]\n",
    "print(\"The regression slope of the stolen bases variable is {:.2f}\".format(slope))"
   ]
  },
  {
   "cell_type": "markdown",
   "metadata": {},
   "source": [
    "According to these calculated numbers, when Derek Jeter had 1 steal in a game, he had a minimally lesser impact on the wins of his team than when Alex Rodriguez had 1 steal in a game. Examining the regression slopes relating wins to 1 stolen bases, Jeter's is 0.08 while Rodriguez's is 0.09. Although small, Rodriguez contributed to the team wins slightly more than Jeter."
   ]
  },
  {
   "cell_type": "markdown",
   "metadata": {},
   "source": [
    "##### Comparing the PA to Hit ratio of Rodriguez and Jeter"
   ]
  },
  {
   "cell_type": "code",
   "execution_count": null,
   "metadata": {
    "scrolled": true
   },
   "outputs": [],
   "source": [
    "rodriguez_total_PA = rodriguez.PA.sum()\n",
    "rodriguez_total_hits = rodriguez.H.sum()\n",
    "rodriguez_hit_to_PA_ratio = rodriguez_total_hits/rodriguez_total_PA\n",
    "print(\"Alex Rodriguez's career hit to plate appearance ratio is {:.3f}\".format(rodriguez_hit_to_PA_ratio))\n",
    "print(\"Derek Jeter's career hit to plate appearance ration is {:.3f}\".format(jeter_hit_to_PA_ratio))"
   ]
  },
  {
   "cell_type": "markdown",
   "metadata": {},
   "source": [
    "This means that Derek Jeter is on average a more efficient hitter, registering more hits per plate appearance than Alex Rodriguez. But what about in each of their best seasons? Which of these two greats was greater in their prime?"
   ]
  },
  {
   "cell_type": "code",
   "execution_count": null,
   "metadata": {
    "scrolled": true
   },
   "outputs": [],
   "source": [
    "def top_three_stat_years_arod(stat1):\n",
    "    num_year = rodriguez.groupby('Year').sum()\n",
    "    stat1_ranking = num_year[stat1].rank()\n",
    "    stat1_sorted = sorted(stat1_ranking, reverse = True)\n",
    "    print('The year Rodriguez had the most '+ stat1 +  ' was',str(num_year[stat1_ranking == stat1_sorted[0]].index.values[0]))\n",
    "    print('The year Rodriguez had the second most '+ stat1 +  ' was',str(num_year[stat1_ranking == stat1_sorted[1]].index.values[0]))\n",
    "    print('The year Rodriguez had the third most '+ stat1 +  ' was',str(num_year[stat1_ranking == stat1_sorted[2]].index.values[0]))"
   ]
  },
  {
   "cell_type": "code",
   "execution_count": null,
   "metadata": {
    "scrolled": true
   },
   "outputs": [],
   "source": [
    "top_three_stat_years_arod('H')"
   ]
  },
  {
   "cell_type": "code",
   "execution_count": null,
   "metadata": {
    "scrolled": true
   },
   "outputs": [],
   "source": [
    "top_three_stat_years_arod('HR')"
   ]
  },
  {
   "cell_type": "code",
   "execution_count": null,
   "metadata": {
    "scrolled": true
   },
   "outputs": [],
   "source": [
    "top_three_stat_years_arod('win')"
   ]
  },
  {
   "cell_type": "markdown",
   "metadata": {},
   "source": [
    "Alex Rodriguez's best year for hitting was 1996, and Derek Jeter's best hitting year was 1999, so let's compare the hit to PA ratio of the two between these two years to see who was greater in their prime."
   ]
  },
  {
   "cell_type": "code",
   "execution_count": null,
   "metadata": {
    "scrolled": true
   },
   "outputs": [],
   "source": [
    "rodriguez_1996 = rodriguez.loc[rodriguez.Year == 1996]\n",
    "#rodriguez calculations\n",
    "rodriguez_total_PA_1996 = rodriguez_1996.PA.sum()\n",
    "rodriguez_total_hits_1996 = rodriguez_1996.H.sum()\n",
    "rodriguez_hit_to_PA_ratio_1996 = rodriguez_total_hits_1996/rodriguez_total_PA_1996\n",
    "print(\"Alex Rodriguez's hit to PA ratio in his greatest year of hitting (1996) was: {:.2f}\".format(rodriguez_hit_to_PA_ratio_1996))\n",
    "#jeter calculations\n",
    "jeter_total_PA_1999 = jeter_1999.PA.sum()\n",
    "jeter_total_hits_1999 = jeter_1999.H.sum()\n",
    "jeter_hit_to_PA_ratio_1999 = jeter_total_hits_1999/jeter_total_PA_1999\n",
    "print(\"Derek Jeter's hit to PA ratio in his greatest year of hitting (1999) was: {:.2f}\".format(jeter_hit_to_PA_ratio_1999))"
   ]
  },
  {
   "cell_type": "markdown",
   "metadata": {},
   "source": [
    "What we can tell from this information is that in their primes, Alex Rodriguez was a more efficient hitter than Derek Jeter, registering a hit about every 3.13 times he was at bat, whereas Jeter registered a hit about every 3.33 times he was at bat, not too far off, but definitely less. Did this difference affect how much these players helped their team win? The limitations of our data limit the conclusion we can make but Rodriguez once again comes out on top of Jeter."
   ]
  },
  {
   "cell_type": "markdown",
   "metadata": {},
   "source": [
    "# Comparing Jeter to Williams and Garciaparra"
   ]
  },
  {
   "cell_type": "markdown",
   "metadata": {},
   "source": [
    "Now after selecting the same variables as we used with Jeter, we can use these statistics to compare the contribution that Jeter made to players Bernie Williams and Nomar Garciaparra, who batted similarly well in the 1999 season. (Jeter's best statistical season)"
   ]
  },
  {
   "cell_type": "code",
   "execution_count": null,
   "metadata": {
    "scrolled": false
   },
   "outputs": [],
   "source": [
    "plt.figure(figsize=(10,5))\n",
    "plt.plot(garciaparra['Rk'], np.cumsum(garciaparra['H']), color = 'green', label='Garciaparra')\n",
    "plt.plot(jeter_1999['Rk'], np.cumsum(jeter_1999['H']), color = 'red', label='Jeter')\n",
    "plt.plot(williams['Rk'], np.cumsum(williams['H']), color = 'blue', alpha = 0.6, label='Williams')\n",
    "plt.ylabel('Cumulative Hits during the season')\n",
    "plt.xlabel('Games Played')\n",
    "plt.title('Hits Comared to Games Played', fontsize=25)\n",
    "plt.legend()\n",
    "plt.show()"
   ]
  },
  {
   "cell_type": "code",
   "execution_count": null,
   "metadata": {
    "scrolled": true
   },
   "outputs": [],
   "source": [
    "print('Jeter total hits in 1999: ', jeter_1999.H.sum())\n",
    "print('Williams total hits in 1999: ', williams.H.sum())\n",
    "print('Garciaparra total hits in 1999: ', garciaparra.H.sum())"
   ]
  },
  {
   "cell_type": "markdown",
   "metadata": {},
   "source": [
    "From this initial analysis of total hits vs total games played for the 1999 season for all of these players, we can see that the green line, representing Williams has the lowest slope but still has more hits than Garciaparra, the green line. But Jeter, the red line had a slightly larger slope and ended higher meaning he got more hits, and more hits per game. Our calculations confirm that Jeter came out on top with 219 hits, with Williams having 202, and Garciaparra with the lowest, 190. But a hit does not gain a point in the game of baseball. What does? Homeruns."
   ]
  },
  {
   "cell_type": "code",
   "execution_count": null,
   "metadata": {
    "scrolled": true
   },
   "outputs": [],
   "source": [
    "print('Jeter total homeruns in 1999: ', jeter_1999.HR.sum())\n",
    "print('Williams total homeruns in 1999: ', williams.HR.sum())\n",
    "print('Garciaparra total homeruns in 1999: ', garciaparra.HR.sum())"
   ]
  },
  {
   "cell_type": "code",
   "execution_count": null,
   "metadata": {
    "scrolled": true
   },
   "outputs": [],
   "source": [
    "print('Jeter homerun to hit ratio in 1999: {:.4f}'.format(jeter_1999.HR.sum()/jeter_1999.H.sum()))\n",
    "print('Williams homerun to hit ratio in 1999: {:.4f}'.format(williams.HR.sum()/williams.H.sum()))\n",
    "print('Garciaparra homerun to hit ratio in 1999: {:.4f}'.format(garciaparra.HR.sum()/garciaparra.H.sum()))\n",
    "\n",
    "data = [['Jeter', jeter_1999.HR.sum()/jeter_1999.H.sum()], ['Williams', williams.HR.sum()/williams.H.sum()], ['Garciaparra', garciaparra.HR.sum()/garciaparra.H.sum()]]\n",
    "ratios = pd.DataFrame(data, columns = ['Name', 'Ratio'])\n",
    "plt.bar(x=ratios['Name'], height=ratios['Ratio'])\n",
    "plt.ylabel('Homerun to Hit Ratio')\n",
    "plt.show()"
   ]
  },
  {
   "cell_type": "markdown",
   "metadata": {},
   "source": [
    "Using the total homeruns and hits from each player, we calculated the ratio of homeruns to hits. This number represents the probability that if a player records a hit, it is a home run. Jeter's is less than Williams's, whom has the next lowest. This still makes sense, as Jeter was never a power hitter. "
   ]
  },
  {
   "cell_type": "markdown",
   "metadata": {},
   "source": [
    "Derek Jeter although finishing on top with hits falls short when it comes to homeruns. Only having 24 homeruns for his peak season may seem like Jeter was not as beneficaial of a player as he gets recognition for. However, it is important to note that Williams and Garciaparra were both middle of the lineup players who typically hit with more power, while Jeter was a leadoff man who's primary offensive goal was to get on base in order to get driven in by the players who were more likely to record an extra base hit, allowing Jeter to score from any base."
   ]
  },
  {
   "cell_type": "markdown",
   "metadata": {},
   "source": [
    "# Conclusion and Interpretations"
   ]
  },
  {
   "cell_type": "code",
   "execution_count": null,
   "metadata": {
    "scrolled": false
   },
   "outputs": [],
   "source": [
    "compare_WPA = pd.DataFrame(columns = ['Jeter', 'Williams', 'Garciaparra', 'Rodriguez'])\n",
    "\n",
    "rodriguez_1996 = rodriguez_1996.reset_index(drop = True)\n",
    "\n",
    "compare_WPA['Jeter'] = jeter_1999.WPA\n",
    "compare_WPA['Williams'] = williams.WPA\n",
    "compare_WPA['Garciaparra'] = garciaparra.WPA\n",
    "compare_WPA['Rodriguez'] = rodriguez_1996.WPA\n",
    "\n",
    "print(\"Jeter's total WPA over the 1999 season: \", compare_WPA['Jeter'].sum())\n",
    "print(\"Williams' total WPA over the 1999 season: {:.3f}\".format(compare_WPA['Williams'].sum()))\n",
    "print(\"Garciaparra's total WPA over the 1999 season: \", compare_WPA['Garciaparra'].sum())\n",
    "print(\"Rodriguez's total WPA over the 1996 season: \", compare_WPA['Rodriguez'].sum())\n",
    "\n",
    "compare_WPA['Jeter_4'] = compare_WPA['Jeter'].expanding(min_periods=4).mean()\n",
    "compare_WPA['Williams_4'] = compare_WPA['Williams'].expanding(min_periods=4).mean()\n",
    "compare_WPA['Garciaparra_4'] = compare_WPA['Garciaparra'].expanding(min_periods=4).mean()\n",
    "compare_WPA['Rod_4'] = compare_WPA['Rodriguez'].expanding(min_periods=4).mean()\n",
    "compare_WPA.head()\n",
    "\n",
    "plt.figure(figsize=[15,10])\n",
    "plt.grid(True)\n",
    "plt.plot(compare_WPA['Jeter_4'],label='Jeter WPA', color='blue')\n",
    "\n",
    "\n",
    "plt.grid(True)\n",
    "plt.plot(compare_WPA['Williams_4'],label='Williams WPA', color='magenta')\n",
    "\n",
    "plt.grid(True)\n",
    "plt.plot(compare_WPA['Garciaparra_4'],label='Garciaparra WPA', color='cyan')\n",
    "\n",
    "plt.grid(True)\n",
    "plt.plot(compare_WPA['Rod_4'],label='Rodriguez WPA', color='green')\n",
    "\n",
    "plt.axhline(y=0, color='red', linestyle='dashed')\n",
    "\n",
    "plt.title('Comparing WPA over the selected season for each player', fontsize=25)\n",
    "plt.legend(loc=2)\n",
    "plt.show()"
   ]
  },
  {
   "cell_type": "markdown",
   "metadata": {},
   "source": [
    "This plot includes the moving averages for Jeter, Garciaparra, and Williams for the 1999 season, and Rodriguez for the 1996 season. In statistics, a moving average is a calculation to analyze data points by creating a series of averages of different subsets of the full data set. The moving average is mostly used with time series data to capture the short-term fluctuations while focusing on longer trends. We used this to smoothen the data and make the trends more clear. WPA meaning win probability added will be negative for a loss and postive for a win. We added in a dashed line when the WPA equals zero to see if the player contributed positively or negatively for the majority of the season. Jeter seems to have the most positive contributions, next Rodriguez, then Williams, and finally Garciaparra. And looking at the total sum of the players WPA over the selected season, Jeter contributes significantly more with a sum of over 6, while Rodriguez is only around 4, and the other 2 players are below 3. \n",
    "\n",
    "\n",
    "Looking broadly at these four players this makes sense. Although we found that Jeter is not an all star hitter, overall through contributions besides homeruns and the recorded stats we used, he has contributed more towards the Yankees wins than Rodriguez, Williams and Garciaparra. He may have been less valuable when up to bat, but he made up for it through his fielding performance. Although he still contributed through his batting, just was not a leading hitter. So in the end we found, Derek Jeter is not the Jack of all Trades. He does not perform as well on offense as he does on defense. But he will always be known as one of the best of all time.\n"
   ]
  }
 ],
 "metadata": {
  "kernelspec": {
   "display_name": "Python 3",
   "language": "python",
   "name": "python3"
  },
  "language_info": {
   "codemirror_mode": {
    "name": "ipython",
    "version": 3
   },
   "file_extension": ".py",
   "mimetype": "text/x-python",
   "name": "python",
   "nbconvert_exporter": "python",
   "pygments_lexer": "ipython3",
   "version": "3.7.6"
  }
 },
 "nbformat": 4,
 "nbformat_minor": 4
}
